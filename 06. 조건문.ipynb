{
 "cells": [
  {
   "cell_type": "markdown",
   "metadata": {},
   "source": [
    "### 학습목표\n",
    " * if 조건문의 이해하고 활용할 수 있다."
   ]
  },
  {
   "cell_type": "markdown",
   "metadata": {},
   "source": [
    "#### 조건문\n",
    " + 조건에 따라서 다르게 수행해야할 경우에 사용한다.\n",
    " + 조건문의 결과는 boolean(참, 거짓)으로 표현 된다. \n",
    " + if, elif, else 키워드를 사용한다.\n",
    " + if, elif, else 블록에 종속된 코드는 들여쓰기로 표현한다.\n",
    " + 들여쓰기 된 코드를 블록(block), 또는 코드블록이라고 한다.\n",
    " + if 조건 : 문법으로 사용한다.\n",
    "\n",
    "```python\n",
    "if 조건문:\n",
    "    수행할 문장1\n",
    "    수행할 문장2\n",
    "    ...\n",
    "else:\n",
    "    수행할 문장A\n",
    "    수행할 문장B\n",
    "    ...\n",
    "```"
   ]
  },
  {
   "cell_type": "code",
   "execution_count": 2,
   "metadata": {},
   "outputs": [
    {
     "name": "stdout",
     "output_type": "stream",
     "text": [
      "not good\n"
     ]
    }
   ],
   "source": [
    "a = 20\n",
    "\n",
    "if a == 10:\n",
    "    print(\"good\")\n",
    "    \n",
    "else:\n",
    "    print(\"not good\")"
   ]
  },
  {
   "cell_type": "code",
   "execution_count": 16,
   "metadata": {},
   "outputs": [
    {
     "name": "stdout",
     "output_type": "stream",
     "text": [
      "숫자(정수)를 입력하세요 5\n",
      "숫자가 1보다 큽니다\n"
     ]
    }
   ],
   "source": [
    "s = int(input(\"숫자(정수)를 입력하세요 \"))\n",
    "\n",
    "\n",
    "if 20 < s < 30:\n",
    "    print(\"숫자가 20보다 큽니다\")\n",
    "    \n",
    "elif 10 < s < 20:\n",
    "    print(\"숫자가 10보다 큽니다\")\n",
    "        \n",
    "elif 1 < s < 10:\n",
    "    print(\"숫자가 1보다 큽니다\")\n",
    "    \n",
    "else: \n",
    "    print(\"측정 불가합니다\")\n",
    "        \n",
    "        \n"
   ]
  },
  {
   "cell_type": "code",
   "execution_count": 9,
   "metadata": {},
   "outputs": [
    {
     "data": {
      "text/plain": [
       "False"
      ]
     },
     "execution_count": 9,
     "metadata": {},
     "output_type": "execute_result"
    }
   ],
   "source": [
    "a = 0\n",
    "\n",
    "bool(a)"
   ]
  },
  {
   "cell_type": "code",
   "execution_count": 10,
   "metadata": {},
   "outputs": [
    {
     "data": {
      "text/plain": [
       "False"
      ]
     },
     "execution_count": 10,
     "metadata": {},
     "output_type": "execute_result"
    }
   ],
   "source": [
    "list_a = []\n",
    "bool(list_a)"
   ]
  },
  {
   "cell_type": "code",
   "execution_count": 11,
   "metadata": {},
   "outputs": [
    {
     "data": {
      "text/plain": [
       "True"
      ]
     },
     "execution_count": 11,
     "metadata": {},
     "output_type": "execute_result"
    }
   ],
   "source": [
    "# 파이썬 bool()은 값이 없으면 False를, 있으면 True를 출력한다\n",
    "\n",
    "list_a = [1]\n",
    "bool(list_a)"
   ]
  },
  {
   "cell_type": "code",
   "execution_count": 13,
   "metadata": {},
   "outputs": [
    {
     "name": "stdout",
     "output_type": "stream",
     "text": [
      "ggg\n"
     ]
    }
   ],
   "source": [
    "\n",
    "if list_a :\n",
    "    print(\"ggg\")"
   ]
  },
  {
   "cell_type": "code",
   "execution_count": 14,
   "metadata": {},
   "outputs": [
    {
     "data": {
      "text/plain": [
       "True"
      ]
     },
     "execution_count": 14,
     "metadata": {},
     "output_type": "execute_result"
    }
   ],
   "source": [
    "# 파이썬은 1만이 불리언 함수에서 트루라고 인식한다\n",
    "1 == True"
   ]
  },
  {
   "cell_type": "code",
   "execution_count": 15,
   "metadata": {
    "scrolled": true
   },
   "outputs": [
    {
     "data": {
      "text/plain": [
       "False"
      ]
     },
     "execution_count": 15,
     "metadata": {},
     "output_type": "execute_result"
    }
   ],
   "source": [
    "2 == True"
   ]
  },
  {
   "cell_type": "markdown",
   "metadata": {},
   "source": [
    "- #### **비교연산자** \n",
    "    + <, >, ==, !=, >=, <= "
   ]
  },
  {
   "cell_type": "code",
   "execution_count": 3,
   "metadata": {},
   "outputs": [
    {
     "name": "stdout",
     "output_type": "stream",
     "text": [
      "0\n"
     ]
    }
   ],
   "source": [
    "a = 0\n",
    "if a != 10:\n",
    "    print(a)"
   ]
  },
  {
   "cell_type": "markdown",
   "metadata": {},
   "source": [
    "* AND, OR, NOT \n",
    "  - 조건문에 사용되는 조건의 경우, boolean이기 때문에, 논리식 AND, OR, NOT 이 사용가능하다.\n",
    "  - AND : 모든 조건이 참일 때만 참.  \n",
    "  - OR : 둘 중 하나만 참이어도 참.\n",
    "  - NOT : 거짓이면 참. 참이면 거짓. \n",
    "  \n",
    "* 논리표 \n",
    "\n",
    "|            A  |           B |      AND  |        OR |       NOT A|\n",
    "|:--: |:--:|:--:|:--:|:--:|\n",
    "|T|T|T|T|F|\n",
    "|T|F|F|T|F|\n",
    "|F|T|F|T|T|\n",
    "|F|F|F|F|T|\n",
    "\n",
    "* 우선순위\n",
    "  - NOT > AND > OR"
   ]
  },
  {
   "cell_type": "code",
   "execution_count": 5,
   "metadata": {},
   "outputs": [
    {
     "name": "stdout",
     "output_type": "stream",
     "text": [
      "대상자 아님\n"
     ]
    }
   ],
   "source": [
    "name = \"kang\"\n",
    "\n",
    "score = 100\n",
    "\n",
    "if name==\"kim\" and score==100 :\n",
    "    print(\"합격\")\n",
    "    \n",
    "else:\n",
    "    print(\"대상자 아님\")"
   ]
  },
  {
   "cell_type": "code",
   "execution_count": 6,
   "metadata": {},
   "outputs": [
    {
     "name": "stdout",
     "output_type": "stream",
     "text": [
      "합격\n"
     ]
    }
   ],
   "source": [
    "name = \"kang\"\n",
    "\n",
    "score = 100\n",
    "\n",
    "if name==\"kim\" or score==100 :\n",
    "    print(\"합격\")\n",
    "    \n",
    "else:\n",
    "    print(\"대상자 아님\")"
   ]
  },
  {
   "cell_type": "code",
   "execution_count": 7,
   "metadata": {},
   "outputs": [
    {
     "name": "stdout",
     "output_type": "stream",
     "text": [
      "합격\n"
     ]
    }
   ],
   "source": [
    "name = \"kang\"\n",
    "\n",
    "score = 100\n",
    "\n",
    "if not name==\"kim\" and score==100 :\n",
    "    print(\"합격\")\n",
    "    \n",
    "else:\n",
    "    print(\"대상자 아님\")"
   ]
  },
  {
   "cell_type": "code",
   "execution_count": 8,
   "metadata": {},
   "outputs": [
    {
     "name": "stdout",
     "output_type": "stream",
     "text": [
      "합격\n"
     ]
    }
   ],
   "source": [
    "name = \"kang\"\n",
    "\n",
    "score = 100\n",
    "\n",
    "if not name==\"kim\" or score==100 :\n",
    "    print(\"합격\")\n",
    "    \n",
    "else:\n",
    "    print(\"대상자 아님\")"
   ]
  },
  {
   "cell_type": "code",
   "execution_count": 10,
   "metadata": {},
   "outputs": [
    {
     "name": "stdout",
     "output_type": "stream",
     "text": [
      "대상자 아님\n"
     ]
    }
   ],
   "source": [
    "# 괄호 안의 구문이 먼저 실행되어 True가 나왔지만, 앞의 not 때문에 False로 변환되어 출력됨.\n",
    "\n",
    "name = \"kang\"\n",
    "\n",
    "score = 100\n",
    "\n",
    "if not (name==\"kim\" or score==100) :\n",
    "    print(\"합격\")\n",
    "    \n",
    "else:\n",
    "    print(\"대상자 아님\")"
   ]
  },
  {
   "cell_type": "markdown",
   "metadata": {},
   "source": [
    "- #### in, not in"
   ]
  },
  {
   "cell_type": "code",
   "execution_count": 17,
   "metadata": {},
   "outputs": [
    {
     "name": "stdout",
     "output_type": "stream",
     "text": [
      "2\n"
     ]
    }
   ],
   "source": [
    "a = 2\n",
    "\n",
    "if a in [1,2,3] :\n",
    "    print(a)"
   ]
  },
  {
   "cell_type": "code",
   "execution_count": 19,
   "metadata": {},
   "outputs": [
    {
     "name": "stdout",
     "output_type": "stream",
     "text": [
      "5\n"
     ]
    }
   ],
   "source": [
    "a = 5\n",
    "\n",
    "if a not in [1,2,3] :\n",
    "    print(a)"
   ]
  },
  {
   "cell_type": "markdown",
   "metadata": {},
   "source": [
    "- #### pass\n",
    "    - 조건문에서 아무일도 하지 않는다. \n",
    "    "
   ]
  },
  {
   "cell_type": "code",
   "execution_count": 20,
   "metadata": {},
   "outputs": [
    {
     "name": "stdout",
     "output_type": "stream",
     "text": [
      "5\n"
     ]
    }
   ],
   "source": [
    "if a == 10:\n",
    "    pass\n",
    "else:\n",
    "    print(a)"
   ]
  },
  {
   "cell_type": "code",
   "execution_count": 21,
   "metadata": {
    "scrolled": true
   },
   "outputs": [
    {
     "name": "stdout",
     "output_type": "stream",
     "text": [
      "값을 입력하세요: 20\n",
      "아니다\n"
     ]
    }
   ],
   "source": [
    "i_value = int(input(\"값을 입력하세요: \"))\n",
    "if i_value > 20:\n",
    "    print(\"맞다\")\n",
    "else:\n",
    "    print(\"아니다\")"
   ]
  },
  {
   "cell_type": "code",
   "execution_count": 26,
   "metadata": {},
   "outputs": [
    {
     "name": "stdout",
     "output_type": "stream",
     "text": [
      "숫자(정수)를 입력하세요: 12378465132354684651\n",
      "홀수 입니다.\n"
     ]
    }
   ],
   "source": [
    "# 값을 하나 입력받아서 입력받은 값이 짝수라면 짝수입니다. 라고 출력하고,\n",
    "# 홀수라면 호수입니다 라고 출력해 보세요.\n",
    "\n",
    "j = int(input(\"숫자(정수)를 입력하세요: \"))\n",
    "\n",
    "if j%2==1 :  #--> j를 2로 나눈 나머지 값이 1일 경우(홀수)\n",
    "    print(\"홀수 입니다.\")\n",
    "\n",
    "elif j==0:\n",
    "    print(\"Zero 입니다\")\n",
    "    \n",
    "else:\n",
    "    print(\"짝수 입니다.\")\n",
    "    \n",
    "    "
   ]
  },
  {
   "cell_type": "markdown",
   "metadata": {},
   "source": [
    "#### if의 조건이 bool이 아닌 경우\n",
    " * 일반적으로는 조건문에는 bool이 주로 위치 한다.\n",
    " * 하지만, 정수, 실수, 문자열 리스트 등 기본 타입도 조건에 사용 가능하다\n",
    " * False로 간주되는 값 (각 타입의 기본값)\n",
    "     * None\n",
    "     * 0\n",
    "     * 0.0\n",
    "     * ''\n",
    "     * [] -> 빈 리스트\n",
    "     * () -> 빈 튜플\n",
    "     * {} -> 빈 딕셔너리\n",
    "     * set() -> 빈 집합\n",
    " * 그밖에는 모두 True로 간주"
   ]
  },
  {
   "cell_type": "code",
   "execution_count": 27,
   "metadata": {},
   "outputs": [
    {
     "name": "stdout",
     "output_type": "stream",
     "text": [
      "false\n"
     ]
    }
   ],
   "source": [
    "if []:\n",
    "    print(\"true\")\n",
    "else:\n",
    "    print(\"false\")"
   ]
  },
  {
   "cell_type": "markdown",
   "metadata": {},
   "source": [
    "#### if, else\n",
    "  - if가 아닌 경우, 나머지 조건을 표현하고 싶다면 바로 아래 else 문을 사용한다.\n",
    "  - if조건이 True인 경우에는 if 블록의 코드가 수행되고, 거짓인 경우 else 블록의 코드가 수행된다. "
   ]
  },
  {
   "cell_type": "code",
   "execution_count": 29,
   "metadata": {},
   "outputs": [
    {
     "name": "stdout",
     "output_type": "stream",
     "text": [
      "숫자(정수)를 입력하세요: 3\n",
      "1.5\n"
     ]
    }
   ],
   "source": [
    "# 짝수인 경우에는 2로 나눈 값을 출력하고\n",
    "# 홀수인 경우에는 1을 더한 값을 출력해라\n",
    "#input() 을 이용해서 값을 입력 받아서 처리하세요. \n",
    "# a % 2 == 0 \n",
    "\n",
    "\n",
    "i = int(input(\"숫자(정수)를 입력하세요: \"))\n",
    "\n",
    "if i%2==1:\n",
    "    print(i/2)\n",
    "else:\n",
    "    print(i+1)"
   ]
  },
  {
   "cell_type": "markdown",
   "metadata": {},
   "source": [
    "#### if, elif, else\n",
    "  - 조건이 여러개인 경우, 다음 조건을 elif 블록에 명시 가능하다.\n",
    "  - 이런 경우, 각 조건을 확인 후 True인 조건의 코드 블록을 실행 한다.\n",
    "  - elif는 개수에 제한없이 사용 가능하다.\n",
    "\n",
    "```python\n",
    "If 조건문:\n",
    "    수행할 문장1 \n",
    "    수행할 문장2\n",
    "    ...\n",
    "elif 조건문:\n",
    "    수행할 문장1\n",
    "    수행할 문장2>\n",
    "    ...\n",
    "elif 조건문:\n",
    "    수행할 문장1\n",
    "    수행할 문장2\n",
    "    ...\n",
    "...\n",
    "else:\n",
    "    수행할 문장1\n",
    "    수행할 문장2\n",
    "   ... \n",
    "```"
   ]
  },
  {
   "cell_type": "code",
   "execution_count": 38,
   "metadata": {},
   "outputs": [
    {
     "name": "stdout",
     "output_type": "stream",
     "text": [
      "숫자(정수)를 입력하세요: 4\n",
      "5 짝수입니다\n"
     ]
    }
   ],
   "source": [
    "#위에 문제 + 2의배수입니다, 3의배수 입니다\n",
    "\n",
    "i = int(input(\"숫자(정수)를 입력하세요: \"))\n",
    "\n",
    "\n",
    "    \n",
    "if i%3==0:\n",
    "    print(\"3의 배수입니다\")\n",
    "    \n",
    "elif i%5==0:\n",
    "    print(\"5의 배수입니다\")\n",
    "    \n",
    "elif i%2==1:\n",
    "    print(i/2,\"홀수입니다\")\n",
    "    \n",
    "else:\n",
    "    print(i+1,\"짝수입니다\")"
   ]
  },
  {
   "cell_type": "code",
   "execution_count": null,
   "metadata": {},
   "outputs": [],
   "source": []
  },
  {
   "cell_type": "markdown",
   "metadata": {},
   "source": [
    "#### 중첩 조건문(nested condition)\n",
    "  - 조건문의 경우 중첩하여 작성 가능하다.\n",
    "  - 중첩 개수에 제한이 없다."
   ]
  },
  {
   "cell_type": "code",
   "execution_count": 43,
   "metadata": {},
   "outputs": [
    {
     "name": "stdout",
     "output_type": "stream",
     "text": [
      "100001\n",
      "밥묵고 커피묵자\n"
     ]
    }
   ],
   "source": [
    "money = int(input(\"\"))\n",
    "\n",
    "if money > 7000 :\n",
    "    if money > 10000:\n",
    "        print(\"밥묵고 커피묵자\")\n",
    "    else:\n",
    "        print(\"밥묵고 잔다\")\n",
    "else:\n",
    "    print(\"밥만 묵자\")"
   ]
  },
  {
   "cell_type": "code",
   "execution_count": 44,
   "metadata": {},
   "outputs": [
    {
     "name": "stdout",
     "output_type": "stream",
     "text": [
      "ok\n"
     ]
    }
   ],
   "source": [
    "a = [1,2,3,4]\n",
    "\n",
    "if 3 in a:\n",
    "    print(\"ok\")\n",
    "else:\n",
    "    print(\"no\")\n"
   ]
  },
  {
   "cell_type": "markdown",
   "metadata": {},
   "source": [
    "#### 조건부 표현식 (conditional expression)\n",
    "- 조건부 표현식의 정의 방법\n",
    "\n",
    "```\n",
    " 조건문이 참인 경우 if 조건문 else 조건문이 거짓인 경우\n",
    "```\n",
    "- 예를 들면\n",
    "\n",
    "```\n",
    "if score >= 60:\n",
    "    message = \"pass\"\n",
    "else:\n",
    "    message = \"fail\"\n",
    "    \n",
    "```\n",
    "- 위와 같은 코드를 파이썬의 조건부 표현식을 이용해서 표기하면 아래와 같다. \n",
    "\n",
    "```\n",
    "message = \"pass\" if score >= 60 else \"fail\" \n",
    "```\n",
    "\n",
    "-  이런 조건부 표현식은 가독성이 좋고, 한줄로 작성가능해서 자주 사용 된다. "
   ]
  },
  {
   "cell_type": "code",
   "execution_count": 49,
   "metadata": {},
   "outputs": [],
   "source": [
    "score = 60\n",
    "\n",
    "message = \"pass\" if score >= 60 else \"fail\" \n",
    "\n"
   ]
  },
  {
   "cell_type": "code",
   "execution_count": null,
   "metadata": {},
   "outputs": [],
   "source": []
  }
 ],
 "metadata": {
  "kernelspec": {
   "display_name": "Python 3",
   "language": "python",
   "name": "python3"
  },
  "language_info": {
   "codemirror_mode": {
    "name": "ipython",
    "version": 3
   },
   "file_extension": ".py",
   "mimetype": "text/x-python",
   "name": "python",
   "nbconvert_exporter": "python",
   "pygments_lexer": "ipython3",
   "version": "3.8.8"
  }
 },
 "nbformat": 4,
 "nbformat_minor": 1
}
