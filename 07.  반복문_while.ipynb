{
 "cells": [
  {
   "cell_type": "markdown",
   "metadata": {},
   "source": [
    "## 학습목표\n",
    " * 반복문의 이해하고 활용할 수 있다. \n",
    " * while 문을 사용할 수 있다."
   ]
  },
  {
   "cell_type": "markdown",
   "metadata": {},
   "source": [
    "### loop (반복문)\n",
    " + 반복적인 작업을 가능하게 해주는 도구이다.\n",
    " + 특정 조건을 만족하는 경우 수행할 수 있다.\n",
    " + 리스트, 문자열, 튜플 등 컬렉션 타입의 아이템을 하나씩 순회하면서 사용 가능하다.\n",
    " + 코드 작업에서, 가장 많이 사용하는 구문 중 하나이다.\n",
    " + while을 사용할 경우, 반복문을 멈추게 할 문장이 필요하다. \n",
    "   + 그렇지 않으면 셀이 무한히 수행되며 이를 무한루프라고 한다.\n",
    "   + jupyter notebook의 재부팅이 필요\n",
    "   \n"
   ]
  },
  {
   "cell_type": "markdown",
   "metadata": {},
   "source": [
    "#### while 문\n",
    "  - while  조건이 True일 경우, while 코드 블록을 계속 수행한다.\n",
    "  - while 코드 블록\n",
    "    - if와 마찬가지로 while문 아래의 들여쓰기로 작성 된 부분을 의미한다.\n",
    "  - 조건이 False가 되면 블록 수행을 멈추고 이후 코드를 실행한다.\n",
    "  \n",
    "+ while문의 기본구조\n",
    " \n",
    " ```\n",
    " while 조건문 : \n",
    "     수행할 문장1\n",
    "     수행할 문장2\n",
    "     ....\n",
    " ```"
   ]
  },
  {
   "cell_type": "markdown",
   "metadata": {},
   "source": [
    "#### while 문을 이용한 리스트 출력하기"
   ]
  },
  {
   "cell_type": "code",
   "execution_count": 1,
   "metadata": {},
   "outputs": [
    {
     "name": "stdout",
     "output_type": "stream",
     "text": [
      "101\n",
      "102\n",
      "103\n",
      "104\n"
     ]
    }
   ],
   "source": [
    "a = [1,2,3,4]\n",
    "\n",
    "index = 0\n",
    "\n",
    "while index < len(a):\n",
    "    print(a[index]+100)\n",
    "    index += 1\n",
    "    \n",
    "\n",
    "\n",
    "\n",
    "\n"
   ]
  },
  {
   "cell_type": "markdown",
   "metadata": {},
   "source": [
    "#### while 실습\n",
    " 1. [1, 10, 9, 24, 25, 26] 리스트에서 20보다 큰 값만 출력하세요. \n",
    " 1. 위의 리스트에서 짝수인 경우만 출력하세요. "
   ]
  },
  {
   "cell_type": "code",
   "execution_count": 8,
   "metadata": {},
   "outputs": [
    {
     "ename": "SyntaxError",
     "evalue": "expression cannot contain assignment, perhaps you meant \"==\"? (<ipython-input-8-76863a03c1b9>, line 7)",
     "output_type": "error",
     "traceback": [
      "\u001b[1;36m  File \u001b[1;32m\"<ipython-input-8-76863a03c1b9>\"\u001b[1;36m, line \u001b[1;32m7\u001b[0m\n\u001b[1;33m    print(list_a[index].end=\"\\t\")\u001b[0m\n\u001b[1;37m          ^\u001b[0m\n\u001b[1;31mSyntaxError\u001b[0m\u001b[1;31m:\u001b[0m expression cannot contain assignment, perhaps you meant \"==\"?\n"
     ]
    }
   ],
   "source": [
    "list_a = [1, 10, 9, 24, 25, 26] \n",
    "\n",
    "index = 0\n",
    "\n",
    "while index<len(list_a):\n",
    "    if list_a[index]>20:\n",
    "        print(list_a[index].end=\"\\t\")\n",
    "        \n",
    "    index += 1\n",
    "    \n",
    "    "
   ]
  },
  {
   "cell_type": "code",
   "execution_count": null,
   "metadata": {},
   "outputs": [],
   "source": []
  },
  {
   "cell_type": "markdown",
   "metadata": {},
   "source": [
    "#### 무한루프\n",
    " - while의 경우 종료가 되지 않도록 코드를 작성하면 블록에서 빠져나올 수 없다.\n",
    " - Ctrl + c 를 눌러서 종료시킨다. \n",
    " - jupyter notebook 에서는 'Interrupt the kernel' (정지버튼)을 눌러서 멈춘다."
   ]
  },
  {
   "cell_type": "code",
   "execution_count": null,
   "metadata": {},
   "outputs": [],
   "source": []
  },
  {
   "cell_type": "markdown",
   "metadata": {},
   "source": [
    "#### break \n",
    " + loop를 중단할 때 사용한다.\n",
    " + 보통 조건문 안에서 수행되며, 조건을 만족하는 경우 loop를 빠져나온다.\n"
   ]
  },
  {
   "cell_type": "code",
   "execution_count": 3,
   "metadata": {},
   "outputs": [
    {
     "name": "stdout",
     "output_type": "stream",
     "text": [
      "숫자를 입력하세요: 2\n",
      "2\n",
      "숫자를 입력하세요: 22\n",
      "22\n",
      "숫자를 입력하세요: 2\n",
      "2\n",
      "숫자를 입력하세요: 1\n",
      "1\n"
     ]
    }
   ],
   "source": [
    "while True:\n",
    "    num = int(input(\"숫자를 입력하세요: \"))\n",
    "    print(num)\n",
    "    \n",
    "    if num == 1:\n",
    "        break\n",
    "        \n",
    "        "
   ]
  },
  {
   "cell_type": "markdown",
   "metadata": {},
   "source": [
    "#### continue\n",
    "  + 특정한 경우에는 코드를 수행하지 않고 반복문을 계속 실행한다."
   ]
  },
  {
   "cell_type": "code",
   "execution_count": 5,
   "metadata": {},
   "outputs": [
    {
     "name": "stdout",
     "output_type": "stream",
     "text": [
      "1\n",
      "2\n",
      "3\n",
      "4\n",
      "6\n",
      "7\n",
      "8\n",
      "9\n",
      "10\n"
     ]
    }
   ],
   "source": [
    "index = 0\n",
    "\n",
    "while index<10:\n",
    "    index +=1\n",
    "    if index == 5:\n",
    "        continue\n",
    "    print(index)"
   ]
  },
  {
   "cell_type": "markdown",
   "metadata": {},
   "source": [
    "### 1 - 100까지 더하기"
   ]
  },
  {
   "cell_type": "code",
   "execution_count": 7,
   "metadata": {},
   "outputs": [
    {
     "name": "stdout",
     "output_type": "stream",
     "text": [
      "5050\n"
     ]
    }
   ],
   "source": [
    "i = 1\n",
    "num = 0\n",
    "while i<101:\n",
    "    num += i #num = num+i 와 같다\n",
    "    i += 1\n",
    "print(num)"
   ]
  },
  {
   "cell_type": "code",
   "execution_count": null,
   "metadata": {},
   "outputs": [],
   "source": []
  }
 ],
 "metadata": {
  "kernelspec": {
   "display_name": "Python 3",
   "language": "python",
   "name": "python3"
  },
  "language_info": {
   "codemirror_mode": {
    "name": "ipython",
    "version": 3
   },
   "file_extension": ".py",
   "mimetype": "text/x-python",
   "name": "python",
   "nbconvert_exporter": "python",
   "pygments_lexer": "ipython3",
   "version": "3.8.8"
  }
 },
 "nbformat": 4,
 "nbformat_minor": 1
}
