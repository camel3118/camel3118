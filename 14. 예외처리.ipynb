{
 "cells": [
  {
   "cell_type": "markdown",
   "metadata": {},
   "source": [
    "### 학습목표\n",
    "1. 예외와 예외처리가 무엇인지 이해한다.\n",
    "2. 예외처리 문법 이해하고 활용 할 수 있다. "
   ]
  },
  {
   "cell_type": "markdown",
   "metadata": {},
   "source": [
    "### **예외**\n",
    "\n",
    "– 프로그램이 실행되는 동안 발생할 수 있는 비정상적인 조건\n",
    "– 번역시의 에러가 아닌 실행시의 에러를 예외라 한다.\n",
    "\n",
    "### ** 파이썬에서의 예외 처리 **\n",
    "\n",
    "#### **try except 사용하기**\n",
    "\n",
    "- 예외 처리를 하려면 try에 실행할 코드를 넣고 except 에 예외가 발생했을 때 처리할 코드를 넣는다.  \n",
    "\n",
    "``` \n",
    "try : \n",
    "    실행할 코드 \n",
    "except:\n",
    "    예외가 발생했을 때 처리하는 코드 \n",
    "``` \n"
   ]
  },
  {
   "cell_type": "code",
   "execution_count": 3,
   "metadata": {},
   "outputs": [
    {
     "name": "stdout",
     "output_type": "stream",
     "text": [
      "숫자를 입력하세요: 1\n",
      "10.0\n",
      "다음에 할일을 계속 수행\n"
     ]
    }
   ],
   "source": [
    " x = int(input(\"숫자를 입력하세요: \"))\n",
    "    \n",
    "try:\n",
    "    print(10/x)\n",
    "    \n",
    "except:\n",
    "    print(\"실행 불가\")\n",
    "    \n",
    "\n",
    "    \n",
    "    \n",
    "print(\"다음에 할일을 계속 수행\")"
   ]
  },
  {
   "cell_type": "code",
   "execution_count": null,
   "metadata": {},
   "outputs": [],
   "source": []
  },
  {
   "cell_type": "markdown",
   "metadata": {},
   "source": [
    "#### **원하는 예외만 처리하기**\n",
    "- except 구문에 예외 이름을 지정하면 지정된 예외가 발생했을 때만 처리한다. \n",
    "\n",
    "```\n",
    "try:\n",
    "    실행할코드\n",
    "except 예외이름:\n",
    "    예외가 발생했을 때 처리하는 코드 \n",
    "```\n",
    "- 예외의 에러 메시지를 받아 올 수 있다. \n",
    "```\n",
    "try:\n",
    "    실행할코드\n",
    "except 예외이름 as 변수:\n",
    "    예외가 발생했을 때 처리하는 코드\n",
    "    print(변수) \n",
    "```\n",
    "\n",
    "- 모든 예외의 에러 메시지를 출력하고 싶다면 Exception을 이용한다. \n",
    "\n",
    "```\n",
    "except Exception as e:    \n",
    "    print('예외가 발생했습니다.', e)\n",
    "```\n",
    "\n",
    "\n",
    "[예외계층](https://docs.python.org/3/library/exceptions.html#exception-hierarchy)"
   ]
  },
  {
   "cell_type": "code",
   "execution_count": 4,
   "metadata": {},
   "outputs": [
    {
     "name": "stdout",
     "output_type": "stream",
     "text": [
      "숫자를 입력하세요: 0\n"
     ]
    },
    {
     "ename": "NameError",
     "evalue": "name 'ZeroDivisonError' is not defined",
     "output_type": "error",
     "traceback": [
      "\u001b[1;31m---------------------------------------------------------------------------\u001b[0m",
      "\u001b[1;31mZeroDivisionError\u001b[0m                         Traceback (most recent call last)",
      "\u001b[1;32m<ipython-input-4-acfe5b7449df>\u001b[0m in \u001b[0;36m<module>\u001b[1;34m\u001b[0m\n\u001b[0;32m      3\u001b[0m \u001b[1;32mtry\u001b[0m\u001b[1;33m:\u001b[0m\u001b[1;33m\u001b[0m\u001b[1;33m\u001b[0m\u001b[0m\n\u001b[1;32m----> 4\u001b[1;33m    \u001b[0mprint\u001b[0m\u001b[1;33m(\u001b[0m\u001b[1;36m10\u001b[0m\u001b[1;33m/\u001b[0m\u001b[0mx\u001b[0m\u001b[1;33m)\u001b[0m\u001b[1;33m\u001b[0m\u001b[1;33m\u001b[0m\u001b[0m\n\u001b[0m\u001b[0;32m      5\u001b[0m    \u001b[0mprint\u001b[0m\u001b[1;33m(\u001b[0m\u001b[1;34m\"try 나머지 문장 수행\"\u001b[0m\u001b[1;33m)\u001b[0m\u001b[1;33m\u001b[0m\u001b[1;33m\u001b[0m\u001b[0m\n",
      "\u001b[1;31mZeroDivisionError\u001b[0m: division by zero",
      "\nDuring handling of the above exception, another exception occurred:\n",
      "\u001b[1;31mNameError\u001b[0m                                 Traceback (most recent call last)",
      "\u001b[1;32m<ipython-input-4-acfe5b7449df>\u001b[0m in \u001b[0;36m<module>\u001b[1;34m\u001b[0m\n\u001b[0;32m      6\u001b[0m    \u001b[0mprint\u001b[0m\u001b[1;33m(\u001b[0m\u001b[0mbbb\u001b[0m\u001b[1;33m)\u001b[0m\u001b[1;33m\u001b[0m\u001b[1;33m\u001b[0m\u001b[0m\n\u001b[0;32m      7\u001b[0m \u001b[1;33m\u001b[0m\u001b[0m\n\u001b[1;32m----> 8\u001b[1;33m \u001b[1;32mexcept\u001b[0m \u001b[0mZeroDivisonError\u001b[0m\u001b[1;33m:\u001b[0m\u001b[1;33m\u001b[0m\u001b[1;33m\u001b[0m\u001b[0m\n\u001b[0m\u001b[0;32m      9\u001b[0m    \u001b[0mprint\u001b[0m\u001b[1;33m(\u001b[0m\u001b[1;34m\"실행 불가\"\u001b[0m\u001b[1;33m)\u001b[0m\u001b[1;33m\u001b[0m\u001b[1;33m\u001b[0m\u001b[0m\n\u001b[0;32m     10\u001b[0m \u001b[1;33m\u001b[0m\u001b[0m\n",
      "\u001b[1;31mNameError\u001b[0m: name 'ZeroDivisonError' is not defined"
     ]
    }
   ],
   "source": [
    " x = int(input(\"숫자를 입력하세요: \"))\n",
    "    \n",
    "\n",
    "try:\n",
    "    print(10/x)\n",
    "    print(\"try 나머지 문장 수행\")\n",
    "    print(bbb)\n",
    "    \n",
    "except ZeroDivisonError:\n",
    "    print(\"실행 불가\")\n",
    "    \n",
    "\n",
    "    \n",
    "    \n",
    "print(\"다음에 할일을 계속 수행\")"
   ]
  },
  {
   "cell_type": "code",
   "execution_count": 6,
   "metadata": {},
   "outputs": [
    {
     "name": "stdout",
     "output_type": "stream",
     "text": [
      "숫자를 입력하세요: 4\n",
      "2.5\n",
      "try 나머지 문장 수행\n"
     ]
    },
    {
     "ename": "NameError",
     "evalue": "name 'ZeroDivisonError' is not defined",
     "output_type": "error",
     "traceback": [
      "\u001b[1;31m---------------------------------------------------------------------------\u001b[0m",
      "\u001b[1;31mIndexError\u001b[0m                                Traceback (most recent call last)",
      "\u001b[1;32m<ipython-input-6-79a53521f99b>\u001b[0m in \u001b[0;36m<module>\u001b[1;34m\u001b[0m\n\u001b[0;32m      6\u001b[0m     \u001b[0mprint\u001b[0m\u001b[1;33m(\u001b[0m\u001b[1;34m\"try 나머지 문장 수행\"\u001b[0m\u001b[1;33m)\u001b[0m\u001b[1;33m\u001b[0m\u001b[1;33m\u001b[0m\u001b[0m\n\u001b[1;32m----> 7\u001b[1;33m     \u001b[0mprint\u001b[0m\u001b[1;33m(\u001b[0m\u001b[0mlist_a\u001b[0m\u001b[1;33m[\u001b[0m\u001b[0mx\u001b[0m\u001b[1;33m]\u001b[0m\u001b[1;33m)\u001b[0m\u001b[1;33m\u001b[0m\u001b[1;33m\u001b[0m\u001b[0m\n\u001b[0m\u001b[0;32m      8\u001b[0m \u001b[1;33m\u001b[0m\u001b[0m\n",
      "\u001b[1;31mIndexError\u001b[0m: list index out of range",
      "\nDuring handling of the above exception, another exception occurred:\n",
      "\u001b[1;31mNameError\u001b[0m                                 Traceback (most recent call last)",
      "\u001b[1;32m<ipython-input-6-79a53521f99b>\u001b[0m in \u001b[0;36m<module>\u001b[1;34m\u001b[0m\n\u001b[0;32m      7\u001b[0m     \u001b[0mprint\u001b[0m\u001b[1;33m(\u001b[0m\u001b[0mlist_a\u001b[0m\u001b[1;33m[\u001b[0m\u001b[0mx\u001b[0m\u001b[1;33m]\u001b[0m\u001b[1;33m)\u001b[0m\u001b[1;33m\u001b[0m\u001b[1;33m\u001b[0m\u001b[0m\n\u001b[0;32m      8\u001b[0m \u001b[1;33m\u001b[0m\u001b[0m\n\u001b[1;32m----> 9\u001b[1;33m \u001b[1;32mexcept\u001b[0m \u001b[0mZeroDivisonError\u001b[0m\u001b[1;33m:\u001b[0m\u001b[1;33m\u001b[0m\u001b[1;33m\u001b[0m\u001b[0m\n\u001b[0m\u001b[0;32m     10\u001b[0m     \u001b[0mprint\u001b[0m\u001b[1;33m(\u001b[0m\u001b[1;34m\"실행 불가\"\u001b[0m\u001b[1;33m)\u001b[0m\u001b[1;33m\u001b[0m\u001b[1;33m\u001b[0m\u001b[0m\n\u001b[0;32m     11\u001b[0m \u001b[1;33m\u001b[0m\u001b[0m\n",
      "\u001b[1;31mNameError\u001b[0m: name 'ZeroDivisonError' is not defined"
     ]
    }
   ],
   "source": [
    "\n",
    "\n",
    "x = int(input(\"숫자를 입력하세요: \"))\n",
    "list_a = [1,2,3]    \n",
    "\n",
    "try:\n",
    "    print(10/x)\n",
    "    print(\"try 나머지 문장 수행\")\n",
    "    print(list_a[x])\n",
    "    \n",
    "except ZeroDivisonError:\n",
    "    print(\"실행 불가\")\n",
    "    \n",
    "\n",
    "    \n",
    "    \n",
    "print(\"다음에 할일을 계속 수행\")"
   ]
  },
  {
   "cell_type": "code",
   "execution_count": null,
   "metadata": {},
   "outputs": [],
   "source": [
    "x = int(input(\"숫자를 입력하세요: \"))\n",
    "list_a = [1,2,3]    \n",
    "\n",
    "try:\n",
    "    print(10/x)\n",
    "    print(\"try 나머지 문장 수행\")\n",
    "    print(list_a[x])\n",
    "    \n",
    "except IndexError as e:\n",
    "    print(e)\n",
    "    print(\"인덱스 범위를 벗어났습니다\")\n",
    "    \n",
    "except ZeroDivisonError:\n",
    "    print(\"실행 불가\")\n",
    "    \n",
    "\n",
    "    \n",
    "    \n",
    "print(\"다음에 할일을 계속 수행\")"
   ]
  },
  {
   "cell_type": "code",
   "execution_count": null,
   "metadata": {},
   "outputs": [],
   "source": [
    "x = int(input(\"숫자를 입력하세요: \"))\n",
    "list_a = [1,2,3]    \n",
    "\n",
    "try:\n",
    "    print(10/x)\n",
    "    print(\"try 나머지 문장 수행\")\n",
    "    print(list_a[x])\n",
    "    \n",
    "except Exception as e:\n",
    "    print(e)\n",
    "    \n",
    "# exception 으로 어떤 에러형태가 발생하여 예외처리 되었는지를 체크할 수 있다.\n",
    "    \n",
    "    \n",
    "print(\"다음에 할일을 계속 수행\")"
   ]
  },
  {
   "cell_type": "markdown",
   "metadata": {},
   "source": [
    "#### **예외가 발생하지 않았을 때 실행하는 else**\n",
    "\n",
    "- else구문은 예외가 발생하지 않았을 때 실행할 구문을 기술한다. \n",
    "- else는 except 바로뒤에 와야한다.\n",
    "- except를 생략 할 수는 없다.\n",
    "- 예외가 발생하면 else 구문은 실행되지 않는다. \n",
    "\n",
    "```\n",
    "try:\n",
    "    실행할 코드\n",
    "except:\n",
    "    예외가 발생했을 때 처리하는 코드\n",
    "else:\n",
    "    예외가 발생하지 않았을 때 실행할 코드\n",
    "```"
   ]
  },
  {
   "cell_type": "code",
   "execution_count": 14,
   "metadata": {},
   "outputs": [
    {
     "name": "stdout",
     "output_type": "stream",
     "text": [
      "숫자를 입력하세요: 2\n",
      "5.0\n",
      "try 나머지 문장 수행\n",
      "3\n",
      "else 블럭\n",
      "다음 과제 수행\n"
     ]
    }
   ],
   "source": [
    "x = int(input(\"숫자를 입력하세요: \"))\n",
    "list_a = [1,2,3]    \n",
    "\n",
    "try:\n",
    "    print(10/x)\n",
    "    print(\"try 나머지 문장 수행\")\n",
    "    print(list_a[x])\n",
    "    \n",
    "except IndexError as e:\n",
    "    print(e)\n",
    "    print(\"인덱스 범위를 벗어났습니다\")\n",
    "    \n",
    "except ZeroDivisonError:\n",
    "    print(\"실행 불가\")\n",
    "    \n",
    "else:\n",
    "    print(\"else 블럭\")\n",
    "    \n",
    "print(\"다음 과제 수행\")"
   ]
  },
  {
   "cell_type": "markdown",
   "metadata": {},
   "source": [
    "#### **반드시 실행되는 finally블록**\n",
    "- 모든 코드가 반드시 실행된다는 보장은 없다. \n",
    "- 하지만, 예외가 발생했든 발생하지 않았든 \n",
    "예외를 적절히 처리했든 처리하지 못했든 간에 반드시 처리해야하는 코드들이 있다. \n",
    "- finally 블록은 언제든지 실행된다. \n",
    "- finally는 except와 else를 생략할 수 있다.\n",
    "\n",
    "```\n",
    "try:\n",
    "    실행할 코드\n",
    "except:\n",
    "    예외가 발생했을 때 처리하는 코드\n",
    "else:\n",
    "    예외가 발생하지 않았을 때 실행할 코드\n",
    "finally:\n",
    "    예외 발생 여부와 상관없이 항상 실행할 코드\n",
    "```\n",
    "\n",
    "\n"
   ]
  },
  {
   "cell_type": "code",
   "execution_count": 16,
   "metadata": {},
   "outputs": [
    {
     "name": "stdout",
     "output_type": "stream",
     "text": [
      "숫자를 입력하세요: 2\n",
      "5.0\n",
      "try 나머지 문장 수행\n",
      "3\n",
      "else 블럭\n",
      "finally 블럭\n",
      "다음 과제 수행\n"
     ]
    }
   ],
   "source": [
    "x = int(input(\"숫자를 입력하세요: \"))\n",
    "list_a = [1,2,3]    \n",
    "\n",
    "try:\n",
    "    print(10/x)\n",
    "    print(\"try 나머지 문장 수행\")\n",
    "    print(list_a[x])\n",
    "    \n",
    "except IndexError as e:\n",
    "    print(e)\n",
    "    print(\"인덱스 범위를 벗어났습니다\")\n",
    "    \n",
    "except ZeroDivisonError:\n",
    "    print(\"실행 불가\")\n",
    "    \n",
    "else:\n",
    "    print(\"else 블럭\")\n",
    "finally:\n",
    "    print(\"finally 블럭\")\n",
    "    \n",
    "print(\"다음 과제 수행\")"
   ]
  },
  {
   "cell_type": "markdown",
   "metadata": {},
   "source": [
    "#### **사용자가 임의로 예외 발생 시키기**\n",
    "\n",
    "- python에서 정해놓은 예외 이외에도 사용자의 조건에 맞게 예외를 정의 할 수있다 \n",
    "- 예외를 발생시킬 때는 raise에 예외를 지정하고, 에러메시지를 넣는다. \n",
    "- 에러메시지는 생략 가능하다.\n",
    "\n",
    "``` \n",
    "raise 예외 ('에러메시지') "
   ]
  },
  {
   "cell_type": "code",
   "execution_count": 18,
   "metadata": {},
   "outputs": [
    {
     "name": "stdout",
     "output_type": "stream",
     "text": [
      "점수를 입력하세요: 110\n"
     ]
    },
    {
     "ename": "Exception",
     "evalue": "('최고점수는 100점 입니다. 다시 입력하세요:', 110)",
     "output_type": "error",
     "traceback": [
      "\u001b[1;31m---------------------------------------------------------------------------\u001b[0m",
      "\u001b[1;31mException\u001b[0m                                 Traceback (most recent call last)",
      "\u001b[1;32m<ipython-input-18-2724cc7ff533>\u001b[0m in \u001b[0;36m<module>\u001b[1;34m\u001b[0m\n\u001b[0;32m      2\u001b[0m \u001b[1;33m\u001b[0m\u001b[0m\n\u001b[0;32m      3\u001b[0m \u001b[1;32mif\u001b[0m\u001b[1;33m(\u001b[0m\u001b[0mscore\u001b[0m \u001b[1;33m>\u001b[0m \u001b[1;36m100\u001b[0m\u001b[1;33m)\u001b[0m\u001b[1;33m:\u001b[0m\u001b[1;33m\u001b[0m\u001b[1;33m\u001b[0m\u001b[0m\n\u001b[1;32m----> 4\u001b[1;33m     \u001b[1;32mraise\u001b[0m \u001b[0mException\u001b[0m\u001b[1;33m(\u001b[0m\u001b[1;34m\"최고점수는 100점 입니다. 다시 입력하세요:\"\u001b[0m\u001b[1;33m,\u001b[0m\u001b[0mscore\u001b[0m\u001b[1;33m)\u001b[0m\u001b[1;33m\u001b[0m\u001b[1;33m\u001b[0m\u001b[0m\n\u001b[0m\u001b[0;32m      5\u001b[0m \u001b[1;33m\u001b[0m\u001b[0m\n\u001b[0;32m      6\u001b[0m \u001b[0mprint\u001b[0m\u001b[1;33m(\u001b[0m\u001b[1;34m\"당신의 점수는:\"\u001b[0m\u001b[1;33m,\u001b[0m\u001b[0mscore\u001b[0m\u001b[1;33m)\u001b[0m\u001b[1;33m\u001b[0m\u001b[1;33m\u001b[0m\u001b[0m\n",
      "\u001b[1;31mException\u001b[0m: ('최고점수는 100점 입니다. 다시 입력하세요:', 110)"
     ]
    }
   ],
   "source": [
    "score = int(input(\"점수를 입력하세요: \"))\n",
    "\n",
    "if(score > 100):\n",
    "    raise Exception(\"최고점수는 100점 입니다. 다시 입력하세요:\",score)\n",
    "    \n",
    "print(\"당신의 점수는:\",score)"
   ]
  },
  {
   "cell_type": "code",
   "execution_count": null,
   "metadata": {},
   "outputs": [],
   "source": [
    "score = int(input(\"점수를 입력하세요: \"))\n",
    "try:\n",
    "    if(score > 100):\n",
    "        raise Exception(\"최고점수는 100점 입니다. 다시 입력하세요:\",score)\n",
    "except Exception as e:\n",
    "    print(\"예외발생:\",e)\n",
    "    \n",
    "    \n",
    "print(\"당신의 점수는:\",score)"
   ]
  },
  {
   "cell_type": "markdown",
   "metadata": {},
   "source": [
    "#### **현재 예외를 다시 발생 시키기** \n",
    "\n",
    "- try except 에서 처리한 예외를 다시 발생 시킬 수 있다. \n",
    "- except 안에서 raise를 사용하면 현재 예외를 다시 발생 시킨다.\n",
    "\n"
   ]
  },
  {
   "cell_type": "code",
   "execution_count": 24,
   "metadata": {},
   "outputs": [
    {
     "name": "stdout",
     "output_type": "stream",
     "text": [
      "점수를 입력하세요: 500\n",
      "예외발생: ('최고점수는 100점 입니다. 다시 입력하세요:', 500)\n",
      "처리 안됨\n",
      "당신의 점수는: 110\n"
     ]
    }
   ],
   "source": [
    "\n",
    "def inputScore():\n",
    "    score = int(input(\"점수를 입력하세요: \"))\n",
    "    try:\n",
    "        if(score > 100):\n",
    "            raise Exception(\"최고점수는 100점 입니다. 다시 입력하세요:\",score)\n",
    "    except Exception as e:\n",
    "        print(\"예외발생:\",e)\n",
    "        raise\n",
    "    \n",
    "    \n",
    "    \n",
    "\n",
    "try:\n",
    "    \n",
    "    inputScore()\n",
    "\n",
    "except: #에러가 raise됬기 때문에 해당 트라이 익셉트 구문에서 익셉트 구문이 실행됨.\n",
    "    print(\"처리 안됨\")\n",
    "    \n",
    "    \n",
    "    \n",
    "print(\"당신의 점수는:\",score)"
   ]
  },
  {
   "cell_type": "code",
   "execution_count": null,
   "metadata": {},
   "outputs": [],
   "source": []
  },
  {
   "cell_type": "markdown",
   "metadata": {},
   "source": [
    "### raise 예외('에러메시지')\n",
    "\n",
    "```\n",
    "        if x % 3 != 0:\n",
    "            raise Exception('3의 배수가 아닙니다.')\n",
    "        print(x)\n",
    "    except Exception as e:\n",
    "        print('three_multiple 함수에서 예외가 발생했습니다.', e)\n",
    "        raise RuntimeError('three_multiple 함수에서 예외가 발생했습니다.')\n",
    "```"
   ]
  },
  {
   "cell_type": "markdown",
   "metadata": {},
   "source": [
    "#### **assert로 예외 발생시키기**\n",
    "\n",
    "- assert는 지정된 조건식이 거짓일 때 assertionError 예외를 발생 시킨다.\n",
    "- 조건식이 참이면 그냥 지나간다. \n",
    "- assert 는 보통 나와서는 안되는 조건을 검사할 때 사용한다. \n",
    "\n"
   ]
  },
  {
   "cell_type": "code",
   "execution_count": 25,
   "metadata": {},
   "outputs": [
    {
     "name": "stdout",
     "output_type": "stream",
     "text": [
      "3의 배수를 입력하세요.: 5\n"
     ]
    },
    {
     "ename": "AssertionError",
     "evalue": "3의 배수가 아닙니다.",
     "output_type": "error",
     "traceback": [
      "\u001b[1;31m---------------------------------------------------------------------------\u001b[0m",
      "\u001b[1;31mAssertionError\u001b[0m                            Traceback (most recent call last)",
      "\u001b[1;32m<ipython-input-25-74fb61f0f11a>\u001b[0m in \u001b[0;36m<module>\u001b[1;34m\u001b[0m\n\u001b[0;32m      1\u001b[0m \u001b[0mx\u001b[0m \u001b[1;33m=\u001b[0m \u001b[0mint\u001b[0m\u001b[1;33m(\u001b[0m\u001b[0minput\u001b[0m\u001b[1;33m(\u001b[0m\u001b[1;34m'3의 배수를 입력하세요.: '\u001b[0m\u001b[1;33m)\u001b[0m\u001b[1;33m)\u001b[0m\u001b[1;33m\u001b[0m\u001b[1;33m\u001b[0m\u001b[0m\n\u001b[0;32m      2\u001b[0m \u001b[1;33m\u001b[0m\u001b[0m\n\u001b[1;32m----> 3\u001b[1;33m \u001b[1;32massert\u001b[0m \u001b[0mx\u001b[0m \u001b[1;33m%\u001b[0m\u001b[1;36m3\u001b[0m \u001b[1;33m==\u001b[0m \u001b[1;36m0\u001b[0m\u001b[1;33m,\u001b[0m \u001b[1;34m\"3의 배수가 아닙니다.\"\u001b[0m\u001b[1;33m\u001b[0m\u001b[1;33m\u001b[0m\u001b[0m\n\u001b[0m\u001b[0;32m      4\u001b[0m \u001b[1;33m\u001b[0m\u001b[0m\n\u001b[0;32m      5\u001b[0m \u001b[0mprint\u001b[0m\u001b[1;33m(\u001b[0m\u001b[0mx\u001b[0m\u001b[1;33m)\u001b[0m\u001b[1;33m\u001b[0m\u001b[1;33m\u001b[0m\u001b[0m\n",
      "\u001b[1;31mAssertionError\u001b[0m: 3의 배수가 아닙니다."
     ]
    }
   ],
   "source": [
    "x = int(input('3의 배수를 입력하세요.: '))\n",
    "\n",
    "assert x %3 == 0, \"3의 배수가 아닙니다.\"\n",
    "\n",
    "print(x)"
   ]
  },
  {
   "cell_type": "code",
   "execution_count": null,
   "metadata": {},
   "outputs": [],
   "source": []
  },
  {
   "cell_type": "markdown",
   "metadata": {},
   "source": [
    "##### 참고 \n",
    "assert는 디버깅 모드에서만 실행됩니다. 특히 파이썬은 기본적으로 디버깅 모드이며(__debug__의 값이 True) assert가 실행되지 않게 하려면 python에 -O 옵션을 붙여서 실행합니다(영문 대문자 O).\n",
    "python -O 스크립트파일.py"
   ]
  },
  {
   "cell_type": "markdown",
   "metadata": {},
   "source": [
    "#### **사용자 정의 예외 만들기**\n",
    "\n",
    "- 프로그래머가 직접 만든 예외를 사용자 정의 예외라고 한다. \n",
    "- 예외를 생성하는 방법은 Exception을 상속받아서 새로운 클래스를 만들면 된다. \n",
    "- 그리고, __init__ 메서드에서 기반 클래스의 __init__ 메서드를 호출한다. \n",
    "- 기반클래스의 __init__메서드를 호출할 때 에러메시지를 넣어준다. \n",
    "\n",
    "```\n",
    "class 예외이름(Exception):\n",
    "    def __init__(self):\n",
    "        super().__init__('에러메시지')\n",
    "        \n",
    "```"
   ]
  },
  {
   "cell_type": "code",
   "execution_count": 30,
   "metadata": {},
   "outputs": [
    {
     "name": "stdout",
     "output_type": "stream",
     "text": [
      "점수를 입력하세요.: 500\n",
      "입력값이 100이 넘습니다. 에러발생\n"
     ]
    }
   ],
   "source": [
    "class CaramiException(Exception):\n",
    "    def __init__(self):\n",
    "        super().__init__(\"입력값이 100이 넘습니다. 에러발생\")\n",
    "        \n",
    "        \n",
    "        \n",
    "def inputScore():\n",
    "    score = int(input(\"점수를 입력하세요.: \"))\n",
    "    if(score>100):\n",
    "        raise CaramiException()\n",
    "    print(\"당신의 점수는:\", score)\n",
    "try: \n",
    "    inputScore()\n",
    "except CaramiException as e:\n",
    "    print(e)"
   ]
  },
  {
   "cell_type": "code",
   "execution_count": null,
   "metadata": {},
   "outputs": [],
   "source": []
  }
 ],
 "metadata": {
  "kernelspec": {
   "display_name": "Python 3",
   "language": "python",
   "name": "python3"
  },
  "language_info": {
   "codemirror_mode": {
    "name": "ipython",
    "version": 3
   },
   "file_extension": ".py",
   "mimetype": "text/x-python",
   "name": "python",
   "nbconvert_exporter": "python",
   "pygments_lexer": "ipython3",
   "version": "3.8.8"
  }
 },
 "nbformat": 4,
 "nbformat_minor": 4
}
