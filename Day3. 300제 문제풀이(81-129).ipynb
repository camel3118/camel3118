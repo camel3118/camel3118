{
 "cells": [
  {
   "cell_type": "code",
   "execution_count": 1,
   "id": "106eb3ab",
   "metadata": {},
   "outputs": [
    {
     "name": "stdout",
     "output_type": "stream",
     "text": [
      "[8.8, 8.9, 8.7, 9.2, 9.3, 9.7, 9.9, 9.5]\n"
     ]
    }
   ],
   "source": [
    "# 081\n",
    "\n",
    "scores = [8.8, 8.9, 8.7, 9.2, 9.3, 9.7, 9.9, 9.5, 7.8, 9.4]\n",
    "\n",
    "*valid_score, _,_ = scores\n",
    "\n",
    "print(valid_score)"
   ]
  },
  {
   "cell_type": "code",
   "execution_count": 5,
   "id": "32fb0f52",
   "metadata": {},
   "outputs": [
    {
     "name": "stdout",
     "output_type": "stream",
     "text": [
      "[8.7, 9.2, 9.3, 9.7, 9.9, 9.5, 7.8, 9.4]\n"
     ]
    }
   ],
   "source": [
    "# 082\n",
    "\n",
    "scores = [8.8, 8.9, 8.7, 9.2, 9.3, 9.7, 9.9, 9.5, 7.8, 9.4]\n",
    "\n",
    "a,b,*valid_score = scores\n",
    "\n",
    "print(valid_score)"
   ]
  },
  {
   "cell_type": "code",
   "execution_count": 6,
   "id": "004e9ed7",
   "metadata": {},
   "outputs": [
    {
     "name": "stdout",
     "output_type": "stream",
     "text": [
      "[8.9, 8.7, 9.2, 9.3, 9.7, 9.9, 9.5, 7.8]\n"
     ]
    }
   ],
   "source": [
    "# 083\n",
    "\n",
    "scores = [8.8, 8.9, 8.7, 9.2, 9.3, 9.7, 9.9, 9.5, 7.8, 9.4]\n",
    "\n",
    "a,*valid_score,b = scores\n",
    "\n",
    "print(valid_score)"
   ]
  },
  {
   "cell_type": "code",
   "execution_count": 8,
   "id": "bb6affe3",
   "metadata": {},
   "outputs": [
    {
     "name": "stdout",
     "output_type": "stream",
     "text": [
      "<class 'dict'>\n"
     ]
    }
   ],
   "source": [
    "#084\n",
    "temp = dict()\n",
    "\n",
    "print(type(temp))"
   ]
  },
  {
   "cell_type": "code",
   "execution_count": 11,
   "id": "0af91003",
   "metadata": {},
   "outputs": [
    {
     "name": "stdout",
     "output_type": "stream",
     "text": [
      "{'메로나': 1000, '폴라포': 1200, '빵빠레': 1800} <class 'dict'>\n"
     ]
    }
   ],
   "source": [
    "#085\n",
    "ice = {\"메로나\":1000, \"폴라포\":1200, \"빵빠레\":1800}\n",
    "\n",
    "print(ice, type(ice))"
   ]
  },
  {
   "cell_type": "code",
   "execution_count": 13,
   "id": "79851acc",
   "metadata": {},
   "outputs": [
    {
     "name": "stdout",
     "output_type": "stream",
     "text": [
      "{'메로나': 1000, '폴라포': 1200, '빵빠레': 1800, '죠스바': 1200, '월드콘': 1500} <class 'dict'>\n"
     ]
    }
   ],
   "source": [
    "#086\n",
    "ice[\"죠스바\"] = 1200\n",
    "ice[\"월드콘\"] = 1500\n",
    "\n",
    "print(ice, type(ice))"
   ]
  },
  {
   "cell_type": "code",
   "execution_count": 15,
   "id": "5d14b7b1",
   "metadata": {},
   "outputs": [
    {
     "name": "stdout",
     "output_type": "stream",
     "text": [
      "메로나 가격:  1000\n"
     ]
    }
   ],
   "source": [
    "#087\n",
    "\n",
    "print(\"메로나 가격: \", ice[\"메로나\"])\n",
    "#print(\"{} 가격: {}\".format(ice[key,0],ice[value,0]))"
   ]
  },
  {
   "cell_type": "code",
   "execution_count": 16,
   "id": "25e6807c",
   "metadata": {},
   "outputs": [
    {
     "name": "stdout",
     "output_type": "stream",
     "text": [
      "{'메로나': 1300, '폴라포': 1200, '빵빠레': 1800, '죠스바': 1200, '월드콘': 1500} <class 'dict'>\n"
     ]
    }
   ],
   "source": [
    "ice[\"메로나\"] = 1300\n",
    "\n",
    "print(ice, type(ice))"
   ]
  },
  {
   "cell_type": "code",
   "execution_count": 17,
   "id": "a19c80c8",
   "metadata": {},
   "outputs": [
    {
     "name": "stdout",
     "output_type": "stream",
     "text": [
      "{'폴라포': 1200, '빵빠레': 1800, '죠스바': 1200, '월드콘': 1500} <class 'dict'>\n"
     ]
    }
   ],
   "source": [
    "del ice[\"메로나\"]\n",
    "\n",
    "print(ice, type(ice))"
   ]
  },
  {
   "cell_type": "code",
   "execution_count": 19,
   "id": "04bdd803",
   "metadata": {},
   "outputs": [
    {
     "name": "stdout",
     "output_type": "stream",
     "text": [
      "{'메로나': [300, 20], '비비빅': [400, 3], '죠스바': [250, 100]} <class 'dict'>\n"
     ]
    }
   ],
   "source": [
    "# 091\n",
    "\n",
    "inventory = {\"메로나\":[300,20],\"비비빅\":[400,3], \"죠스바\":[250,100]}\n",
    "\n",
    "print(inventory, type(inventory))"
   ]
  },
  {
   "cell_type": "code",
   "execution_count": 22,
   "id": "bff47971",
   "metadata": {},
   "outputs": [
    {
     "name": "stdout",
     "output_type": "stream",
     "text": [
      "300 원\n"
     ]
    }
   ],
   "source": [
    "# 092\n",
    "\n",
    "print(inventory[\"메로나\"][0], \"원\")"
   ]
  },
  {
   "cell_type": "code",
   "execution_count": null,
   "id": "6a8b8331",
   "metadata": {},
   "outputs": [],
   "source": []
  },
  {
   "cell_type": "code",
   "execution_count": 23,
   "id": "7c27f72c",
   "metadata": {},
   "outputs": [
    {
     "name": "stdout",
     "output_type": "stream",
     "text": [
      "20 개\n"
     ]
    }
   ],
   "source": [
    "# 093\n",
    "\n",
    "print(inventory[\"메로나\"][1], \"개\")"
   ]
  },
  {
   "cell_type": "code",
   "execution_count": 24,
   "id": "0fa8c524",
   "metadata": {},
   "outputs": [
    {
     "name": "stdout",
     "output_type": "stream",
     "text": [
      "{'메로나': [300, 20], '비비빅': [400, 3], '죠스바': [250, 100], '월드콘': [500, 7]} <class 'dict'>\n"
     ]
    }
   ],
   "source": [
    "# 094\n",
    "\n",
    "inventory[\"월드콘\"] = [500, 7]\n",
    "\n",
    "print(inventory, type(inventory))"
   ]
  },
  {
   "cell_type": "code",
   "execution_count": 27,
   "id": "08ebc7b6",
   "metadata": {},
   "outputs": [
    {
     "name": "stdout",
     "output_type": "stream",
     "text": [
      "['메로나', '비비빅', '죠스바', '월드콘'] <class 'list'>\n"
     ]
    }
   ],
   "source": [
    "# 095\n",
    "\n",
    "a = list(inventory.keys())\n",
    "\n",
    "print(a,type(a))"
   ]
  },
  {
   "cell_type": "code",
   "execution_count": 36,
   "id": "34b3b639",
   "metadata": {},
   "outputs": [
    {
     "name": "stdout",
     "output_type": "stream",
     "text": [
      "[[300, 20], [400, 3], [250, 100], [500, 7]] <class 'list'>\n"
     ]
    }
   ],
   "source": [
    "# 096\n",
    "\n",
    "a = list(inventory.values())\n",
    "\n",
    "print(a,type(a))"
   ]
  },
  {
   "cell_type": "code",
   "execution_count": null,
   "id": "305f8b1e",
   "metadata": {},
   "outputs": [],
   "source": [
    "# 097\n",
    "\n",
    "icecream = {'탱크보이': 1200, '폴라포': 1200, '빵빠레': 1800, '월드콘': 1500, '메로나': 1000}\n",
    "\n",
    "\n"
   ]
  },
  {
   "cell_type": "code",
   "execution_count": 37,
   "id": "208ffb60",
   "metadata": {},
   "outputs": [
    {
     "name": "stdout",
     "output_type": "stream",
     "text": [
      "{'탱크보이': 1200, '폴라포': 1200, '빵빠레': 1800, '월드콘': 1500, '메로나': 1000, '팥빙수': 2700, '아맛나': 1000} <class 'dict'>\n"
     ]
    }
   ],
   "source": [
    "# 098\n",
    "\n",
    "icecream = {'탱크보이': 1200, '폴라포': 1200, '빵빠레': 1800, '월드콘': 1500, '메로나': 1000}\n",
    "new_product = {'팥빙수':2700, '아맛나':1000}\n",
    "\n",
    "icecream.update(new_product)\n",
    "\n",
    "print(icecream, type(icecream))"
   ]
  },
  {
   "cell_type": "code",
   "execution_count": null,
   "id": "f6d9b5c5",
   "metadata": {},
   "outputs": [],
   "source": [
    "# 099\n",
    "\n",
    "keys = (\"apple\", \"pear\", \"peach\")\n",
    "vals = (300, 250, 400)\n",
    "result = dict(zip(keys, vals))\n",
    "print(result)"
   ]
  },
  {
   "cell_type": "code",
   "execution_count": 29,
   "id": "4a6e2f51",
   "metadata": {},
   "outputs": [
    {
     "name": "stdout",
     "output_type": "stream",
     "text": [
      "숫자를 입력하세요: 10\n",
      "20\n"
     ]
    }
   ],
   "source": [
    "# 112\n",
    "\n",
    "a = int(input(\"숫자를 입력하세요: \"))\n",
    "\n",
    "print(a+10)"
   ]
  },
  {
   "cell_type": "code",
   "execution_count": 30,
   "id": "b82ae3e5",
   "metadata": {},
   "outputs": [
    {
     "name": "stdout",
     "output_type": "stream",
     "text": [
      "숫자를 입력하세요: 5\n",
      "5 홀수 입니다\n"
     ]
    }
   ],
   "source": [
    "# 113\n",
    "\n",
    "a = int(input(\"숫자를 입력하세요: \"))\n",
    "\n",
    "if a%2==1:\n",
    "    print(a, \"홀수 입니다\")\n",
    "    \n",
    "else:\n",
    "    print(a, \"짝수 입니다\")\n",
    "    \n",
    "    "
   ]
  },
  {
   "cell_type": "code",
   "execution_count": 34,
   "id": "d5af4c5f",
   "metadata": {},
   "outputs": [
    {
     "name": "stdout",
     "output_type": "stream",
     "text": [
      "숫자를 입력하세요: 220\n",
      "240\n"
     ]
    }
   ],
   "source": [
    "# 114\n",
    "\n",
    "a = int(input(\"숫자를 입력하세요: \"))\n",
    "\n",
    "if a+20 > 255 :\n",
    "    print(255)\n",
    "else:\n",
    "    print(a+20)\n"
   ]
  },
  {
   "cell_type": "code",
   "execution_count": 53,
   "id": "074ba9dd",
   "metadata": {},
   "outputs": [
    {
     "name": "stdout",
     "output_type": "stream",
     "text": [
      "숫자를 입력하세요: 55\n",
      "입력값: 55, 출력값: 35\n"
     ]
    }
   ],
   "source": [
    "# 115\n",
    "\n",
    "a = int(input(\"숫자를 입력하세요: \"))\n",
    "\n",
    "\n",
    "    \n",
    "if 0<a<=255:\n",
    "    print(\"입력값: {}, 출력값: {}\".format(a, a-20))\n",
    "elif a<=0:\n",
    "    print(\"입력값: {}, 출력값: {}\".format(a,0))\n",
    "else:\n",
    "    print(\"입력값: {}, 출력값: {}\".format(a,255))\n",
    "    \n",
    "    \n",
    "\n"
   ]
  },
  {
   "cell_type": "code",
   "execution_count": 55,
   "id": "c675f021",
   "metadata": {},
   "outputs": [
    {
     "name": "stdout",
     "output_type": "stream",
     "text": [
      "좋아하는 과일은?: 사과\n",
      "정답입니다\n"
     ]
    }
   ],
   "source": [
    "# 117\n",
    "\n",
    "a = str(input(\"좋아하는 과일은?: \"))\n",
    "\n",
    "fruit = [\"사과\", \"포도\", \"홍시\"]\n",
    "\n",
    "if a in fruit:\n",
    "    print(\"정답입니다\")\n",
    "    \n",
    "else:\n",
    "    print(\"틀렸습니다\")\n",
    "    \n"
   ]
  },
  {
   "cell_type": "code",
   "execution_count": 56,
   "id": "cdd4d559",
   "metadata": {},
   "outputs": [
    {
     "name": "stdout",
     "output_type": "stream",
     "text": [
      "투자하실 종목명을 입력하세요: google\n",
      "투자 경고 종목이 아닙니다\n"
     ]
    }
   ],
   "source": [
    "# 118\n",
    "\n",
    "warn_investment_list = [\"Microsoft\", \"Google\", \"Naver\", \"Kakao\", \"SAMSUNG\", \"LG\"]\n",
    "\n",
    "a = str(input(\"투자하실 종목명을 입력하세요: \"))\n",
    "\n",
    "if a in warn_investment_list:\n",
    "    print(\"투자 경고 종목입니다\")\n",
    "    \n",
    "else:\n",
    "    print(\"투자 경고 종목이 아닙니다\")"
   ]
  },
  {
   "cell_type": "code",
   "execution_count": 59,
   "id": "fe4a089b",
   "metadata": {},
   "outputs": [
    {
     "name": "stdout",
     "output_type": "stream",
     "text": [
      "좋아하는 계절을 입력하세요: 봄\n",
      "정답입니다\n"
     ]
    }
   ],
   "source": [
    "# 119\n",
    "# in으로 딕셔너리 안의 키값과 대조할 수 있다.\n",
    "\n",
    "fruit = {\"봄\" : \"딸기\", \"여름\" : \"토마토\", \"가을\" : \"사과\"}\n",
    "\n",
    "a = str(input(\"좋아하는 계절을 입력하세요: \"))\n",
    "\n",
    "if a in fruit:\n",
    "    print(\"정답입니다\")\n",
    "    \n",
    "else:\n",
    "    print(\"틀렸습니다\")\n"
   ]
  },
  {
   "cell_type": "code",
   "execution_count": 61,
   "id": "d33b7cfb",
   "metadata": {},
   "outputs": [
    {
     "name": "stdout",
     "output_type": "stream",
     "text": [
      "좋아하는 과일을 입력하세요: 딸기\n",
      "정답입니다\n"
     ]
    }
   ],
   "source": [
    "# 120\n",
    "\n",
    "fruit = {\"봄\" : \"딸기\", \"여름\" : \"토마토\", \"가을\" : \"사과\"}\n",
    "\n",
    "a = str(input(\"좋아하는 과일을 입력하세요: \"))\n",
    "\n",
    "if a in fruit.values():\n",
    "    print(\"정답입니다\")\n",
    "    \n",
    "else:\n",
    "    print(\"틀렸습니다\")\n"
   ]
  },
  {
   "cell_type": "code",
   "execution_count": 63,
   "id": "1d14bfcb",
   "metadata": {},
   "outputs": [
    {
     "name": "stdout",
     "output_type": "stream",
     "text": [
      "점수를 입력하세요: 0\n",
      "fail\n"
     ]
    }
   ],
   "source": [
    "# 122\n",
    "\n",
    "score = int(input(\"점수를 입력하세요: \"))\n",
    "\n",
    "if  80<score<101:\n",
    "    print(\"score: \",score)\n",
    "    print(\"grade is a\")\n",
    "elif 60<score<81:\n",
    "    \n",
    "    print(\"score: \",score)\n",
    "    print(\"grade is b\")\n",
    "elif 40<score<61:\n",
    "    print(\"score: \",score)\n",
    "    print(\"grade is c\")\n",
    "elif 21<score<41:\n",
    "    print(\"score: \",score)\n",
    "    print(\"grade is d\")  \n",
    "else:\n",
    "    print(\"fail\")\n",
    "\n"
   ]
  },
  {
   "cell_type": "code",
   "execution_count": 77,
   "id": "bcab33f3",
   "metadata": {},
   "outputs": [
    {
     "name": "stdout",
     "output_type": "stream",
     "text": [
      "우편번호 다섯자리를 입력하세요: 11111\n",
      "등록된 우편번호가 없습니다\n"
     ]
    }
   ],
   "source": [
    "# 126\n",
    "\n",
    "code_1 = input(\"우편번호 다섯자리를 입력하세요: \")\n",
    "\n",
    "zip_code = code_1[:3]\n",
    "\n",
    "if len(code_1)!=5:\n",
    "    print(\"잘못된 값을 입력하였습니다\")\n",
    "\n",
    "elif zip_code in [\"010\",\"011\",\"012\"]:\n",
    "    print(\"강북구\")\n",
    "elif zip_code in [\"013\",\"014\",\"015\"]:\n",
    "    print(\"도봉구\")\n",
    "elif zip_code in [\"016\",\"017\",\"018\",\"019\"]:\n",
    "    print(\"노원구\")\n",
    "else:\n",
    "    print(\"등록된 우편번호가 없습니다\")\n",
    "    \n",
    "\n"
   ]
  },
  {
   "cell_type": "code",
   "execution_count": null,
   "id": "21d9fcad",
   "metadata": {},
   "outputs": [],
   "source": [
    "# 129\n",
    "\n",
    "#주민등록번호 유효성 검사기\n",
    "\n",
    "\n",
    "\n",
    "\n",
    "\n",
    "while True:\n",
    "    first_regi = input(\"주민등록번호(하이픈 포함)를 입력하세요: \")\n",
    "    regi = list(first_regi) \n",
    "    if len(regi) != 14:\n",
    "        print(\"잘못된 값을 입력하였습니다\")\n",
    "    elif type(first_regi) == str:\n",
    "        print(\"잘못된 값을 입력하였습니다\")\n",
    "    else:\n",
    "        break\n",
    "print(\"정상 입력되었습니다\")\n",
    "   \n",
    "\n",
    "      \n",
    "\n",
    "\n",
    "regi.remove(\"-\")\n",
    "#print(regi)\n",
    "regi1 = list(map(int,regi))\n",
    "#print(regi1)\n",
    "\n",
    "\n",
    "num1 = [2,3,4,5,6,7,8,9,2,3,4,5]\n",
    "\n",
    "#print(type(num1))\n",
    "\n",
    "i_result = []\n",
    "\n",
    "for i in regi1:\n",
    "    for j in num1:\n",
    "        i_result.append(i*j)\n",
    "\n",
    "        \n",
    "sum1 = sum(i_result)\n",
    "\n",
    "div1 = sum1/11\n",
    "\n",
    "n_result = div1-11\n",
    "\n",
    "if n_result == regi1[11:]:\n",
    "    print(first_regi, \"유효한 주민등록번호 입니다\",end=\"\\n\")\n",
    "else:\n",
    "    print(first_regi, \"유효하지 않은 주민등록번호 입니다\",end=\"\\n\")\n",
    "\n",
    "\n"
   ]
  }
 ],
 "metadata": {
  "kernelspec": {
   "display_name": "Python 3",
   "language": "python",
   "name": "python3"
  },
  "language_info": {
   "codemirror_mode": {
    "name": "ipython",
    "version": 3
   },
   "file_extension": ".py",
   "mimetype": "text/x-python",
   "name": "python",
   "nbconvert_exporter": "python",
   "pygments_lexer": "ipython3",
   "version": "3.8.8"
  }
 },
 "nbformat": 4,
 "nbformat_minor": 5
}
