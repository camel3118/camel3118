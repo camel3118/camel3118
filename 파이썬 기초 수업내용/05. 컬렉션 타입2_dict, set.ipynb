{
 "cells": [
  {
   "cell_type": "markdown",
   "metadata": {},
   "source": [
    "## 학습목표\n",
    " 1. dictionary, set에 대해 이해하고 활용할 수 있다. \n"
   ]
  },
  {
   "cell_type": "markdown",
   "metadata": {},
   "source": [
    "### **dictionary**\n",
    " + 키와 값을 갖는 데이터 구조이다.\n",
    " + 인덱스 는 존재하지 않으며 키 값으로 바로 접근한다\n",
    " + 키는 내부적으로 hash값으로 저장된다.\n",
    " + 순서가 없다. 그러므로 인덱스가 존재하지 않는다. \n",
    " \n",
    " - Key와 Value의 쌍 여러 개가 { } - 중괄호 로 둘러싸여 있다. \n",
    " - 각각의 요소는 Key : Value 형태로 이루어져 있고 쉼표(,)로 구분되어 있다.\n",
    " \n",
    " ```\n",
    " dict = {} -> 비어있는 딕셔너리 생성 가능\n",
    " \n",
    " dic22 = {key1:value1, key2:value2,....} \n",
    " ```\n",
    " \n",
    " # JSON 형태는 파이썬의 딕셔너리 구조와 같다\n",
    " + xml 방식은 태그의 형태로 데이터 키 값 설정함.\n",
    " + xml 은 태그로 정의하기 때문에 데이터가 커질 수록 태그의 수도 많아진다"
   ]
  },
  {
   "cell_type": "markdown",
   "metadata": {},
   "source": [
    "+ **딕셔너리 요소 추가 및 변경**\n",
    " - 기존에 키가 존재 하면, 새로운 값으로 업데이트된다.\n",
    " - 존재하지 않으면, 새로운 키, 값 생성된다."
   ]
  },
  {
   "cell_type": "code",
   "execution_count": null,
   "metadata": {},
   "outputs": [],
   "source": []
  },
  {
   "cell_type": "markdown",
   "metadata": {},
   "source": [
    "+ **딕셔너리 요소 삭제**\n",
    "  * del 키워드  \n",
    "    + del a[1]\n",
    "  * pop() 함수\n",
    "    + a.pop('key')"
   ]
  },
  {
   "cell_type": "code",
   "execution_count": 71,
   "metadata": {},
   "outputs": [
    {
     "name": "stdout",
     "output_type": "stream",
     "text": [
      "<class 'dict'>\n",
      "{'키 값': '밸류 값', '키 값1': '밸류 값2'} <class 'dict'>\n"
     ]
    }
   ],
   "source": [
    "d = {}\n",
    "\n",
    "print(type(d))\n",
    "\n",
    "student = {\"키 값\":\"밸류 값\", \"키 값1\":\"밸류 값2\"}\n",
    "\n",
    "print(student, type(student))\n",
    "\n"
   ]
  },
  {
   "cell_type": "code",
   "execution_count": 72,
   "metadata": {},
   "outputs": [],
   "source": [
    "d = {\"a\":[1,2,3]}\n",
    "\n",
    "# 문자열 숫자 튜플 리스트 다 넣을 수 있다."
   ]
  },
  {
   "cell_type": "code",
   "execution_count": 73,
   "metadata": {},
   "outputs": [
    {
     "data": {
      "text/plain": [
       "[1, 2, 3]"
      ]
     },
     "execution_count": 73,
     "metadata": {},
     "output_type": "execute_result"
    }
   ],
   "source": [
    "d[\"a\"]"
   ]
  },
  {
   "cell_type": "code",
   "execution_count": 74,
   "metadata": {},
   "outputs": [
    {
     "data": {
      "text/plain": [
       "'밸류 값'"
      ]
     },
     "execution_count": 74,
     "metadata": {},
     "output_type": "execute_result"
    }
   ],
   "source": [
    "student[\"키 값\"]"
   ]
  },
  {
   "cell_type": "code",
   "execution_count": 75,
   "metadata": {},
   "outputs": [
    {
     "data": {
      "text/plain": [
       "'밸류 값2'"
      ]
     },
     "execution_count": 75,
     "metadata": {},
     "output_type": "execute_result"
    }
   ],
   "source": [
    "student[\"키 값1\"]"
   ]
  },
  {
   "cell_type": "code",
   "execution_count": 76,
   "metadata": {},
   "outputs": [
    {
     "data": {
      "text/plain": [
       "'밸류 값'"
      ]
     },
     "execution_count": 76,
     "metadata": {},
     "output_type": "execute_result"
    }
   ],
   "source": [
    "student.get(\"키 값\")"
   ]
  },
  {
   "cell_type": "code",
   "execution_count": 77,
   "metadata": {},
   "outputs": [
    {
     "name": "stdout",
     "output_type": "stream",
     "text": [
      "{1: 'a', 2: 'b', 'student': {'키 값': '밸류 값', '키 값1': '밸류 값2'}}\n"
     ]
    }
   ],
   "source": [
    "d2 = {1:\"a\", 2:\"b\", \"student\":student}\n",
    "\n",
    "print(d2)"
   ]
  },
  {
   "cell_type": "code",
   "execution_count": 78,
   "metadata": {},
   "outputs": [
    {
     "data": {
      "text/plain": [
       "'밸류 값'"
      ]
     },
     "execution_count": 78,
     "metadata": {},
     "output_type": "execute_result"
    }
   ],
   "source": [
    "d2[\"student\"][\"키 값\"]"
   ]
  },
  {
   "cell_type": "code",
   "execution_count": 79,
   "metadata": {},
   "outputs": [],
   "source": [
    "d2[\"student\"][\"키 값\"] = \"홍길동\"\n",
    "\n",
    "# 키 값을 이용하여 딕셔너리에 접근한 후 해당 밸류 값을 별도의 값으로 변경할 수 있다."
   ]
  },
  {
   "cell_type": "code",
   "execution_count": 80,
   "metadata": {},
   "outputs": [
    {
     "name": "stdout",
     "output_type": "stream",
     "text": [
      "{1: 'a', 2: 'b', 'student': {'키 값': '홍길동', '키 값1': '밸류 값2'}}\n"
     ]
    }
   ],
   "source": [
    "print(d2)"
   ]
  },
  {
   "cell_type": "code",
   "execution_count": 81,
   "metadata": {},
   "outputs": [],
   "source": [
    "#setdefault()  이용해서 추가하기!! \n"
   ]
  },
  {
   "cell_type": "code",
   "execution_count": 82,
   "metadata": {},
   "outputs": [],
   "source": [
    "x = {'a':10,'b':20,'c':30,'e':50}\n",
    "y = {'a':100,'b':200,'c':300,'d':400}\n"
   ]
  },
  {
   "cell_type": "code",
   "execution_count": 83,
   "metadata": {},
   "outputs": [],
   "source": [
    "x={'a':10,'b':20,'c':30,'d':40}\n",
    "\n"
   ]
  },
  {
   "cell_type": "code",
   "execution_count": 84,
   "metadata": {},
   "outputs": [],
   "source": [
    "y={1:'one',2:'two'}\n"
   ]
  },
  {
   "cell_type": "code",
   "execution_count": 85,
   "metadata": {},
   "outputs": [],
   "source": [
    "y={1:'one',2:'two'}\n"
   ]
  },
  {
   "cell_type": "markdown",
   "metadata": {},
   "source": [
    "* **딕셔너리 key값 삭제**\n",
    " - del 키워드 사용\n",
    "  + del a[1]\n",
    " - pop 함수 이용\n",
    "  + a.pop(\"key 값\")"
   ]
  },
  {
   "cell_type": "code",
   "execution_count": 86,
   "metadata": {},
   "outputs": [
    {
     "name": "stdout",
     "output_type": "stream",
     "text": [
      "{1: 'a', 2: 'b', 'student': {'키 값': '홍길동', '키 값1': '밸류 값2'}}\n",
      "{2: 'b', 'student': {'키 값': '홍길동', '키 값1': '밸류 값2'}}\n"
     ]
    }
   ],
   "source": [
    "print(d2)\n",
    "\n",
    "del d2[1]\n",
    "\n",
    "print(d2)"
   ]
  },
  {
   "cell_type": "code",
   "execution_count": 87,
   "metadata": {},
   "outputs": [
    {
     "data": {
      "text/plain": [
       "'b'"
      ]
     },
     "execution_count": 87,
     "metadata": {},
     "output_type": "execute_result"
    }
   ],
   "source": [
    "d2.pop(2)"
   ]
  },
  {
   "cell_type": "code",
   "execution_count": 88,
   "metadata": {},
   "outputs": [
    {
     "data": {
      "text/plain": [
       "{'student': {'키 값': '홍길동', '키 값1': '밸류 값2'}, 1: 'test'}"
      ]
     },
     "execution_count": 88,
     "metadata": {},
     "output_type": "execute_result"
    }
   ],
   "source": [
    "d2[1] = \"test\"\n",
    "\n",
    "d2\n",
    "\n",
    "# 별도의 키 값과 밸류값을 입력하여 딕셔너리에 데이터를 추가할 수 있다."
   ]
  },
  {
   "cell_type": "code",
   "execution_count": 89,
   "metadata": {},
   "outputs": [
    {
     "data": {
      "text/plain": [
       "{'student': {'키 값': '홍길동', '키 값1': '밸류 값2'}, 1: 'test', 2: [1, 2, 3]}"
      ]
     },
     "execution_count": 89,
     "metadata": {},
     "output_type": "execute_result"
    }
   ],
   "source": [
    "d2[2] = [1,2,3]\n",
    "\n",
    "d2"
   ]
  },
  {
   "cell_type": "code",
   "execution_count": 90,
   "metadata": {},
   "outputs": [
    {
     "data": {
      "text/plain": [
       "{'student': {'키 값': '홍길동',\n",
       "  '키 값1': '밸류 값2',\n",
       "  'score': {'python': 100, 'mysql': 100}},\n",
       " 1: 'test',\n",
       " 2: [1, 2, 3]}"
      ]
     },
     "execution_count": 90,
     "metadata": {},
     "output_type": "execute_result"
    }
   ],
   "source": [
    "d2[\"student\"][\"score\"] = {\"python\": 100, \"mysql\": 100}\n",
    "\n",
    "d2"
   ]
  },
  {
   "cell_type": "code",
   "execution_count": 91,
   "metadata": {
    "scrolled": true
   },
   "outputs": [
    {
     "name": "stdout",
     "output_type": "stream",
     "text": [
      "{'a': 10, 'b': 20, 'c': 30, 'd': None}\n",
      "{'a': 10, 'b': 20, 'c': 30, 'd': None}\n",
      "{'a': 10, 'b': 20, 'c': 30, 'd': None, 'e': 50}\n",
      "{'a': 10, 'b': 20, 'c': 30, 'd': None, 'e': 50, 'f': 200}\n",
      "{'a': 1000, 'b': 20, 'c': 30, 'd': None, 'e': 50, 'f': 200}\n"
     ]
    }
   ],
   "source": [
    "# setdefault() 이용하여 추가하기\n",
    "# 제시한 값이 있으면 추가 및 변경하여 출력하고 없으면 기존의 값을 출력\n",
    "# 입력된 값들은 중복되지 않는다.\n",
    "\n",
    "x = {\"a\":10, \"b\":20, \"c\":30}\n",
    "\n",
    "x.setdefault(\"d\")\n",
    "print(x)\n",
    "x[\"a\"]\n",
    " \n",
    "x.setdefault(\"a\")\n",
    "print(x)\n",
    "\n",
    "x[\"e\"] = 50\n",
    "print(x)\n",
    "\n",
    "x.setdefault(\"f\", 200)\n",
    "print(x)\n",
    "x[\"a\"] = 1000\n",
    "print(x)\n"
   ]
  },
  {
   "cell_type": "markdown",
   "metadata": {},
   "source": [
    " + update()\n",
    "     + 두 딕셔너리를 병합한다.\n",
    "     + 겹치는 키가 있다면 parameter로 전달되는 키 값이 overwrite 된다."
   ]
  },
  {
   "cell_type": "code",
   "execution_count": 92,
   "metadata": {},
   "outputs": [
    {
     "name": "stdout",
     "output_type": "stream",
     "text": [
      "{'a': 10, 'b': 20, 'c': 30, 'e': 50}\n",
      "{'a': 10, 'b': 20, 'c': 30, 'd': 400, 'e': 50}\n"
     ]
    }
   ],
   "source": [
    "x = {\"a\":10, \"b\":20, \"c\":30, \"e\":50}\n",
    "y = {\"a\":100, \"b\":200, \"c\":300, \"d\":400}\n",
    "\n",
    "y.update(x)\n",
    "\n",
    "print(x)\n",
    "print(y)"
   ]
  },
  {
   "cell_type": "code",
   "execution_count": 93,
   "metadata": {},
   "outputs": [
    {
     "name": "stdout",
     "output_type": "stream",
     "text": [
      "{'a': 100, 'b': 20, 'c': 30, 'd': 40}\n",
      "{'a': 1000, 'b': 200, 'c': 30, 'd': 40, 'e': 500}\n"
     ]
    }
   ],
   "source": [
    "x = {\"a\":10, \"b\":20, \"c\":30, \"d\":40}\n",
    "\n",
    "x.update(a=100)\n",
    "print(x)\n",
    "\n",
    "x.update(a=1000, b=200, e=500)\n",
    "print(x)"
   ]
  },
  {
   "cell_type": "code",
   "execution_count": 94,
   "metadata": {},
   "outputs": [
    {
     "name": "stdout",
     "output_type": "stream",
     "text": [
      "{1: 'one', 2: 'two'}\n"
     ]
    }
   ],
   "source": [
    "y = {1:\"one\", 2:\"two\"}\n",
    "\n",
    "y.update([[1,\"one\"]])\n",
    "\n",
    "print(y)"
   ]
  },
  {
   "cell_type": "code",
   "execution_count": 95,
   "metadata": {},
   "outputs": [
    {
     "name": "stdout",
     "output_type": "stream",
     "text": [
      "{1: 'one', 2: 'two', 3: 'three'}\n"
     ]
    }
   ],
   "source": [
    "y = {1:\"one\", 2:\"two\"}\n",
    "\n",
    "y.update([[1,\"one\"], [3, \"three\"]])\n",
    "\n",
    "print(y)"
   ]
  },
  {
   "cell_type": "code",
   "execution_count": 96,
   "metadata": {},
   "outputs": [
    {
     "data": {
      "text/plain": [
       "'two'"
      ]
     },
     "execution_count": 96,
     "metadata": {},
     "output_type": "execute_result"
    }
   ],
   "source": [
    "y.pop(2)"
   ]
  },
  {
   "cell_type": "code",
   "execution_count": 97,
   "metadata": {},
   "outputs": [
    {
     "data": {
      "text/plain": [
       "{1: 'one', 3: 'three'}"
      ]
     },
     "execution_count": 97,
     "metadata": {},
     "output_type": "execute_result"
    }
   ],
   "source": [
    "y"
   ]
  },
  {
   "cell_type": "markdown",
   "metadata": {},
   "source": [
    "* **clear()**\n",
    " + 딕셔너리의 모든 키-값 쌍을 삭제한다. \n"
   ]
  },
  {
   "cell_type": "code",
   "execution_count": 98,
   "metadata": {},
   "outputs": [
    {
     "name": "stdout",
     "output_type": "stream",
     "text": [
      "{'a': 1000, 'b': 200, 'c': 30, 'd': 40, 'e': 500}\n"
     ]
    }
   ],
   "source": [
    "print(x)"
   ]
  },
  {
   "cell_type": "code",
   "execution_count": 99,
   "metadata": {},
   "outputs": [
    {
     "name": "stdout",
     "output_type": "stream",
     "text": [
      "{}\n"
     ]
    }
   ],
   "source": [
    "x.clear()\n",
    "\n",
    "print(x)"
   ]
  },
  {
   "cell_type": "code",
   "execution_count": 104,
   "metadata": {},
   "outputs": [
    {
     "ename": "NameError",
     "evalue": "name 'x' is not defined",
     "output_type": "error",
     "traceback": [
      "\u001b[1;31m---------------------------------------------------------------------------\u001b[0m",
      "\u001b[1;31mNameError\u001b[0m                                 Traceback (most recent call last)",
      "\u001b[1;32m<ipython-input-104-3911ce977e97>\u001b[0m in \u001b[0;36m<module>\u001b[1;34m\u001b[0m\n\u001b[0;32m      3\u001b[0m \u001b[1;32mdel\u001b[0m \u001b[0mx\u001b[0m\u001b[1;33m\u001b[0m\u001b[1;33m\u001b[0m\u001b[0m\n\u001b[0;32m      4\u001b[0m \u001b[1;33m\u001b[0m\u001b[0m\n\u001b[1;32m----> 5\u001b[1;33m \u001b[0mprint\u001b[0m\u001b[1;33m(\u001b[0m\u001b[0mx\u001b[0m\u001b[1;33m)\u001b[0m\u001b[1;33m\u001b[0m\u001b[1;33m\u001b[0m\u001b[0m\n\u001b[0m",
      "\u001b[1;31mNameError\u001b[0m: name 'x' is not defined"
     ]
    }
   ],
   "source": [
    "x = {\"a\":10, \"b\":20, \"c\":30, \"e\":50}\n",
    "\n",
    "del x\n",
    "\n",
    "print(x)"
   ]
  },
  {
   "cell_type": "markdown",
   "metadata": {},
   "source": [
    "* **in**\n",
    " + key값 존재여부를 확인한다.\n",
    " + O(1) 연산 - 딕셔너리의 크기와 관계없이 항상 연산의 속도가 일정하다는 의미한다."
   ]
  },
  {
   "cell_type": "code",
   "execution_count": 106,
   "metadata": {},
   "outputs": [
    {
     "name": "stdout",
     "output_type": "stream",
     "text": [
      "True False\n"
     ]
    }
   ],
   "source": [
    "x={'a':10,'b':20,'c':30,'d':40}\n",
    "\n",
    "a = \"a\" in x\n",
    "b = \"e\" in x\n",
    "\n",
    "print(a, b)"
   ]
  },
  {
   "cell_type": "markdown",
   "metadata": {},
   "source": [
    "* **value access**\n",
    " + dict[key]로 접급, 키가 없는 경우 에러 발생 \n",
    " + .get() 함수로 접근, 키가 없는 경우 None반환"
   ]
  },
  {
   "cell_type": "code",
   "execution_count": 107,
   "metadata": {},
   "outputs": [
    {
     "ename": "KeyError",
     "evalue": "'hg'",
     "output_type": "error",
     "traceback": [
      "\u001b[1;31m---------------------------------------------------------------------------\u001b[0m",
      "\u001b[1;31mKeyError\u001b[0m                                  Traceback (most recent call last)",
      "\u001b[1;32m<ipython-input-107-b676bacbad01>\u001b[0m in \u001b[0;36m<module>\u001b[1;34m\u001b[0m\n\u001b[1;32m----> 1\u001b[1;33m \u001b[0mx\u001b[0m\u001b[1;33m[\u001b[0m\u001b[1;34m\"hg\"\u001b[0m\u001b[1;33m]\u001b[0m\u001b[1;33m\u001b[0m\u001b[1;33m\u001b[0m\u001b[0m\n\u001b[0m",
      "\u001b[1;31mKeyError\u001b[0m: 'hg'"
     ]
    }
   ],
   "source": [
    "x[\"hg\"]"
   ]
  },
  {
   "cell_type": "code",
   "execution_count": 109,
   "metadata": {},
   "outputs": [
    {
     "name": "stdout",
     "output_type": "stream",
     "text": [
      "None\n"
     ]
    }
   ],
   "source": [
    "a = x.get(\"hg\")\n",
    "\n",
    "print(a)"
   ]
  },
  {
   "cell_type": "markdown",
   "metadata": {},
   "source": [
    "#### **모든 keys, values 접근**\n",
    " + keys() - 키만 반환\n",
    " + values() - 값만 반환\n",
    " + items() - 키, 값의 튜플을 반환"
   ]
  },
  {
   "cell_type": "code",
   "execution_count": null,
   "metadata": {},
   "outputs": [],
   "source": []
  },
  {
   "cell_type": "code",
   "execution_count": 110,
   "metadata": {},
   "outputs": [
    {
     "data": {
      "text/plain": [
       "dict_keys(['a', 'b', 'c', 'd'])"
      ]
     },
     "execution_count": 110,
     "metadata": {},
     "output_type": "execute_result"
    }
   ],
   "source": [
    "x={'a':10,'b':20,'c':30,'d':40}\n",
    "\n",
    "x.keys()"
   ]
  },
  {
   "cell_type": "code",
   "execution_count": 111,
   "metadata": {},
   "outputs": [
    {
     "data": {
      "text/plain": [
       "dict_values([10, 20, 30, 40])"
      ]
     },
     "execution_count": 111,
     "metadata": {},
     "output_type": "execute_result"
    }
   ],
   "source": [
    "x={'a':10,'b':20,'c':30,'d':40}\n",
    "\n",
    "\n",
    "x.values()"
   ]
  },
  {
   "cell_type": "code",
   "execution_count": 112,
   "metadata": {},
   "outputs": [
    {
     "data": {
      "text/plain": [
       "dict_items([('a', 10), ('b', 20), ('c', 30), ('d', 40)])"
      ]
     },
     "execution_count": 112,
     "metadata": {},
     "output_type": "execute_result"
    }
   ],
   "source": [
    "x={'a':10,'b':20,'c':30,'d':40}\n",
    "\n",
    "x.items()"
   ]
  },
  {
   "cell_type": "code",
   "execution_count": 113,
   "metadata": {},
   "outputs": [
    {
     "name": "stdout",
     "output_type": "stream",
     "text": [
      "[('a', 10), ('b', 20), ('c', 30), ('d', 40)] <class 'list'>\n"
     ]
    }
   ],
   "source": [
    "# 리스트로 변환시\n",
    "\n",
    "x={'a':10,'b':20,'c':30,'d':40}\n",
    "\n",
    "a = list(x.items())\n",
    "\n",
    "print(a, type(a))"
   ]
  },
  {
   "cell_type": "markdown",
   "metadata": {},
   "source": [
    "### **리스트와 튜플로 딕셔너리 만들기**\n"
   ]
  },
  {
   "cell_type": "code",
   "execution_count": 2,
   "metadata": {},
   "outputs": [
    {
     "name": "stdout",
     "output_type": "stream",
     "text": [
      "{'a': None, 'b': None, 'c': None, 'd': None}\n"
     ]
    }
   ],
   "source": [
    "keys = ['a','b','c','d']\n",
    "\n",
    "dict1 = dict.fromkeys(keys)\n",
    "\n",
    "print(dict1)"
   ]
  },
  {
   "cell_type": "code",
   "execution_count": 3,
   "metadata": {},
   "outputs": [
    {
     "name": "stdout",
     "output_type": "stream",
     "text": [
      "{'a': 100, 'b': 100, 'c': 100, 'd': 100}\n"
     ]
    }
   ],
   "source": [
    "dict2 = dict.fromkeys(keys, 100)\n",
    "\n",
    "print(dict2)"
   ]
  },
  {
   "cell_type": "code",
   "execution_count": 4,
   "metadata": {},
   "outputs": [
    {
     "name": "stdout",
     "output_type": "stream",
     "text": [
      "{'a': 10, 'b': 20, 'c': 30}\n"
     ]
    }
   ],
   "source": [
    "dict3 = dict([(\"a\",10),(\"b\",20),(\"c\", 30)])\n",
    "\n",
    "print( dict3)"
   ]
  },
  {
   "cell_type": "code",
   "execution_count": 5,
   "metadata": {},
   "outputs": [
    {
     "name": "stdout",
     "output_type": "stream",
     "text": [
      "{'a': 10, 'b': 20, 'c': 30}\n"
     ]
    }
   ],
   "source": [
    "dic4 = dict(a= 10, b= 20, c= 30)\n",
    "\n",
    "print(dic4)"
   ]
  },
  {
   "cell_type": "markdown",
   "metadata": {},
   "source": [
    "### **set**\n",
    " + dictionary에서 key만 활용하는 데이터 구조이다.\n",
    " + 수학에서의 집합과 동일한 개념이다.\n",
    " + 파이썬 2.3부터 지원된 자료형으로 집합에 관련된 것을 쉽게 처리한다.\n",
    " + set 키워드를 이용해서 만들 수 있다. \n",
    " + 빈 set 을 만드는 방법은 set() 을 이용한다. \n",
    " + 특징\n",
    "     - 중복을 허용하지 않는다. \n",
    "     - 순서가 없다. "
   ]
  },
  {
   "cell_type": "code",
   "execution_count": 6,
   "metadata": {},
   "outputs": [
    {
     "name": "stdout",
     "output_type": "stream",
     "text": [
      "{1, 2, 3} <class 'set'>\n"
     ]
    }
   ],
   "source": [
    "s1 = {1,2,3}\n",
    "\n",
    "print(s1, type(s1))"
   ]
  },
  {
   "cell_type": "code",
   "execution_count": 7,
   "metadata": {},
   "outputs": [
    {
     "name": "stdout",
     "output_type": "stream",
     "text": [
      "<class 'set'>\n"
     ]
    }
   ],
   "source": [
    "s2 = set()\n",
    "\n",
    "print(type(s2))"
   ]
  },
  {
   "cell_type": "code",
   "execution_count": 8,
   "metadata": {},
   "outputs": [
    {
     "name": "stdout",
     "output_type": "stream",
     "text": [
      "{1, 2, 3, 4, 5, 6, 7, 8, 9} <class 'set'>\n"
     ]
    }
   ],
   "source": [
    "# set은 중복되는 값은 출력하지 않는다\n",
    "\n",
    "s3 = {1,2,3,4,5,6,7,8,9,9,9,9,9,9,9,9,9,9,9,9}\n",
    "\n",
    "print(s3, type(s3))"
   ]
  },
  {
   "cell_type": "code",
   "execution_count": 18,
   "metadata": {},
   "outputs": [
    {
     "name": "stdout",
     "output_type": "stream",
     "text": [
      "{1, 2, 3, 4} <class 'set'>\n"
     ]
    }
   ],
   "source": [
    "a = [1,1,1,1,1,1,1,1,1,2,3,4]\n",
    "\n",
    "b = set(a)\n",
    "\n",
    "print(b,type(b))"
   ]
  },
  {
   "cell_type": "code",
   "execution_count": 17,
   "metadata": {},
   "outputs": [
    {
     "name": "stdout",
     "output_type": "stream",
     "text": [
      "{'o', 'l', 'h', 'e'} <class 'set'>\n"
     ]
    }
   ],
   "source": [
    "ss = \"hello\"\n",
    "\n",
    "s5 = set(ss)\n",
    "\n",
    "print(s5, type(s5))"
   ]
  },
  {
   "cell_type": "markdown",
   "metadata": {},
   "source": [
    "* **set()으로 집합으로 변환**"
   ]
  },
  {
   "cell_type": "code",
   "execution_count": 19,
   "metadata": {},
   "outputs": [
    {
     "name": "stdout",
     "output_type": "stream",
     "text": [
      "{1}\n",
      "{1}\n",
      "{1, 2, 3, 4}\n",
      "{1, 2, 3, 4}\n",
      "{2, 3}\n",
      "{2, 3}\n"
     ]
    }
   ],
   "source": [
    "a = {1,2,3}\n",
    "b = {2,3,4}\n",
    "\n",
    "print(a-b)\n",
    "print(a.difference(b))\n",
    "print(a | b)\n",
    "print(a.union(b))\n",
    "print(a&b)\n",
    "print(a.intersection(b))"
   ]
  },
  {
   "cell_type": "code",
   "execution_count": null,
   "metadata": {},
   "outputs": [],
   "source": []
  },
  {
   "cell_type": "markdown",
   "metadata": {},
   "source": [
    "+ **set operations**\n",
    " - 수학 연산과 동일하다.\n",
    " - 교집합, 합집합, 차집합 등 지원한다."
   ]
  },
  {
   "cell_type": "code",
   "execution_count": 9,
   "metadata": {},
   "outputs": [],
   "source": [
    "a = {1,2,3}\n",
    "b = {2,3,4}\n",
    "\n",
    "\n"
   ]
  },
  {
   "cell_type": "code",
   "execution_count": null,
   "metadata": {},
   "outputs": [],
   "source": []
  },
  {
   "cell_type": "markdown",
   "metadata": {},
   "source": [
    "+ **set 값 추가 제거 하기**"
   ]
  },
  {
   "cell_type": "code",
   "execution_count": 24,
   "metadata": {},
   "outputs": [
    {
     "name": "stdout",
     "output_type": "stream",
     "text": [
      "{1, 2, 3, 4, 5, 6}\n",
      "{1, 2, 3, 4, 6}\n"
     ]
    }
   ],
   "source": [
    "# add는 하나씩 추가\n",
    "a.add(5)\n",
    "print(a)\n",
    "a.remove(5)\n",
    "print(a)"
   ]
  },
  {
   "cell_type": "code",
   "execution_count": 25,
   "metadata": {},
   "outputs": [
    {
     "name": "stdout",
     "output_type": "stream",
     "text": [
      "{1, 2, 3, 4, 5, 6}\n"
     ]
    }
   ],
   "source": [
    "# update는 여러개 추가\n",
    "a.update([4,5,6])\n",
    "print(a)\n",
    "\n",
    "a.update([5,6,7])\n",
    "print(a,type(a))\n"
   ]
  },
  {
   "cell_type": "code",
   "execution_count": 28,
   "metadata": {},
   "outputs": [
    {
     "name": "stdout",
     "output_type": "stream",
     "text": [
      "1\n"
     ]
    }
   ],
   "source": [
    "print(a.pop())"
   ]
  },
  {
   "cell_type": "code",
   "execution_count": 34,
   "metadata": {},
   "outputs": [
    {
     "name": "stdout",
     "output_type": "stream",
     "text": [
      "[(1, 'a'), (2, 'b'), (3, 'c')]\n",
      "{1: 'a', 2: 'b', 3: 'c'}\n",
      "[(1, 'a', 100), (2, 'b', 200), (3, 'c', 300)]\n"
     ]
    }
   ],
   "source": [
    "# zip 함수\n",
    "# zip을 리스트로 형변환 하면 튜플로 출력\n",
    "\n",
    "a = [1,2,3]\n",
    "b = [\"a\", \"b\", \"c\"]\n",
    "\n",
    "print(list(zip(a,b)))\n",
    "print(dict(zip(a,b)))\n",
    "\n",
    "\n",
    "c = [100,200,300,400,500,600]\n",
    "\n",
    "print(list(zip(a,b,c)))\n",
    "# 딕셔너리는 키:밸류 로 구성되기 때문에 여러개가 묶인 zip은 형변환 되지 않는다.\n"
   ]
  },
  {
   "cell_type": "code",
   "execution_count": 35,
   "metadata": {},
   "outputs": [
    {
     "name": "stdout",
     "output_type": "stream",
     "text": [
      "[(1, 'a'), (2, 'b'), (3, 'c')]\n",
      "{1: 'a', 2: 'b', 3: 'c'}\n",
      "[(1, 'a', 100), (2, 'b', 200), (3, 'c', 300)]\n"
     ]
    }
   ],
   "source": [
    "a = [1,2,3,4]\n",
    "b = [\"a\", \"b\", \"c\"]\n",
    "\n",
    "print(list(zip(a,b)))\n",
    "print(dict(zip(a,b)))\n",
    "\n",
    "\n",
    "c = [100,200,300,400,500,600]\n",
    "\n",
    "print(list(zip(a,b,c)))"
   ]
  },
  {
   "cell_type": "code",
   "execution_count": 36,
   "metadata": {},
   "outputs": [
    {
     "name": "stdout",
     "output_type": "stream",
     "text": [
      "[(1, 'a'), (2, 'b'), (3, 'c')]\n",
      "{1: 'a', 2: 'b', 3: 'c'}\n",
      "[(1, 'a', 100, 'h'), (2, 'b', 200, 'e'), (3, 'c', 300, 'l')]\n"
     ]
    }
   ],
   "source": [
    "a = [1,2,3,4]\n",
    "b = [\"a\", \"b\", \"c\"]\n",
    "\n",
    "print(list(zip(a,b)))\n",
    "print(dict(zip(a,b)))\n",
    "\n",
    "\n",
    "c = [100,200,300,400,500,600]\n",
    "\n",
    "d = \"hello\"\n",
    "print(list(zip(a,b,c,d)))"
   ]
  },
  {
   "cell_type": "markdown",
   "metadata": {},
   "source": [
    "#### list 복사 "
   ]
  },
  {
   "cell_type": "code",
   "execution_count": 5,
   "metadata": {},
   "outputs": [
    {
     "name": "stdout",
     "output_type": "stream",
     "text": [
      "1204764001024 ['choi', 'kim', 'hong', 'lee']\n",
      "1204764001024 ['choi', 'kim', 'hong', 'lee']\n",
      "1204764001024 ['choi', 'kim', 'hong', 'lee']\n",
      "1204763817216 ['kang', 'kim', 'hong', 'lee']\n"
     ]
    }
   ],
   "source": [
    "names = ['kang','kim','hong','lee']\n",
    "\n",
    "names2 = names\n",
    "\n",
    "names2[0] = \"choi\"\n",
    "\n",
    "print(id(names),names)\n",
    "print(id(names2),names2)\n",
    "\n",
    "names2 = names.copy()\n",
    "names2[0] = \"kang\"\n",
    "print(id(names),names)\n",
    "print(id(names2),names2)"
   ]
  },
  {
   "cell_type": "code",
   "execution_count": 6,
   "metadata": {},
   "outputs": [
    {
     "name": "stdout",
     "output_type": "stream",
     "text": [
      "1204764277744 hello\n",
      "1204764277744 hello\n",
      "1204764277744 hello\n",
      "1204764296304 helloa\n"
     ]
    }
   ],
   "source": [
    "s = \"hello\"\n",
    "\n",
    "s2 = s\n",
    "\n",
    "print(id(s), s)\n",
    "print(id(s2), s2)\n",
    "\n",
    "s2 = s2+\"a\"\n",
    "\n",
    "print(id(s), s)\n",
    "print(id(s2), s2)"
   ]
  },
  {
   "cell_type": "code",
   "execution_count": 7,
   "metadata": {},
   "outputs": [],
   "source": [
    "# 리스트를 복사하게 되면 복사모체의 id를 복사되게 되는데, 안에 객체가 바뀌게 되면 id 값도 바뀌게 된다."
   ]
  },
  {
   "cell_type": "code",
   "execution_count": 11,
   "metadata": {},
   "outputs": [
    {
     "name": "stdout",
     "output_type": "stream",
     "text": [
      "1204764079552 [[10, 20], [30, 40], [50, 60]]\n",
      "1204764000768 [[10, 20], [30, 40], [50, 60]]\n",
      "1204764079552 [[500, 20], [30, 40], [50, 60]]\n",
      "1204764000768 [[500, 20], [30, 40], [50, 60]]\n"
     ]
    }
   ],
   "source": [
    "list_a = [[10,20], [30,40], [50,60]]\n",
    "list_b = list_a.copy()\n",
    "print(id(list_a),list_a)\n",
    "print(id(list_b),list_b)\n",
    "\n",
    "list_b[0][0] = 500\n",
    "\n",
    "print(id(list_a),list_a)\n",
    "print(id(list_b),list_b)\n",
    "\n",
    "# 각 객체의 id를 같이 복사했기 때문에 b가 바뀌더라도 a도 같이 바뀌게 된다."
   ]
  },
  {
   "cell_type": "code",
   "execution_count": 13,
   "metadata": {
    "scrolled": true
   },
   "outputs": [
    {
     "name": "stdout",
     "output_type": "stream",
     "text": [
      "1204764079552 [[500, 20], [30, 40], [50, 60]]\n",
      "1204764079808 [[500, 20], [30, 40], [50, 60]]\n",
      "1204764079552 [[500, 20], [30, 40], [50, 60]]\n",
      "1204764079808 [[600, 20], [30, 40], [50, 60]]\n"
     ]
    }
   ],
   "source": [
    "import copy\n",
    "\n",
    "list_b = copy.deepcopy(list_a) # 값만 전달한다. id 제외\n",
    "\n",
    "print(id(list_a),list_a)\n",
    "print(id(list_b),list_b)\n",
    "\n",
    "list_b[0][0] = 600\n",
    "\n",
    "print(id(list_a),list_a)\n",
    "print(id(list_b),list_b)"
   ]
  },
  {
   "cell_type": "code",
   "execution_count": null,
   "metadata": {},
   "outputs": [],
   "source": []
  }
 ],
 "metadata": {
  "kernelspec": {
   "display_name": "Python 3",
   "language": "python",
   "name": "python3"
  },
  "language_info": {
   "codemirror_mode": {
    "name": "ipython",
    "version": 3
   },
   "file_extension": ".py",
   "mimetype": "text/x-python",
   "name": "python",
   "nbconvert_exporter": "python",
   "pygments_lexer": "ipython3",
   "version": "3.8.8"
  }
 },
 "nbformat": 4,
 "nbformat_minor": 1
}
