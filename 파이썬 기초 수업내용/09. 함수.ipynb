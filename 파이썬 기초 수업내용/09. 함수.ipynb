{
 "cells": [
  {
   "cell_type": "markdown",
   "metadata": {},
   "source": [
    "### 학습목표\n",
    " 1. 함수를 이해하고 활용 할 수 있다."
   ]
  },
  {
   "cell_type": "markdown",
   "metadata": {},
   "source": [
    "### 함수란?\n",
    "* 지금까지 무심코 코드에서 사용된 많은 함수들이 존재 한다.\n",
    "* 예를들면, sum, len, range 같은 함수 등이 있다. \n",
    "* 함수란 우리가 알고있는 개념처럼 주어진 입력(input)에 대해서 의도된 출력(output)를 전달하는 역할을 한다.\n",
    "\n",
    "* python 내부에 이미 정의(구현)된 함수를 내장함수(built-in function)이라고 한다."
   ]
  },
  {
   "cell_type": "code",
   "execution_count": 1,
   "metadata": {},
   "outputs": [
    {
     "name": "stdout",
     "output_type": "stream",
     "text": [
      "6\n"
     ]
    }
   ],
   "source": [
    "a = [1,2,3]\n",
    "\n",
    "sum(a)\n",
    "max(a)\n",
    "sum()\n"
   ]
  },
  {
   "cell_type": "markdown",
   "metadata": {},
   "source": [
    "#### **함수의 정의**\n",
    "\n",
    "```\n",
    "def 함수명(매개변수):\n",
    "    수행할문장들..\n",
    "    \n",
    "```\n",
    "  + def 키워드 사용한다.\n",
    "  + 매개변수란 함수에 입력으로 전달하는 값을 의미한다.parameter라고 한다.\n",
    "  + : (콜론) \n",
    "  + body (함수의 구현 부분, 함수 역시 코드 블록이기 때문에 들여쓰기 된 부분까지 함수의 코드블록으로 인지 함)\n",
    "    - 함수를 호출한 코드 (caller)로 함수가 해당 기능을 수행하고 완료된 값(output)을 전달하기 위해 return 키워드 사용한다.\n",
    "    - 즉, return 이후에 오는 값을 caller로 전달한다.\n",
    "  + 함수의 네이밍 무척 중요하다.\n",
    "    - 즉, 어떤 기능을 하는 함수인지 이름으로 최대한 나타날 수 있게 해야한다."
   ]
  },
  {
   "cell_type": "code",
   "execution_count": 1,
   "metadata": {
    "scrolled": true
   },
   "outputs": [
    {
     "name": "stdout",
     "output_type": "stream",
     "text": [
      "hi\n",
      "hi\n",
      "hi\n"
     ]
    }
   ],
   "source": [
    "def print_hi(count):\n",
    "    while count > 0 :\n",
    "        print(\"hi\")\n",
    "        count -= 1\n",
    "print_hi(3)"
   ]
  },
  {
   "cell_type": "code",
   "execution_count": 3,
   "metadata": {},
   "outputs": [
    {
     "name": "stdout",
     "output_type": "stream",
     "text": [
      "hello\n",
      "hello\n",
      "hello\n"
     ]
    }
   ],
   "source": [
    "\n",
    "\n",
    "def print_msg(count,msg):\n",
    "    while count > 0:\n",
    "        print(msg)\n",
    "        count -= 1\n",
    "        \n",
    "print_msg(3,\"hello\")"
   ]
  },
  {
   "cell_type": "code",
   "execution_count": 5,
   "metadata": {},
   "outputs": [
    {
     "name": "stdout",
     "output_type": "stream",
     "text": [
      "5\n"
     ]
    }
   ],
   "source": [
    "def add(a,b):\n",
    "    sum = a + b\n",
    "    return sum\n",
    "\n",
    "sum_value = add(2,3)\n",
    "\n"
   ]
  },
  {
   "cell_type": "code",
   "execution_count": 6,
   "metadata": {},
   "outputs": [
    {
     "name": "stdout",
     "output_type": "stream",
     "text": [
      "15\n"
     ]
    }
   ],
   "source": [
    "def gugu_print(i,j):\n",
    "    gugu = i * j\n",
    "    return gugu\n",
    "\n",
    "gugudan = gugu_print(3,5)\n",
    "\n",
    "print(gugudan)"
   ]
  },
  {
   "cell_type": "code",
   "execution_count": 9,
   "metadata": {},
   "outputs": [
    {
     "name": "stdout",
     "output_type": "stream",
     "text": [
      "5 X 1 = 5\n",
      "5 X 2 = 10\n",
      "5 X 3 = 15\n",
      "5 X 4 = 20\n",
      "5 X 5 = 25\n",
      "5 X 6 = 30\n",
      "5 X 7 = 35\n",
      "5 X 8 = 40\n",
      "5 X 9 = 45\n",
      "None\n"
     ]
    }
   ],
   "source": [
    "def gugu_print(dan):\n",
    "    for i in range(1,10):\n",
    "        print(\"{} X {} = {}\".format(dan,i,i*dan))\n",
    "print(gugu_print(5))\n",
    "gugu_print"
   ]
  },
  {
   "cell_type": "code",
   "execution_count": null,
   "metadata": {},
   "outputs": [],
   "source": []
  },
  {
   "cell_type": "markdown",
   "metadata": {},
   "source": [
    "#### **함수의 사용(호출)**\n",
    " + 함수명(argument1, argument2, ... argumentn)\n",
    " + 위와 같이 정의 된 함수의 이름과 전달되는 argument(인수)를 괄호안에 전달하여 함수를 호출\n",
    " + 함수가 호출되면 실행의 흐름이 호출자(caller)에서 함수(callee)로 변경 된다."
   ]
  },
  {
   "cell_type": "code",
   "execution_count": null,
   "metadata": {},
   "outputs": [],
   "source": []
  },
  {
   "cell_type": "markdown",
   "metadata": {},
   "source": [
    "#### **parameter**\n",
    " + 함수에 전달되는 입력(input)\n",
    " + 입력이 필요하지 않을 수도, 1개의 입력만 있을 수도, 여러개의 입력이 존재할 수 도 있다.\n",
    " + 파라미터로 int, string, float, boolm, list, dict 등등 어떤 파이썬 객체도 전달 가능하다.\n",
    " + 심지어, 함수도 함수의 파라미터로 전달 가능하다.\n",
    " \n",
    " + python의 경우, 타입 명시가 없기 때문에, 함수 생성 시, 의도된 파라미터의 타입에 맞게 입력을 전달하는 것이 중요하다.\n",
    " + 또한 파라미터를 전달 할 때, 정의된 순서에 따라 값을 전달하는 것이 중요하다.\n"
   ]
  },
  {
   "cell_type": "code",
   "execution_count": 13,
   "metadata": {},
   "outputs": [
    {
     "name": "stdout",
     "output_type": "stream",
     "text": [
      "100 200 300\n",
      "200 100 300\n"
     ]
    }
   ],
   "source": [
    "# * 은 아스트릭 문법. 리스트를 펼쳐서 각각의 값으로 변수를 집어넣을 수 있다.\n",
    "def print_num(a,b,c):\n",
    "    print(a,b,c)\n",
    "\n",
    "    \n",
    "list_a=[100,200,300]\n",
    "tuple_a={100,200,300}\n",
    "print_num(*list_a)\n",
    "print_num(*tuple_a)"
   ]
  },
  {
   "cell_type": "code",
   "execution_count": 17,
   "metadata": {},
   "outputs": [
    {
     "name": "stdout",
     "output_type": "stream",
     "text": [
      "10 10 10\n",
      "6\n",
      "16\n",
      "1.2.3.4by!!"
     ]
    }
   ],
   "source": [
    "a=b=c=10\n",
    "print(a,b,c,end=\"\\n\")\n",
    "\n",
    "def add(a,b=5,c=10): #디폴트 파라메터\n",
    "    return a+b+c\n",
    "\n",
    "print(add(1,2,3))\n",
    "print(add(1))\n",
    "\n",
    "print(1,2.3,4, sep=\".\", end=\"by!!\")"
   ]
  },
  {
   "cell_type": "markdown",
   "metadata": {},
   "source": [
    "####  Default parameter (기본 인자) \n",
    " + 함수의 파라미터에 기본값 지정 가능하다.\n",
    " + 파라미터를 명시하지 않을 경우, 지정된 기본값으로 대체한다.\n",
    " + 디폴트 파라미터 뒤에 일반 파라미터가 위치할 수 없다. "
   ]
  },
  {
   "cell_type": "code",
   "execution_count": null,
   "metadata": {},
   "outputs": [],
   "source": []
  },
  {
   "cell_type": "markdown",
   "metadata": {},
   "source": [
    "* **기본 파라미터의 다른 예**\n",
    " - print 함수\n",
    "   - sep, end, file등 여러 기본 파라미터를 가짐 "
   ]
  },
  {
   "cell_type": "code",
   "execution_count": 27,
   "metadata": {},
   "outputs": [
    {
     "name": "stdout",
     "output_type": "stream",
     "text": [
      "63\n"
     ]
    }
   ],
   "source": [
    "# 함수안에 몇개의 인자가 들어갈지 예상할 수 없을때\n",
    "\n",
    "def add_many(*values):\n",
    "    result = 0\n",
    "    for i in values:\n",
    "        result += i\n",
    "    return result\n",
    "\n",
    "print(add_many(1,2,3,5,6,7,8,9,5,7,6,1,3))"
   ]
  },
  {
   "cell_type": "markdown",
   "metadata": {},
   "source": [
    "#### **keyword parameter (키워드 파라미터)**\n",
    "  * 파이썬의 경우, 파라미터에 값을 전달 할 때, 파라미터의 이름을 명시하여 전달 가능하다.\n",
    "  * 파라미터 이름을 사용하지 않을 경우, 기본적으로 순서에 맞게 전달한다."
   ]
  },
  {
   "cell_type": "code",
   "execution_count": 18,
   "metadata": {},
   "outputs": [
    {
     "name": "stdout",
     "output_type": "stream",
     "text": [
      "hello\n",
      "hello\n"
     ]
    }
   ],
   "source": [
    "# 키워드를 지정하고 값을 넣으면 입력 순서 상관없이 가능하다.\n",
    "print_msg(msg = \"hello\", count = 2)"
   ]
  },
  {
   "cell_type": "markdown",
   "metadata": {},
   "source": [
    "#### **return (리턴)**\n",
    " + 함수의 종료를 명시한다.\n",
    "   + return 옆에 값이나 수식이 있다면 해당 값을 호출자(caller)에게 반환(전달)한다.\n",
    "   + return 만 존재하면 None을 반환\n",
    "   + return이 없는 경우, 함수 코드 블록이 종료되면 종료된다. 이때도 None을 반환한다."
   ]
  },
  {
   "cell_type": "code",
   "execution_count": 19,
   "metadata": {},
   "outputs": [
    {
     "name": "stdout",
     "output_type": "stream",
     "text": [
      "hi\n",
      "None\n"
     ]
    }
   ],
   "source": [
    "def say():\n",
    "    print(\"hi\")\n",
    "value = say()\n",
    "print(value)"
   ]
  },
  {
   "cell_type": "code",
   "execution_count": 20,
   "metadata": {},
   "outputs": [
    {
     "name": "stdout",
     "output_type": "stream",
     "text": [
      "13\n"
     ]
    }
   ],
   "source": [
    "# 리턴은 한 번 만 선언이 가능하다\n",
    "def add_10(x,y):\n",
    "    return x+10\n",
    "    return x+10\n",
    "a = add_10(3,4)\n",
    "print(a)"
   ]
  },
  {
   "cell_type": "code",
   "execution_count": 23,
   "metadata": {},
   "outputs": [
    {
     "name": "stdout",
     "output_type": "stream",
     "text": [
      "(13, 14) <class 'tuple'>\n",
      "15 12\n"
     ]
    }
   ],
   "source": [
    "# 리턴은 한 번 만 선언이 가능하다\n",
    "def add_10(x,y):\n",
    "    return x+10, y+10\n",
    "a = add_10(3,4)\n",
    "print(a, type(a))\n",
    "\n",
    "# 튜플 패킹 언패킹. 변수를 튜플 안의 값 수만큼 맞추어 지정하면 각각 언패킹 되어 값이 출력된다.\n",
    "x,y = add_10(5,2)\n",
    "print(x,y)"
   ]
  },
  {
   "cell_type": "code",
   "execution_count": null,
   "metadata": {},
   "outputs": [],
   "source": []
  },
  {
   "cell_type": "markdown",
   "metadata": {},
   "source": [
    "#### **multiple return (복수 값 반환)**\n",
    " + tuple반환을 하여 복수개의 값 리턴 가능하다."
   ]
  },
  {
   "cell_type": "code",
   "execution_count": 29,
   "metadata": {},
   "outputs": [
    {
     "data": {
      "text/plain": [
       "' 이 함수는'"
      ]
     },
     "execution_count": 29,
     "metadata": {},
     "output_type": "execute_result"
    }
   ],
   "source": [
    "# 함수 선언 후 맨 첫줄에 함수에 대한 정의가 가능하다.\n",
    "str.__doc__\n",
    "list.__doc__\n",
    "\n",
    "\n",
    "def my_func():\n",
    "    \"\"\" 이 함수는\"\"\"\n",
    "    print(\"haha\")\n",
    "my_func.__doc__"
   ]
  },
  {
   "cell_type": "code",
   "execution_count": null,
   "metadata": {},
   "outputs": [],
   "source": []
  },
  {
   "cell_type": "markdown",
   "metadata": {},
   "source": [
    "#### **variable scope (변수의 범위)** \n",
    " + 변수가 참조 가능한 코드상의 범위를 명시한다.\n",
    " + 함수내의 변수는 자신이 속한 코드 블록이 종료되면 소멸된다.\n",
    " + 이렇게 특정 코드 블록에서 선언된 변수를 **지역변수(local variable)** 라고한다.\n",
    " + 반대로 가장 상단에서 정의되어 프로그램 종료 전까지 유지되는 변수를 **전역변수(global variable)**라고한다.\n",
    " + 같은 이름의 지역변수와 전역변수가 존재할 경우, 지역변수의 우선순위가 더 높다."
   ]
  },
  {
   "cell_type": "code",
   "execution_count": 32,
   "metadata": {},
   "outputs": [
    {
     "name": "stdout",
     "output_type": "stream",
     "text": [
      "20\n",
      "100\n"
     ]
    }
   ],
   "source": [
    "#모든 변수들은 자신만의 범위를 가지고 있다.\n",
    "# 파이썬의 함수는 그것이 포함되어있는 변수에서 사용 가능하다.\n",
    "# 바깥쪽에서 선언된 변수는 전역변수, 안쪽에서 선언된 변수는 지역변수 라고 한다.\n",
    "aaa = 100\n",
    "\n",
    "def test():\n",
    "    if True:\n",
    "        aaa = 20\n",
    "    print(aaa)\n",
    "test()\n",
    "print(aaa)\n",
    "    "
   ]
  },
  {
   "cell_type": "code",
   "execution_count": 33,
   "metadata": {},
   "outputs": [
    {
     "name": "stdout",
     "output_type": "stream",
     "text": [
      "20\n",
      "20\n"
     ]
    }
   ],
   "source": [
    "# global은 지역변수를 전역변수로 전환시켜 준다.\n",
    "aaa = 100\n",
    "\n",
    "def test():\n",
    "    global aaa\n",
    "    if True:\n",
    "        aaa = 20\n",
    "    print(aaa)\n",
    "test()\n",
    "print(aaa)"
   ]
  },
  {
   "cell_type": "code",
   "execution_count": null,
   "metadata": {},
   "outputs": [],
   "source": [
    "# global \n",
    "global()"
   ]
  },
  {
   "cell_type": "markdown",
   "metadata": {},
   "source": [
    "#### **variable length argument (가변길이 인자)**\n",
    " - 전달되는 파라미터의 개수가 가변적일때 사용한다.\n",
    " - 예를들면 print 함수나 format 함수를 생각해 볼 수 있다. \n",
    "     * **args**    : 파라미터를 튜플의 형태로 전달 ->* 한개\n",
    "\n",
    "     * **kwargs** : 파리미터를 딕셔너리 형태로 전달(네임드 파라미터) ->** 별 두개\n",
    "     \n",
    "```\n",
    "    def 함수이름(*매개변수): \n",
    "        수행할 문장\n",
    "    ...\n",
    "```\n",
    "```\n",
    "    def 함수이름(**kwargs): \n",
    "        수행할 문장\n",
    "```"
   ]
  },
  {
   "cell_type": "code",
   "execution_count": null,
   "metadata": {},
   "outputs": [],
   "source": []
  },
  {
   "cell_type": "code",
   "execution_count": 37,
   "metadata": {
    "scrolled": true
   },
   "outputs": [
    {
     "name": "stdout",
     "output_type": "stream",
     "text": [
      "a 1\n",
      "a 1\n",
      "b 2\n",
      "name 네임\n",
      "phone 폰 번\n"
     ]
    }
   ],
   "source": [
    "def test2(**kwargs):\n",
    "    for key, value in kwargs.items():\n",
    "        print(key,value)\n",
    "test2(a=1)\n",
    "test2(a=1,b=2)\n",
    "test2(name=\"네임\", phone=\"폰 번\")"
   ]
  },
  {
   "cell_type": "code",
   "execution_count": 38,
   "metadata": {},
   "outputs": [
    {
     "name": "stdout",
     "output_type": "stream",
     "text": [
      "이름: 서근하\n",
      "전화번호: 010\n",
      "주소: 화성\n"
     ]
    }
   ],
   "source": [
    "def person_info(name,phone,address):\n",
    "    print(\"이름:\", name)\n",
    "    print(\"전화번호:\", phone)\n",
    "    print(\"주소:\", address)\n",
    "    \n",
    "person_info(\"서근하\", \"010\", \"화성\")"
   ]
  },
  {
   "cell_type": "code",
   "execution_count": 40,
   "metadata": {},
   "outputs": [
    {
     "name": "stdout",
     "output_type": "stream",
     "text": [
      "이름: 서근하\n",
      "전화번호: 010\n",
      "주소: 화성\n"
     ]
    }
   ],
   "source": [
    "person = {\"name\":\"서근하\",\"phone\":\"010\", \"address\":\"화성\"}\n",
    "person_info(**person)"
   ]
  },
  {
   "cell_type": "code",
   "execution_count": 41,
   "metadata": {},
   "outputs": [
    {
     "name": "stdout",
     "output_type": "stream",
     "text": [
      "name 서근하\n",
      "phone 010\n",
      "address 화성\n"
     ]
    }
   ],
   "source": [
    "test2(**person)"
   ]
  },
  {
   "cell_type": "code",
   "execution_count": 42,
   "metadata": {},
   "outputs": [
    {
     "name": "stdout",
     "output_type": "stream",
     "text": [
      "1\t2\t3!!!"
     ]
    }
   ],
   "source": [
    "def my_print(*args,**kwargs):\n",
    "    print(*args, **kwargs)\n",
    "my_print(1,2,3,sep=\"\\t\", end=\"!!!\")"
   ]
  },
  {
   "cell_type": "code",
   "execution_count": 43,
   "metadata": {},
   "outputs": [
    {
     "name": "stdout",
     "output_type": "stream",
     "text": [
      "1 2 3 4\n",
      "None\n",
      "^^None\n"
     ]
    }
   ],
   "source": [
    "a = [1,2,3,4]\n",
    "s = {\"sep\":\"\\t\", \"end\":\"^^\"}\n",
    "print(my_print(*a))\n",
    "print(my_print(**s))\n",
    "\n"
   ]
  },
  {
   "cell_type": "markdown",
   "metadata": {},
   "source": [
    "#### **keyword parameter (키워드 파라미터)**\n",
    " - \\**가 붙은 경우에는 키워드 파라미터로 인식\n",
    " - 즉 함수 호출 시, 파리미터의 이름과 값을 함께 전달 가능"
   ]
  },
  {
   "cell_type": "code",
   "execution_count": null,
   "metadata": {},
   "outputs": [],
   "source": []
  },
  {
   "cell_type": "markdown",
   "metadata": {},
   "source": [
    "#### 연습문제 \n",
    "\n",
    "1. 리스트를 입력받아서 리스트의 요소중 중복된 값은 삭제하고, 유일한 값만 유지하는 리스트를 반환하는 함수를 정의 하세요.  \n",
    "\n",
    "----\n",
    "입력 예 [1,2,2,3,4,5,4]\n",
    "\n",
    "출력 예 [1,2,3,4,5] \n",
    "\n",
    "----\n",
    "\n",
    "1. 문자열 두개를 인자로 전달받아 길이가 더 긴 문자열을 반환하는 함수를 정의하세요. 단, 두개의 길이가 같다면 첫번째 인자를 반환하세요. \n",
    "\n",
    "----\n",
    "입력 예 'test' 'python' \n",
    "출력 예 'python'\n",
    "\n",
    "입력 예 'java' 'test'\n",
    "출력 예 'java'\n",
    "\n",
    "-----\n"
   ]
  },
  {
   "cell_type": "code",
   "execution_count": 1,
   "metadata": {},
   "outputs": [
    {
     "name": "stdout",
     "output_type": "stream",
     "text": [
      "[1, 2, 3, 4, 5]\n"
     ]
    }
   ],
   "source": [
    "# 1.\n",
    "aa = [1,2,2,3,4,5,4]\n",
    "\n",
    "def list_num(num):\n",
    "    num = set(num)\n",
    "    list_1 = list(num)\n",
    "    return list_1\n",
    "\n",
    "print(list_num(aa))\n"
   ]
  },
  {
   "cell_type": "code",
   "execution_count": 5,
   "metadata": {},
   "outputs": [
    {
     "name": "stdout",
     "output_type": "stream",
     "text": [
      "가나다\n",
      "가나다다\n",
      "가나라\n"
     ]
    }
   ],
   "source": [
    "# 2.\n",
    "#문자열 두개를 인자로 전달받아 길이가 더 긴 문자열을 반환하는 함수를 정의하세요. \n",
    "#단, 두개의 길이가 같다면 첫번째 인자를 반환하세요.\n",
    "\n",
    "\n",
    "def word_len(word1, word2):\n",
    "    if len(word1) < len(word2):\n",
    "        print(word2)\n",
    "    else:\n",
    "        print(word1)\n",
    "        \n",
    "word_len(\"가나\",\"가나다\")\n",
    "word_len(\"가나다다\",\"가나다\")\n",
    "word_len(\"가나라\",\"가나다\")"
   ]
  }
 ],
 "metadata": {
  "kernelspec": {
   "display_name": "Python 3",
   "language": "python",
   "name": "python3"
  },
  "language_info": {
   "codemirror_mode": {
    "name": "ipython",
    "version": 3
   },
   "file_extension": ".py",
   "mimetype": "text/x-python",
   "name": "python",
   "nbconvert_exporter": "python",
   "pygments_lexer": "ipython3",
   "version": "3.8.8"
  }
 },
 "nbformat": 4,
 "nbformat_minor": 1
}
