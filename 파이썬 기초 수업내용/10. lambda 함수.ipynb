{
 "cells": [
  {
   "cell_type": "markdown",
   "metadata": {},
   "source": [
    "\n",
    "\n",
    "### 학습목표\n",
    " 1. Lambda 함수를 이해하고, 사용할 수 있다. "
   ]
  },
  {
   "cell_type": "markdown",
   "metadata": {},
   "source": [
    "* **Lambda 함수**\n",
    " + 단일문으로 표현되는 익명함수이다. (이름을 정해주지 않아도 된다.)\n",
    " + 익명함수란 이름이 없는 구현체만 존재하는 간단한 함수를 의미한다.\n",
    " + 코드 상에서 한번만 사용되는 기능이 있을 때, 굳이 함수로 만들지 않고 1회성으로 만들어서 쓸 때 사용한다.\n",
    " + lambda 예약어로 만든 함수는 return 명령어가 없어도 결괏값을 돌려준다."
   ]
  },
  {
   "cell_type": "code",
   "execution_count": 1,
   "metadata": {},
   "outputs": [
    {
     "data": {
      "text/plain": [
       "5"
      ]
     },
     "execution_count": 1,
     "metadata": {},
     "output_type": "execute_result"
    }
   ],
   "source": [
    "def add(a,b):\n",
    "    return a+b\n",
    "add(2,3)"
   ]
  },
  {
   "cell_type": "code",
   "execution_count": 5,
   "metadata": {},
   "outputs": [
    {
     "data": {
      "text/plain": [
       "5"
      ]
     },
     "execution_count": 5,
     "metadata": {},
     "output_type": "execute_result"
    }
   ],
   "source": [
    "(lambda a, b:a+b)(2,3)"
   ]
  },
  {
   "cell_type": "code",
   "execution_count": 6,
   "metadata": {},
   "outputs": [
    {
     "data": {
      "text/plain": [
       "5"
      ]
     },
     "execution_count": 6,
     "metadata": {},
     "output_type": "execute_result"
    }
   ],
   "source": [
    "iam_test = lambda a, b:a+b\n",
    "type(iam_test)\n",
    "iam_test(2,3)"
   ]
  },
  {
   "cell_type": "code",
   "execution_count": 12,
   "metadata": {
    "scrolled": true
   },
   "outputs": [
    {
     "name": "stdout",
     "output_type": "stream",
     "text": [
      "0.8333333333333334\n"
     ]
    },
    {
     "data": {
      "text/plain": [
       "2"
      ]
     },
     "execution_count": 12,
     "metadata": {},
     "output_type": "execute_result"
    }
   ],
   "source": [
    "def mul(a,b):\n",
    "    return a+b\n",
    "def div(a,b):\n",
    "    return a/b\n",
    "\n",
    "def test_func(func,a,b):\n",
    "    result = func(a,b)\n",
    "    return result\n",
    "\n",
    "test_func(add,5,6)\n",
    "\n",
    "test_func(mul,3,4)\n",
    "\n",
    "print(test_func(div,5,6))\n",
    "\n",
    "test_func(lambda a,b:a-b,4,2)"
   ]
  },
  {
   "cell_type": "code",
   "execution_count": 13,
   "metadata": {},
   "outputs": [
    {
     "name": "stdout",
     "output_type": "stream",
     "text": [
      "+는 1, -는 2, X는 3을 입력하세요.1\n"
     ]
    },
    {
     "data": {
      "text/plain": [
       "9"
      ]
     },
     "execution_count": 13,
     "metadata": {},
     "output_type": "execute_result"
    }
   ],
   "source": [
    "def test2(op):\n",
    "    if op == 1:\n",
    "        return lambda a,b:a+b\n",
    "    elif op == 2:\n",
    "        return lambda a,b:a-b\n",
    "    else:\n",
    "        return lambda a,b:a*b\n",
    "func1 = test2(int(input(\"+는 1, -는 2, X는 3을 입력하세요.\")))\n",
    "\n",
    "func1(6,3)\n"
   ]
  },
  {
   "cell_type": "code",
   "execution_count": 14,
   "metadata": {},
   "outputs": [
    {
     "data": {
      "text/plain": [
       "5"
      ]
     },
     "execution_count": 14,
     "metadata": {},
     "output_type": "execute_result"
    }
   ],
   "source": [
    "iam_test2 = lambda func,a,b : func(a,b)\n",
    "\n",
    "iam_test2(add,2,3)"
   ]
  },
  {
   "cell_type": "code",
   "execution_count": 17,
   "metadata": {},
   "outputs": [
    {
     "data": {
      "text/plain": [
       "5"
      ]
     },
     "execution_count": 17,
     "metadata": {},
     "output_type": "execute_result"
    }
   ],
   "source": [
    "(lambda func,a,b : func(a,b))(add,2,3)"
   ]
  },
  {
   "cell_type": "code",
   "execution_count": 18,
   "metadata": {},
   "outputs": [
    {
     "data": {
      "text/plain": [
       "5"
      ]
     },
     "execution_count": 18,
     "metadata": {},
     "output_type": "execute_result"
    }
   ],
   "source": [
    "(lambda s : len(s))(\"hello\")"
   ]
  },
  {
   "cell_type": "code",
   "execution_count": null,
   "metadata": {},
   "outputs": [],
   "source": []
  },
  {
   "cell_type": "markdown",
   "metadata": {},
   "source": [
    "#### **filter, map, reduce**\n",
    " + lambda가 유용하게 사용되는 3가지 대표적 함수이다.\n",
    " + 함수형 프로그래밍의 기본 요소이기도 하다.\n",
    " + filter : 특정 조건을 만족하는 요소만 남기고 필터링한다.\n",
    " + map    : 각 원소를 주어진 수식에 따라 변형하여 새로운 리스트를 반환한다.\n",
    " + reduce : 차례대로 앞 2개의 원소를 가지고 연산. 연산의 결과가 또 다음 연산의 입력으로 진행된다. 따라서 마지막까지 진행되면 최종 출력은 한개의 값만 남게 된다.\n",
    " + 아래와 같이 입력하면서 filter의 특징에 대하여 알아보자.\n",
    "\n",
    " \n",
    "\n",
    ">>> filter(lambda a : a%2==0, [2,3,4,5,6,7,8])\n",
    "\n",
    "<filter object at 0x02D4C028>\n",
    "\n",
    ">>> a=filter(lambda a : a%2==0, [2,3,4,5,6,7,8])\n",
    "\n",
    ">>> a\n",
    "\n",
    "<filter object at 0x02FBB088>\n",
    "\n",
    ">>> print(a)\n",
    "\n",
    "<filter object at 0x02FBB088>\n",
    "\n",
    " \n",
    "\n",
    " 지금까지 파이썬을 공부하면서 위와 같은 현상이 나타나는 것을 여러 번 보았을 것이다. range(), map()등이다. 이것은 filter가 제너레이터이기 때문이다. 그래서 확인을 하기 위해서는 출력되는 자료를 리스트로 저장하는 과정이 필요하다. "
   ]
  },
  {
   "cell_type": "code",
   "execution_count": 22,
   "metadata": {},
   "outputs": [
    {
     "name": "stdout",
     "output_type": "stream",
     "text": [
      "[2, 6, 8, 10]\n",
      "[3, 6, 9, 15]\n"
     ]
    }
   ],
   "source": [
    "# 1회성으로 간단한 함수로 정의할 때 람다를 주로 사용한다. 예를들어 아래와 같은 필터링\n",
    "\n",
    "nums = [1, 2, 3, 6, 8, 9, 10, 11, 13, 15]\n",
    "\n",
    "def even(n):\n",
    "    return n %2==0\n",
    "\n",
    "\n",
    "print(list(filter(even,nums)))\n",
    "\n",
    "print(list(filter(lambda n : n%3==0,nums)))"
   ]
  },
  {
   "cell_type": "code",
   "execution_count": 26,
   "metadata": {},
   "outputs": [
    {
     "name": "stdout",
     "output_type": "stream",
     "text": [
      "[10, 20, 30, 60, 80, 90, 100, 110, 130, 150]\n",
      "[1, 4, 9, 36, 64, 81, 100, 121, 169, 225]\n",
      "[False, True, False, True, True, False, True, False, False, False]\n"
     ]
    }
   ],
   "source": [
    "# map\n",
    "# 주어진 리스트, 리스트의 제곱을한 숫자로 새로운 리스트\n",
    "nums = [1, 2, 3, 6, 8, 9, 10, 11, 13, 15]\n",
    "\n",
    "def mun_10(n):\n",
    "    return n *10\n",
    "\n",
    "print(list(map(mun_10,nums)))\n",
    "\n",
    "def multi(n):\n",
    "    return n ** 2\n",
    "\n",
    "print(list(map(multi,nums)))\n",
    "\n",
    "print(list(map(even,nums)))"
   ]
  },
  {
   "cell_type": "code",
   "execution_count": null,
   "metadata": {},
   "outputs": [],
   "source": [
    "def test_filter3(func, nums):\n",
    "    result = []\n",
    "    for num in nums:\n",
    "        if func(num):\n",
    "            result.append(num)\n",
    "    return result\n",
    "test_filter(even,nums)\n"
   ]
  },
  {
   "cell_type": "code",
   "execution_count": 5,
   "metadata": {},
   "outputs": [],
   "source": [
    "#람다 표현식을 인수로 사용하기  ex) map \n"
   ]
  },
  {
   "cell_type": "code",
   "execution_count": null,
   "metadata": {},
   "outputs": [],
   "source": []
  },
  {
   "cell_type": "code",
   "execution_count": 29,
   "metadata": {},
   "outputs": [
    {
     "name": "stdout",
     "output_type": "stream",
     "text": [
      "[1, 2, '3', 4, 5, '6', 7, 8, '9', 10]\n",
      "['Pass', 'Fail', 'Fail', 'Pass', 'Pass', 'Pass', 'Fail', 'Pass']\n"
     ]
    }
   ],
   "source": [
    "#람다 표현식에 조건부 표현식 사용하기\n",
    "#lambda 매개변수들: 식1 if 조건식 else 식2\n",
    "\n",
    "a = [1, 2, 3, 4, 5, 6, 7, 8, 9, 10]\n",
    "\n",
    "#(lambda n : str(n) if n%3==0 else n )(3)\n",
    "print(list(map(lambda n : str(n) if n%3==0 else n, a)))\n",
    "\n",
    "scores = [99,23,55,95,87,65,44,76]\n",
    "\n",
    "print(list(map(lambda n : \"Pass\" if n>60 else \"Fail\", scores)))\n",
    "\n",
    "#=> 같은식\n",
    "# def ss(n):\n",
    "#   if n>60:\n",
    "#      return \"pass\"\n",
    "#   else:\n",
    "#       return \"Fail\"\n",
    "# print(ss(scores))\n",
    "\n"
   ]
  },
  {
   "cell_type": "code",
   "execution_count": 30,
   "metadata": {},
   "outputs": [
    {
     "name": "stdout",
     "output_type": "stream",
     "text": [
      "[11, '2', 3.0, '4', 15, '6', 17, '8', 9.0, '10']\n"
     ]
    },
    {
     "ename": "TypeError",
     "evalue": "unsupported operand type(s) for %: 'list' and 'int'",
     "output_type": "error",
     "traceback": [
      "\u001b[1;31m---------------------------------------------------------------------------\u001b[0m",
      "\u001b[1;31mTypeError\u001b[0m                                 Traceback (most recent call last)",
      "\u001b[1;32m<ipython-input-30-35a09abb9dc3>\u001b[0m in \u001b[0;36m<module>\u001b[1;34m\u001b[0m\n\u001b[0;32m     15\u001b[0m \u001b[0mprint\u001b[0m\u001b[1;33m(\u001b[0m\u001b[0mlist\u001b[0m\u001b[1;33m(\u001b[0m\u001b[0mmap\u001b[0m\u001b[1;33m(\u001b[0m\u001b[0miam\u001b[0m\u001b[1;33m,\u001b[0m\u001b[0ma\u001b[0m\u001b[1;33m)\u001b[0m\u001b[1;33m)\u001b[0m\u001b[1;33m)\u001b[0m\u001b[1;33m\u001b[0m\u001b[1;33m\u001b[0m\u001b[0m\n\u001b[0;32m     16\u001b[0m \u001b[1;33m\u001b[0m\u001b[0m\n\u001b[1;32m---> 17\u001b[1;33m \u001b[0mprint\u001b[0m\u001b[1;33m(\u001b[0m\u001b[0mf\u001b[0m\u001b[1;33m(\u001b[0m\u001b[0ma\u001b[0m\u001b[1;33m)\u001b[0m\u001b[1;33m)\u001b[0m\u001b[1;33m\u001b[0m\u001b[1;33m\u001b[0m\u001b[0m\n\u001b[0m",
      "\u001b[1;32m<ipython-input-30-35a09abb9dc3>\u001b[0m in \u001b[0;36mf\u001b[1;34m(x)\u001b[0m\n\u001b[0;32m      4\u001b[0m \u001b[1;33m\u001b[0m\u001b[0m\n\u001b[0;32m      5\u001b[0m \u001b[1;32mdef\u001b[0m \u001b[0mf\u001b[0m\u001b[1;33m(\u001b[0m\u001b[0mx\u001b[0m\u001b[1;33m)\u001b[0m\u001b[1;33m:\u001b[0m\u001b[1;33m\u001b[0m\u001b[1;33m\u001b[0m\u001b[0m\n\u001b[1;32m----> 6\u001b[1;33m     \u001b[1;32mif\u001b[0m \u001b[0mx\u001b[0m\u001b[1;33m%\u001b[0m\u001b[1;36m2\u001b[0m\u001b[1;33m==\u001b[0m\u001b[1;36m0\u001b[0m\u001b[1;33m:\u001b[0m\u001b[1;33m\u001b[0m\u001b[1;33m\u001b[0m\u001b[0m\n\u001b[0m\u001b[0;32m      7\u001b[0m         \u001b[1;32mreturn\u001b[0m \u001b[0mstr\u001b[0m\u001b[1;33m(\u001b[0m\u001b[0mx\u001b[0m\u001b[1;33m)\u001b[0m\u001b[1;33m\u001b[0m\u001b[1;33m\u001b[0m\u001b[0m\n\u001b[0;32m      8\u001b[0m     \u001b[1;32melif\u001b[0m \u001b[0mx\u001b[0m\u001b[1;33m%\u001b[0m\u001b[1;36m3\u001b[0m\u001b[1;33m==\u001b[0m\u001b[1;36m0\u001b[0m\u001b[1;33m:\u001b[0m\u001b[1;33m\u001b[0m\u001b[1;33m\u001b[0m\u001b[0m\n",
      "\u001b[1;31mTypeError\u001b[0m: unsupported operand type(s) for %: 'list' and 'int'"
     ]
    }
   ],
   "source": [
    "#lambda 매개변수들: 식1 if 조건식1 else 식2 if 조건식2 else 식3\n",
    "# 이렇게 가독성이 떨어질 때에는 그냥 def 함수로 만들고 if elif else 사용권장\n",
    "a = [1, 2, 3, 4, 5, 6, 7, 8, 9, 10]\n",
    "\n",
    "def f(x):\n",
    "    if x%2==0:\n",
    "        return str(x)\n",
    "    elif x%3==0:\n",
    "        return float(x)\n",
    "    else:\n",
    "        return x+10\n",
    "\n",
    "\n",
    "iam = lambda x : str(x) if x %2 ==0 else float(x) if x% 3==0 else x +10\n",
    "print(list(map(iam,a)))\n",
    "\n",
    "print(f(a))\n"
   ]
  },
  {
   "cell_type": "code",
   "execution_count": 32,
   "metadata": {},
   "outputs": [
    {
     "name": "stdout",
     "output_type": "stream",
     "text": [
      "[2, 8, 18, 32, 50]\n"
     ]
    }
   ],
   "source": [
    "#map에 객체를 여러 개 넣기\n",
    "#map은 리스트 등의 반복 가능한 객체를 여러 개 넣을 수도 있습니다. \n",
    "#다음은 두 리스트의 요소를 곱해서 새 리스트를 만듭니다.\n",
    "\n",
    "a = [1, 2, 3, 4, 5]\n",
    "b = [2, 4, 6, 8, 10,11]\n",
    "\n",
    "print(list(map(lambda x,y:x*y, a, b)))\n",
    "\n"
   ]
  },
  {
   "cell_type": "markdown",
   "metadata": {},
   "source": [
    "#### reduce 사용하기\n",
    "-  from functools import reduce\n",
    "-  reduce(함수, 반복가능한객체)\n",
    "\n"
   ]
  },
  {
   "cell_type": "code",
   "execution_count": 34,
   "metadata": {},
   "outputs": [
    {
     "data": {
      "text/plain": [
       "15"
      ]
     },
     "execution_count": 34,
     "metadata": {},
     "output_type": "execute_result"
    }
   ],
   "source": [
    "# reduce 사용하기\n",
    "#  from functools import reduce\n",
    "#  reduce(함수, 반복가능한객체)\n",
    "#  reduce는 내장객체가 아니기 때문에 from functools import reduce 임포트\n",
    "\n",
    "from functools import reduce\n",
    "\n",
    "a = [1, 2, 3, 4, 5]\n",
    "\n",
    "reduce(add,a)\n",
    "\n",
    "#(((1+2)+3)+4)+5 의 결과값 (최종 누적계수) 출력"
   ]
  },
  {
   "cell_type": "code",
   "execution_count": 5,
   "metadata": {},
   "outputs": [],
   "source": [
    "\n",
    "a = [1, 3, 5, 8]\n",
    "# 리스트 내의 모든 숫자의 합\n",
    "\n",
    "list_plus5 = []\n",
    "for n in a:\n",
    "    list_plus5.append(n+5)\n",
    "print(list_plus5)\n",
    "\n"
   ]
  },
  {
   "cell_type": "code",
   "execution_count": 35,
   "metadata": {},
   "outputs": [
    {
     "name": "stdout",
     "output_type": "stream",
     "text": [
      "[5, 10, 15, 20, 25, 30, 35, 40, 45, 50, 55, 60, 65, 70, 75, 80, 85, 90, 95, 100]\n"
     ]
    }
   ],
   "source": [
    "print([n for n in range(1,101) if n%5==0])"
   ]
  },
  {
   "cell_type": "markdown",
   "metadata": {},
   "source": [
    "\n",
    "#### 함수 연습문제\n",
    " 1. 주어진 숫자 리스트의 평균을 구하는 함수를 출력하시오\n",
    " 1. 해당 숫자가 소수인지 아닌지 판별하시오.\n",
    " 2. 2부터 해당 숫자사이에 소수가 몇개인지 출력하는 함수를 구하시오 "
   ]
  },
  {
   "cell_type": "code",
   "execution_count": 36,
   "metadata": {},
   "outputs": [
    {
     "name": "stdout",
     "output_type": "stream",
     "text": [
      "6.833333333333333\n"
     ]
    }
   ],
   "source": [
    "# 1.\n",
    "\n",
    "b = [2, 4, 6, 8, 10,11]\n",
    "\n",
    "def avg(nums):\n",
    "    result = sum(nums)/len(nums)\n",
    "    return result\n",
    "\n",
    "print(avg(b))"
   ]
  },
  {
   "cell_type": "code",
   "execution_count": 78,
   "metadata": {},
   "outputs": [
    {
     "name": "stdout",
     "output_type": "stream",
     "text": [
      "숫자를 입력하세요: a.1\n",
      "숫자가 아닙니다.\n"
     ]
    }
   ],
   "source": [
    "# 2.\n",
    "# 정수,실수,문자열 구분하기\n",
    "\n",
    "def float_check(nums):\n",
    "        try:\n",
    "            int(nums)\n",
    "                \n",
    "            print(\"입력값:{} , 정수입니다.\".format(nums))\n",
    "        except:\n",
    "            try:\n",
    "                if \".\" in nums:\n",
    "                    try:\n",
    "                        float(nums)\n",
    "                        print(\"실수(소숫값) 입니다.\")\n",
    "                    except:\n",
    "                        print(\"숫자가 아닙니다.\")\n",
    "            except:\n",
    "                print(\"숫자가 아닙니다.\")\n",
    "            \n",
    "float_check(input(\"숫자를 입력하세요: \"))"
   ]
  },
  {
   "cell_type": "code",
   "execution_count": 72,
   "metadata": {},
   "outputs": [
    {
     "name": "stdout",
     "output_type": "stream",
     "text": [
      "4567.1 <class 'float'>\n"
     ]
    }
   ],
   "source": [
    "a = \"4567.1\"\n",
    "\n",
    "b = float(a)\n",
    "\n",
    "print(b, type(b))"
   ]
  },
  {
   "cell_type": "markdown",
   "metadata": {},
   "source": [
    "#### 클로저 \n",
    "\n",
    "- 변수의 사용범위 지역변수, 전역변수, global 확인\n",
    "- https://dojang.io/mod/page/view.php?id=2364   참고 \n",
    "- 클로저(closure)란, 외부 함수에 접근할 수 있는 내부 함수 \n",
    "- 혹은 이러한 원리를 일컫는 용어인데 스코프에 따라서 내부함수의 범위에서는 외부 함수 범위에 있는 변수에 접근이 가능하지만 그 반대는 실현이 불가능하다는 개념이다.\n",
    "\n",
    "- 특징으로는 외부함수는 외부함수의 지역변수를 사용하는 내부함수가 소멸될 때까지 소멸되지 않는다.예를 들어 한 함수안에 다른 함수가 있다면 그 안의 함수는 바깥에 정의해놓은 변수를 사용할 수 있지만 그 반대는 가능하지 않다.\n"
   ]
  },
  {
   "cell_type": "code",
   "execution_count": 53,
   "metadata": {},
   "outputs": [
    {
     "name": "stdout",
     "output_type": "stream",
     "text": [
      "kim\n",
      "hello kang\n",
      "{'name': 'kang'}\n",
      "{'__name__': '__main__', '__doc__': 'Automatically created module for IPython interactive environment', '__package__': None, '__loader__': None, '__spec__': None, '__builtin__': <module 'builtins' (built-in)>, '__builtins__': <module 'builtins' (built-in)>, '_ih': ['', 'def add(a,b):\\n    return a+b\\nadd(2,3)', 'lambda a,b: a+b', 'lambda a, b:a+b', 'lambda a, b:a+b', '(lambda a, b:a+b)(2,3)', 'iam_test = lambda a, b:a+b\\ntype(iam_test)\\niam_test(2,3)', 'def mul(a,b):\\n    return a+b\\ndef div(a,b):\\n    return a/b\\n\\ndef test_func(func,a,b):\\n    result = func(a,b)\\n    return result\\n\\ntest_func(add,5,6)', 'def mul(a,b):\\n    return a+b\\ndef div(a,b):\\n    return a/b\\n\\ndef test_func(func,a,b):\\n    result = func(a,b)\\n    return result\\n\\ntest_func(add,5,6)\\n\\ntest_func(mul,3,4)', 'def mul(a,b):\\n    return a+b\\ndef div(a,b):\\n    return a/b\\n\\ndef test_func(func,a,b):\\n    result = func(a,b)\\n    return result\\n\\ntest_func(add,5,6)\\n\\ntest_func(mul,3,4)\\n\\ntest_func(div,5,6)', 'def mul(a,b):\\n    return a+b\\ndef div(a,b):\\n    return a/b\\n\\ndef test_func(func,a,b):\\n    result = func(a,b)\\n    return result\\n\\ntest_func(add,5,6)\\n\\ntest_func(mul,3,4)\\n\\nprint(test_func(div,5,6))', 'def mul(a,b):\\n    return a+b\\ndef div(a,b):\\n    return a/b\\n\\ndef test_func(func,a,b):\\n    result = func(a,b)\\n    return result\\n\\ntest_func(add,5,6)\\n\\ntest_func(mul,3,4)\\n\\nprint(test_func(div,5,6))\\n\\ntest_func(lambda a,b:a-b.4,2)', 'def mul(a,b):\\n    return a+b\\ndef div(a,b):\\n    return a/b\\n\\ndef test_func(func,a,b):\\n    result = func(a,b)\\n    return result\\n\\ntest_func(add,5,6)\\n\\ntest_func(mul,3,4)\\n\\nprint(test_func(div,5,6))\\n\\ntest_func(lambda a,b:a-b,4,2)', 'def test2(op):\\n    if op == 1:\\n        return lambda a,b:a+b\\n    elif op == 2:\\n        return lambda a,b:a-b\\n    else:\\n        return lambda a,b:a*b\\nfunc1 = test2(int(input(\"+는 1, -는 2, X는 3을 입력하세요.\")))\\n\\nfunc1(6,3)', 'iam_test2 = lambda func,a,b : func(a,b)\\n\\niam_test2(add,2,3)', '(lambda func,a,b : func(a,b))(add(2,3))', '(lambda func,a,b : func(a,b))(add2,3)', '(lambda func,a,b : func(a,b))(add,2,3)', '(lambda s : len(s))(\"hello\")', 'nums = [1, 2, 3, 6, 8, 9, 10, 11, 13, 15]\\n\\ndef even(n):\\n    return n %2==0\\n\\n\\nfilter(even,nums)', 'nums = [1, 2, 3, 6, 8, 9, 10, 11, 13, 15]\\n\\ndef even(n):\\n    return n %2==0\\n\\n\\nprint(list(filter(even,nums)))', 'nums = [1, 2, 3, 6, 8, 9, 10, 11, 13, 15]\\n\\ndef even(n):\\n    return n %2==0\\n\\n\\nprint(list(filter(even,nums)))\\n\\nprint(list(filter(lambda n : n%3==0,nums)))', '# 1회성으로 간단한 함수로 정의할 때 람다를 주로 사용한다. 예를들어 아래와 같은 필터링\\n\\nnums = [1, 2, 3, 6, 8, 9, 10, 11, 13, 15]\\n\\ndef even(n):\\n    return n %2==0\\n\\n\\nprint(list(filter(even,nums)))\\n\\nprint(list(filter(lambda n : n%3==0,nums)))', '# map\\n# 주어진 리스트, 리스트의 제곱을한 숫자로 새로운 리스트\\nnums = [1, 2, 3, 6, 8, 9, 10, 11, 13, 15]\\n\\ndef mun_10(n):\\n    return n *10\\n\\nprint(list(map(mul_10,nums)))', '# map\\n# 주어진 리스트, 리스트의 제곱을한 숫자로 새로운 리스트\\nnums = [1, 2, 3, 6, 8, 9, 10, 11, 13, 15]\\n\\ndef mun_10(n):\\n    return n *10\\n\\nprint(list(map(mun_10,nums)))', '# map\\n# 주어진 리스트, 리스트의 제곱을한 숫자로 새로운 리스트\\nnums = [1, 2, 3, 6, 8, 9, 10, 11, 13, 15]\\n\\ndef mun_10(n):\\n    return n *10\\n\\nprint(list(map(mun_10,nums)))\\n\\ndef multi(n):\\n    return n ** 2\\n\\nprint(list(map(multi,nums)))', '# map\\n# 주어진 리스트, 리스트의 제곱을한 숫자로 새로운 리스트\\nnums = [1, 2, 3, 6, 8, 9, 10, 11, 13, 15]\\n\\ndef mun_10(n):\\n    return n *10\\n\\nprint(list(map(mun_10,nums)))\\n\\ndef multi(n):\\n    return n ** 2\\n\\nprint(list(map(multi,nums)))\\n\\nprint(list(map(even,nums)))', '#람다 표현식에 조건부 표현식 사용하기\\n#lambda 매개변수들: 식1 if 조건식 else 식2\\n\\na = [1, 2, 3, 4, 5, 6, 7, 8, 9, 10]\\n\\n#(lambda n : str(n) if n%3==0 else n )(3)\\nprint(list(map(lambda n : str(n) if n%3==0 else n, a)))', '#람다 표현식에 조건부 표현식 사용하기\\n#lambda 매개변수들: 식1 if 조건식 else 식2\\n\\na = [1, 2, 3, 4, 5, 6, 7, 8, 9, 10]\\n\\n#(lambda n : str(n) if n%3==0 else n )(3)\\nprint(list(map(lambda n : str(n) if n%3==0 else n, a)))\\n\\nscores = [99,23,55,95,87,65,44,76]\\n\\nprint(list(map(lambda n : \"Pass\" if n>60 else \"Fail\", score)))', '#람다 표현식에 조건부 표현식 사용하기\\n#lambda 매개변수들: 식1 if 조건식 else 식2\\n\\na = [1, 2, 3, 4, 5, 6, 7, 8, 9, 10]\\n\\n#(lambda n : str(n) if n%3==0 else n )(3)\\nprint(list(map(lambda n : str(n) if n%3==0 else n, a)))\\n\\nscores = [99,23,55,95,87,65,44,76]\\n\\nprint(list(map(lambda n : \"Pass\" if n>60 else \"Fail\", scores)))', '#lambda 매개변수들: 식1 if 조건식1 else 식2 if 조건식2 else 식3\\n# 이렇게 가독성이 떨어질 때에는 그냥 def 함수로 만들고 if elif else 사용권장\\na = [1, 2, 3, 4, 5, 6, 7, 8, 9, 10]\\n\\ndef f(x):\\n    if x%2==0:\\n        return str(x)\\n    elif x%3==0:\\n        return float(x)\\n    else:\\n        return x+10\\n\\n\\niam = lambda x : str(x) if x %2 ==0 else float(x) if x% 3==0 else x +10\\nprint(list(map(iam,a)))\\n\\nprint(f(a))', '#map에 객체를 여러 개 넣기\\n#map은 리스트 등의 반복 가능한 객체를 여러 개 넣을 수도 있습니다. \\n#다음은 두 리스트의 요소를 곱해서 새 리스트를 만듭니다.\\n\\na = [1, 2, 3, 4, 5]\\nb = [2, 4, 6, 8, 10]\\n\\nprint(list(map(lambda x,y:x*y, a, b)))', '#map에 객체를 여러 개 넣기\\n#map은 리스트 등의 반복 가능한 객체를 여러 개 넣을 수도 있습니다. \\n#다음은 두 리스트의 요소를 곱해서 새 리스트를 만듭니다.\\n\\na = [1, 2, 3, 4, 5]\\nb = [2, 4, 6, 8, 10,11]\\n\\nprint(list(map(lambda x,y:x*y, a, b)))', '# reduce 사용하기\\n#  from functools import reduce\\n#  reduce(함수, 반복가능한객체)\\n#  reduce는 내장객체가 아니기 때문에 from functools import reduce 임포트\\n\\nfrom functools import reduce\\n\\na = [1, 2, 3, 4, 5]\\n\\nreduce(add.a)', '# reduce 사용하기\\n#  from functools import reduce\\n#  reduce(함수, 반복가능한객체)\\n#  reduce는 내장객체가 아니기 때문에 from functools import reduce 임포트\\n\\nfrom functools import reduce\\n\\na = [1, 2, 3, 4, 5]\\n\\nreduce(add,a)', 'print([n for n in range(1,101) if n%5==0])', '# 1.\\n\\nb = [2, 4, 6, 8, 10,11]\\n\\ndef avg(nums):\\n    result = sum(nums)/len(nums)\\n    return result\\n\\nprint(avg(b))', '# 2.\\n\\ndef float_check(nums):\\n    if type(nums):\\n        print(\"소수점 입니다\")\\n    else:\\n        print(\"소수점이 아닙니다\")\\n\\nfloat_check(input(\"숫자를 입력하세요: \"))', '# 2.\\n\\ndef float_check(nums):\\n    if type(nums)==float:\\n        print(\"소수점 입니다\")\\n    else:\\n        print(\"소수점이 아닙니다\")\\n\\nfloat_check(input(\"숫자를 입력하세요: \"))', '# 2.\\n\\ndef float_check(nums):\\n    if type(nums)==float:\\n        print(\"소수점 입니다\")\\n    else:\\n        print(\"소수점이 아닙니다\")\\n\\nfloat_check(input(\"숫자를 입력하세요: \"))', '# 2.\\n\\ndef float_check(nums):\\n    if type(nums)==float:\\n        print(\"소수점 입니다\")\\n    else:\\n        print(\"소수점이 아닙니다\")\\n\\nfloat_check(input(\"숫자를 입력하세요: \"))', '# 2.\\n\\ndef float_check(nums):\\n    try:\\n        nums = int(nums)\\n        if type(nums)==float:\\n            print(\"소수점 입니다\")\\n    except:\\n        print(\"소수점이 아닙니다\")\\n\\nfloat_check(input(\"숫자를 입력하세요: \"))', '# 2.\\n\\ndef float_check(nums):\\n    try:\\n        nums = float(nums)\\n        if type(nums)==float:\\n            print(\"소수점 입니다\")\\n    except:\\n        print(\"소수점이 아닙니다\")\\n\\nfloat_check(input(\"숫자를 입력하세요: \"))', '# 2.\\n\\ndef float_check(nums):\\n    try:\\n        nums = float(nums)\\n        if type(nums)==float:\\n            print(\"소수점 입니다\")\\n    except:\\n        print(\"소수점이 아닙니다\")\\n\\nfloat_check(input(\"숫자를 입력하세요: \"))', '# 2.\\n\\ndef float_check(nums):\\n    try:\\n        nums = float(nums)\\n        if type(nums)==float:\\n            print(\"소수점 입니다\")\\n    except:\\n        print(\"소수점이 아닙니다\")\\n\\nfloat_check(input(\"숫자를 입력하세요: \"))', '# 2.\\n\\ndef float_check(nums):\\n    try:\\n        if type(nums)==float:\\n            print(\"소수점 입니다\")\\n    except:\\n        print(\"소수점이 아닙니다\")\\n\\nfloat_check(input(\"숫자를 입력하세요: \"))', '# 2.\\n\\ndef float_check(nums):\\n    try:\\n        if type(nums)==float:\\n            print(\"소수점 입니다\")\\n        else:\\n            print(\"1소수점이 아닙니다\")\\n    except:\\n        print(\"소수점이 아닙니다\")\\n\\nfloat_check(input(\"숫자를 입력하세요: \"))', '# 2.\\n\\ndef float_check(nums):\\n    try:\\n        if type(nums)==float:\\n            print(\"소수점 입니다\")\\n        else:\\n            print(\"정수 입니다\")\\n    except:\\n        print(\"소수점이 아닙니다\")\\n\\nfloat_check(input(\"숫자를 입력하세요: \"))', '# 2.\\n\\ndef float_check(nums):\\n    try:\\n        if type(nums)==float:\\n            print(\"소수점 입니다\")\\n        else:\\n            print(\"정수 입니다\")\\n    except:\\n        print(\"소수점이 아닙니다\")\\n\\nfloat_check(input(\"숫자를 입력하세요: \"))', '# 2.\\n\\ndef float_check(nums):\\n        if type(nums)==float:\\n            print(\"소수점 입니다\")\\n        elif type(nums)==int:\\n            print(\"정수 입니다\")\\n        else:\\n            print(\"숫자가 아닙니다\")\\nfloat_check(input(\"숫자를 입력하세요: \"))', '# 2.\\n\\ndef float_check(nums):\\n        if type(nums)==float:\\n            print(\"소수점 입니다\")\\n        else:\\n            try:\\n                nums=int(nums)\\n                if type(nums)==int:\\n                    print(\"정수 입니다\")\\n            except:\\n                print(\"숫자가 아닙니다\")\\nfloat_check(input(\"숫자를 입력하세요: \"))', '# 2.\\n\\ndef float_check(nums):\\n        if type(nums)==float:\\n            print(\"소수점 입니다\")\\n        else:\\n            try:\\n                nums=int(nums)\\n                if type(nums)==int:\\n                    print(\"정수 입니다\")\\n            except:\\n                print(\"숫자가 아닙니다\")\\nfloat_check(input(\"숫자를 입력하세요: \"))', 'name = \"kim\"\\ndef hello():\\n    name = \"kang\"', 'name = \"kim\"\\ndef hello():\\n    name = \"kang\"\\n    print(\"hello\", name)\\n    print(locals())\\n    print(globals())\\nprint(name)\\nhello()'], '_oh': {1: 5, 2: <function <lambda> at 0x000002143F3DCA60>, 3: <function <lambda> at 0x000002143F4150D0>, 4: <function <lambda> at 0x000002143F415160>, 5: 5, 6: 5, 7: 11, 8: 7, 9: 0.8333333333333334, 12: 2, 13: 9, 14: 5, 17: 5, 18: 5, 19: <filter object at 0x000002143F4CC100>, 34: 15}, '_dh': ['C:\\\\Users\\\\seo2\\\\Desktop\\\\한양대 파이썬\\\\PPL2201\\\\python'], 'In': ['', 'def add(a,b):\\n    return a+b\\nadd(2,3)', 'lambda a,b: a+b', 'lambda a, b:a+b', 'lambda a, b:a+b', '(lambda a, b:a+b)(2,3)', 'iam_test = lambda a, b:a+b\\ntype(iam_test)\\niam_test(2,3)', 'def mul(a,b):\\n    return a+b\\ndef div(a,b):\\n    return a/b\\n\\ndef test_func(func,a,b):\\n    result = func(a,b)\\n    return result\\n\\ntest_func(add,5,6)', 'def mul(a,b):\\n    return a+b\\ndef div(a,b):\\n    return a/b\\n\\ndef test_func(func,a,b):\\n    result = func(a,b)\\n    return result\\n\\ntest_func(add,5,6)\\n\\ntest_func(mul,3,4)', 'def mul(a,b):\\n    return a+b\\ndef div(a,b):\\n    return a/b\\n\\ndef test_func(func,a,b):\\n    result = func(a,b)\\n    return result\\n\\ntest_func(add,5,6)\\n\\ntest_func(mul,3,4)\\n\\ntest_func(div,5,6)', 'def mul(a,b):\\n    return a+b\\ndef div(a,b):\\n    return a/b\\n\\ndef test_func(func,a,b):\\n    result = func(a,b)\\n    return result\\n\\ntest_func(add,5,6)\\n\\ntest_func(mul,3,4)\\n\\nprint(test_func(div,5,6))', 'def mul(a,b):\\n    return a+b\\ndef div(a,b):\\n    return a/b\\n\\ndef test_func(func,a,b):\\n    result = func(a,b)\\n    return result\\n\\ntest_func(add,5,6)\\n\\ntest_func(mul,3,4)\\n\\nprint(test_func(div,5,6))\\n\\ntest_func(lambda a,b:a-b.4,2)', 'def mul(a,b):\\n    return a+b\\ndef div(a,b):\\n    return a/b\\n\\ndef test_func(func,a,b):\\n    result = func(a,b)\\n    return result\\n\\ntest_func(add,5,6)\\n\\ntest_func(mul,3,4)\\n\\nprint(test_func(div,5,6))\\n\\ntest_func(lambda a,b:a-b,4,2)', 'def test2(op):\\n    if op == 1:\\n        return lambda a,b:a+b\\n    elif op == 2:\\n        return lambda a,b:a-b\\n    else:\\n        return lambda a,b:a*b\\nfunc1 = test2(int(input(\"+는 1, -는 2, X는 3을 입력하세요.\")))\\n\\nfunc1(6,3)', 'iam_test2 = lambda func,a,b : func(a,b)\\n\\niam_test2(add,2,3)', '(lambda func,a,b : func(a,b))(add(2,3))', '(lambda func,a,b : func(a,b))(add2,3)', '(lambda func,a,b : func(a,b))(add,2,3)', '(lambda s : len(s))(\"hello\")', 'nums = [1, 2, 3, 6, 8, 9, 10, 11, 13, 15]\\n\\ndef even(n):\\n    return n %2==0\\n\\n\\nfilter(even,nums)', 'nums = [1, 2, 3, 6, 8, 9, 10, 11, 13, 15]\\n\\ndef even(n):\\n    return n %2==0\\n\\n\\nprint(list(filter(even,nums)))', 'nums = [1, 2, 3, 6, 8, 9, 10, 11, 13, 15]\\n\\ndef even(n):\\n    return n %2==0\\n\\n\\nprint(list(filter(even,nums)))\\n\\nprint(list(filter(lambda n : n%3==0,nums)))', '# 1회성으로 간단한 함수로 정의할 때 람다를 주로 사용한다. 예를들어 아래와 같은 필터링\\n\\nnums = [1, 2, 3, 6, 8, 9, 10, 11, 13, 15]\\n\\ndef even(n):\\n    return n %2==0\\n\\n\\nprint(list(filter(even,nums)))\\n\\nprint(list(filter(lambda n : n%3==0,nums)))', '# map\\n# 주어진 리스트, 리스트의 제곱을한 숫자로 새로운 리스트\\nnums = [1, 2, 3, 6, 8, 9, 10, 11, 13, 15]\\n\\ndef mun_10(n):\\n    return n *10\\n\\nprint(list(map(mul_10,nums)))', '# map\\n# 주어진 리스트, 리스트의 제곱을한 숫자로 새로운 리스트\\nnums = [1, 2, 3, 6, 8, 9, 10, 11, 13, 15]\\n\\ndef mun_10(n):\\n    return n *10\\n\\nprint(list(map(mun_10,nums)))', '# map\\n# 주어진 리스트, 리스트의 제곱을한 숫자로 새로운 리스트\\nnums = [1, 2, 3, 6, 8, 9, 10, 11, 13, 15]\\n\\ndef mun_10(n):\\n    return n *10\\n\\nprint(list(map(mun_10,nums)))\\n\\ndef multi(n):\\n    return n ** 2\\n\\nprint(list(map(multi,nums)))', '# map\\n# 주어진 리스트, 리스트의 제곱을한 숫자로 새로운 리스트\\nnums = [1, 2, 3, 6, 8, 9, 10, 11, 13, 15]\\n\\ndef mun_10(n):\\n    return n *10\\n\\nprint(list(map(mun_10,nums)))\\n\\ndef multi(n):\\n    return n ** 2\\n\\nprint(list(map(multi,nums)))\\n\\nprint(list(map(even,nums)))', '#람다 표현식에 조건부 표현식 사용하기\\n#lambda 매개변수들: 식1 if 조건식 else 식2\\n\\na = [1, 2, 3, 4, 5, 6, 7, 8, 9, 10]\\n\\n#(lambda n : str(n) if n%3==0 else n )(3)\\nprint(list(map(lambda n : str(n) if n%3==0 else n, a)))', '#람다 표현식에 조건부 표현식 사용하기\\n#lambda 매개변수들: 식1 if 조건식 else 식2\\n\\na = [1, 2, 3, 4, 5, 6, 7, 8, 9, 10]\\n\\n#(lambda n : str(n) if n%3==0 else n )(3)\\nprint(list(map(lambda n : str(n) if n%3==0 else n, a)))\\n\\nscores = [99,23,55,95,87,65,44,76]\\n\\nprint(list(map(lambda n : \"Pass\" if n>60 else \"Fail\", score)))', '#람다 표현식에 조건부 표현식 사용하기\\n#lambda 매개변수들: 식1 if 조건식 else 식2\\n\\na = [1, 2, 3, 4, 5, 6, 7, 8, 9, 10]\\n\\n#(lambda n : str(n) if n%3==0 else n )(3)\\nprint(list(map(lambda n : str(n) if n%3==0 else n, a)))\\n\\nscores = [99,23,55,95,87,65,44,76]\\n\\nprint(list(map(lambda n : \"Pass\" if n>60 else \"Fail\", scores)))', '#lambda 매개변수들: 식1 if 조건식1 else 식2 if 조건식2 else 식3\\n# 이렇게 가독성이 떨어질 때에는 그냥 def 함수로 만들고 if elif else 사용권장\\na = [1, 2, 3, 4, 5, 6, 7, 8, 9, 10]\\n\\ndef f(x):\\n    if x%2==0:\\n        return str(x)\\n    elif x%3==0:\\n        return float(x)\\n    else:\\n        return x+10\\n\\n\\niam = lambda x : str(x) if x %2 ==0 else float(x) if x% 3==0 else x +10\\nprint(list(map(iam,a)))\\n\\nprint(f(a))', '#map에 객체를 여러 개 넣기\\n#map은 리스트 등의 반복 가능한 객체를 여러 개 넣을 수도 있습니다. \\n#다음은 두 리스트의 요소를 곱해서 새 리스트를 만듭니다.\\n\\na = [1, 2, 3, 4, 5]\\nb = [2, 4, 6, 8, 10]\\n\\nprint(list(map(lambda x,y:x*y, a, b)))', '#map에 객체를 여러 개 넣기\\n#map은 리스트 등의 반복 가능한 객체를 여러 개 넣을 수도 있습니다. \\n#다음은 두 리스트의 요소를 곱해서 새 리스트를 만듭니다.\\n\\na = [1, 2, 3, 4, 5]\\nb = [2, 4, 6, 8, 10,11]\\n\\nprint(list(map(lambda x,y:x*y, a, b)))', '# reduce 사용하기\\n#  from functools import reduce\\n#  reduce(함수, 반복가능한객체)\\n#  reduce는 내장객체가 아니기 때문에 from functools import reduce 임포트\\n\\nfrom functools import reduce\\n\\na = [1, 2, 3, 4, 5]\\n\\nreduce(add.a)', '# reduce 사용하기\\n#  from functools import reduce\\n#  reduce(함수, 반복가능한객체)\\n#  reduce는 내장객체가 아니기 때문에 from functools import reduce 임포트\\n\\nfrom functools import reduce\\n\\na = [1, 2, 3, 4, 5]\\n\\nreduce(add,a)', 'print([n for n in range(1,101) if n%5==0])', '# 1.\\n\\nb = [2, 4, 6, 8, 10,11]\\n\\ndef avg(nums):\\n    result = sum(nums)/len(nums)\\n    return result\\n\\nprint(avg(b))', '# 2.\\n\\ndef float_check(nums):\\n    if type(nums):\\n        print(\"소수점 입니다\")\\n    else:\\n        print(\"소수점이 아닙니다\")\\n\\nfloat_check(input(\"숫자를 입력하세요: \"))', '# 2.\\n\\ndef float_check(nums):\\n    if type(nums)==float:\\n        print(\"소수점 입니다\")\\n    else:\\n        print(\"소수점이 아닙니다\")\\n\\nfloat_check(input(\"숫자를 입력하세요: \"))', '# 2.\\n\\ndef float_check(nums):\\n    if type(nums)==float:\\n        print(\"소수점 입니다\")\\n    else:\\n        print(\"소수점이 아닙니다\")\\n\\nfloat_check(input(\"숫자를 입력하세요: \"))', '# 2.\\n\\ndef float_check(nums):\\n    if type(nums)==float:\\n        print(\"소수점 입니다\")\\n    else:\\n        print(\"소수점이 아닙니다\")\\n\\nfloat_check(input(\"숫자를 입력하세요: \"))', '# 2.\\n\\ndef float_check(nums):\\n    try:\\n        nums = int(nums)\\n        if type(nums)==float:\\n            print(\"소수점 입니다\")\\n    except:\\n        print(\"소수점이 아닙니다\")\\n\\nfloat_check(input(\"숫자를 입력하세요: \"))', '# 2.\\n\\ndef float_check(nums):\\n    try:\\n        nums = float(nums)\\n        if type(nums)==float:\\n            print(\"소수점 입니다\")\\n    except:\\n        print(\"소수점이 아닙니다\")\\n\\nfloat_check(input(\"숫자를 입력하세요: \"))', '# 2.\\n\\ndef float_check(nums):\\n    try:\\n        nums = float(nums)\\n        if type(nums)==float:\\n            print(\"소수점 입니다\")\\n    except:\\n        print(\"소수점이 아닙니다\")\\n\\nfloat_check(input(\"숫자를 입력하세요: \"))', '# 2.\\n\\ndef float_check(nums):\\n    try:\\n        nums = float(nums)\\n        if type(nums)==float:\\n            print(\"소수점 입니다\")\\n    except:\\n        print(\"소수점이 아닙니다\")\\n\\nfloat_check(input(\"숫자를 입력하세요: \"))', '# 2.\\n\\ndef float_check(nums):\\n    try:\\n        if type(nums)==float:\\n            print(\"소수점 입니다\")\\n    except:\\n        print(\"소수점이 아닙니다\")\\n\\nfloat_check(input(\"숫자를 입력하세요: \"))', '# 2.\\n\\ndef float_check(nums):\\n    try:\\n        if type(nums)==float:\\n            print(\"소수점 입니다\")\\n        else:\\n            print(\"1소수점이 아닙니다\")\\n    except:\\n        print(\"소수점이 아닙니다\")\\n\\nfloat_check(input(\"숫자를 입력하세요: \"))', '# 2.\\n\\ndef float_check(nums):\\n    try:\\n        if type(nums)==float:\\n            print(\"소수점 입니다\")\\n        else:\\n            print(\"정수 입니다\")\\n    except:\\n        print(\"소수점이 아닙니다\")\\n\\nfloat_check(input(\"숫자를 입력하세요: \"))', '# 2.\\n\\ndef float_check(nums):\\n    try:\\n        if type(nums)==float:\\n            print(\"소수점 입니다\")\\n        else:\\n            print(\"정수 입니다\")\\n    except:\\n        print(\"소수점이 아닙니다\")\\n\\nfloat_check(input(\"숫자를 입력하세요: \"))', '# 2.\\n\\ndef float_check(nums):\\n        if type(nums)==float:\\n            print(\"소수점 입니다\")\\n        elif type(nums)==int:\\n            print(\"정수 입니다\")\\n        else:\\n            print(\"숫자가 아닙니다\")\\nfloat_check(input(\"숫자를 입력하세요: \"))', '# 2.\\n\\ndef float_check(nums):\\n        if type(nums)==float:\\n            print(\"소수점 입니다\")\\n        else:\\n            try:\\n                nums=int(nums)\\n                if type(nums)==int:\\n                    print(\"정수 입니다\")\\n            except:\\n                print(\"숫자가 아닙니다\")\\nfloat_check(input(\"숫자를 입력하세요: \"))', '# 2.\\n\\ndef float_check(nums):\\n        if type(nums)==float:\\n            print(\"소수점 입니다\")\\n        else:\\n            try:\\n                nums=int(nums)\\n                if type(nums)==int:\\n                    print(\"정수 입니다\")\\n            except:\\n                print(\"숫자가 아닙니다\")\\nfloat_check(input(\"숫자를 입력하세요: \"))', 'name = \"kim\"\\ndef hello():\\n    name = \"kang\"', 'name = \"kim\"\\ndef hello():\\n    name = \"kang\"\\n    print(\"hello\", name)\\n    print(locals())\\n    print(globals())\\nprint(name)\\nhello()'], 'Out': {1: 5, 2: <function <lambda> at 0x000002143F3DCA60>, 3: <function <lambda> at 0x000002143F4150D0>, 4: <function <lambda> at 0x000002143F415160>, 5: 5, 6: 5, 7: 11, 8: 7, 9: 0.8333333333333334, 12: 2, 13: 9, 14: 5, 17: 5, 18: 5, 19: <filter object at 0x000002143F4CC100>, 34: 15}, 'get_ipython': <bound method InteractiveShell.get_ipython of <ipykernel.zmqshell.ZMQInteractiveShell object at 0x000002143F339C70>>, 'exit': <IPython.core.autocall.ZMQExitAutocall object at 0x000002143F399A90>, 'quit': <IPython.core.autocall.ZMQExitAutocall object at 0x000002143F399A90>, '_': 15, '__': <filter object at 0x000002143F4CC100>, '___': 5, '_i': 'name = \"kim\"\\ndef hello():\\n    name = \"kang\"', '_ii': '# 2.\\n\\ndef float_check(nums):\\n        if type(nums)==float:\\n            print(\"소수점 입니다\")\\n        else:\\n            try:\\n                nums=int(nums)\\n                if type(nums)==int:\\n                    print(\"정수 입니다\")\\n            except:\\n                print(\"숫자가 아닙니다\")\\nfloat_check(input(\"숫자를 입력하세요: \"))', '_iii': '# 2.\\n\\ndef float_check(nums):\\n        if type(nums)==float:\\n            print(\"소수점 입니다\")\\n        else:\\n            try:\\n                nums=int(nums)\\n                if type(nums)==int:\\n                    print(\"정수 입니다\")\\n            except:\\n                print(\"숫자가 아닙니다\")\\nfloat_check(input(\"숫자를 입력하세요: \"))', '_i1': 'def add(a,b):\\n    return a+b\\nadd(2,3)', 'add': <function add at 0x000002143F3DCEE0>, '_1': 5, '_i2': 'lambda a,b: a+b', '_2': <function <lambda> at 0x000002143F3DCA60>, '_i3': 'lambda a, b:a+b', '_3': <function <lambda> at 0x000002143F4150D0>, '_i4': 'lambda a, b:a+b', '_4': <function <lambda> at 0x000002143F415160>, '_i5': '(lambda a, b:a+b)(2,3)', '_5': 5, '_i6': 'iam_test = lambda a, b:a+b\\ntype(iam_test)\\niam_test(2,3)', 'iam_test': <function <lambda> at 0x000002143F4151F0>, '_6': 5, '_i7': 'def mul(a,b):\\n    return a+b\\ndef div(a,b):\\n    return a/b\\n\\ndef test_func(func,a,b):\\n    result = func(a,b)\\n    return result\\n\\ntest_func(add,5,6)', 'mul': <function mul at 0x000002143F415670>, 'div': <function div at 0x000002143F415310>, 'test_func': <function test_func at 0x000002143F415550>, '_7': 11, '_i8': 'def mul(a,b):\\n    return a+b\\ndef div(a,b):\\n    return a/b\\n\\ndef test_func(func,a,b):\\n    result = func(a,b)\\n    return result\\n\\ntest_func(add,5,6)\\n\\ntest_func(mul,3,4)', '_8': 7, '_i9': 'def mul(a,b):\\n    return a+b\\ndef div(a,b):\\n    return a/b\\n\\ndef test_func(func,a,b):\\n    result = func(a,b)\\n    return result\\n\\ntest_func(add,5,6)\\n\\ntest_func(mul,3,4)\\n\\ntest_func(div,5,6)', '_9': 0.8333333333333334, '_i10': 'def mul(a,b):\\n    return a+b\\ndef div(a,b):\\n    return a/b\\n\\ndef test_func(func,a,b):\\n    result = func(a,b)\\n    return result\\n\\ntest_func(add,5,6)\\n\\ntest_func(mul,3,4)\\n\\nprint(test_func(div,5,6))', '_i11': 'def mul(a,b):\\n    return a+b\\ndef div(a,b):\\n    return a/b\\n\\ndef test_func(func,a,b):\\n    result = func(a,b)\\n    return result\\n\\ntest_func(add,5,6)\\n\\ntest_func(mul,3,4)\\n\\nprint(test_func(div,5,6))\\n\\ntest_func(lambda a,b:a-b.4,2)', '_i12': 'def mul(a,b):\\n    return a+b\\ndef div(a,b):\\n    return a/b\\n\\ndef test_func(func,a,b):\\n    result = func(a,b)\\n    return result\\n\\ntest_func(add,5,6)\\n\\ntest_func(mul,3,4)\\n\\nprint(test_func(div,5,6))\\n\\ntest_func(lambda a,b:a-b,4,2)', '_12': 2, '_i13': 'def test2(op):\\n    if op == 1:\\n        return lambda a,b:a+b\\n    elif op == 2:\\n        return lambda a,b:a-b\\n    else:\\n        return lambda a,b:a*b\\nfunc1 = test2(int(input(\"+는 1, -는 2, X는 3을 입력하세요.\")))\\n\\nfunc1(6,3)', 'test2': <function test2 at 0x000002143F415700>, 'func1': <function test2.<locals>.<lambda> at 0x000002143F3DCE50>, '_13': 9, '_i14': 'iam_test2 = lambda func,a,b : func(a,b)\\n\\niam_test2(add,2,3)', 'iam_test2': <function <lambda> at 0x000002143F415430>, '_14': 5, '_i15': '(lambda func,a,b : func(a,b))(add(2,3))', '_i16': '(lambda func,a,b : func(a,b))(add2,3)', '_i17': '(lambda func,a,b : func(a,b))(add,2,3)', '_17': 5, '_i18': '(lambda s : len(s))(\"hello\")', '_18': 5, '_i19': 'nums = [1, 2, 3, 6, 8, 9, 10, 11, 13, 15]\\n\\ndef even(n):\\n    return n %2==0\\n\\n\\nfilter(even,nums)', 'nums': [1, 2, 3, 6, 8, 9, 10, 11, 13, 15], 'even': <function even at 0x000002143F4B1DC0>, '_19': <filter object at 0x000002143F4CC100>, '_i20': 'nums = [1, 2, 3, 6, 8, 9, 10, 11, 13, 15]\\n\\ndef even(n):\\n    return n %2==0\\n\\n\\nprint(list(filter(even,nums)))', '_i21': 'nums = [1, 2, 3, 6, 8, 9, 10, 11, 13, 15]\\n\\ndef even(n):\\n    return n %2==0\\n\\n\\nprint(list(filter(even,nums)))\\n\\nprint(list(filter(lambda n : n%3==0,nums)))', '_i22': '# 1회성으로 간단한 함수로 정의할 때 람다를 주로 사용한다. 예를들어 아래와 같은 필터링\\n\\nnums = [1, 2, 3, 6, 8, 9, 10, 11, 13, 15]\\n\\ndef even(n):\\n    return n %2==0\\n\\n\\nprint(list(filter(even,nums)))\\n\\nprint(list(filter(lambda n : n%3==0,nums)))', '_i23': '# map\\n# 주어진 리스트, 리스트의 제곱을한 숫자로 새로운 리스트\\nnums = [1, 2, 3, 6, 8, 9, 10, 11, 13, 15]\\n\\ndef mun_10(n):\\n    return n *10\\n\\nprint(list(map(mul_10,nums)))', 'mun_10': <function mun_10 at 0x000002143F4B1C10>, '_i24': '# map\\n# 주어진 리스트, 리스트의 제곱을한 숫자로 새로운 리스트\\nnums = [1, 2, 3, 6, 8, 9, 10, 11, 13, 15]\\n\\ndef mun_10(n):\\n    return n *10\\n\\nprint(list(map(mun_10,nums)))', '_i25': '# map\\n# 주어진 리스트, 리스트의 제곱을한 숫자로 새로운 리스트\\nnums = [1, 2, 3, 6, 8, 9, 10, 11, 13, 15]\\n\\ndef mun_10(n):\\n    return n *10\\n\\nprint(list(map(mun_10,nums)))\\n\\ndef multi(n):\\n    return n ** 2\\n\\nprint(list(map(multi,nums)))', 'multi': <function multi at 0x000002143F4CF0D0>, '_i26': '# map\\n# 주어진 리스트, 리스트의 제곱을한 숫자로 새로운 리스트\\nnums = [1, 2, 3, 6, 8, 9, 10, 11, 13, 15]\\n\\ndef mun_10(n):\\n    return n *10\\n\\nprint(list(map(mun_10,nums)))\\n\\ndef multi(n):\\n    return n ** 2\\n\\nprint(list(map(multi,nums)))\\n\\nprint(list(map(even,nums)))', '_i27': '#람다 표현식에 조건부 표현식 사용하기\\n#lambda 매개변수들: 식1 if 조건식 else 식2\\n\\na = [1, 2, 3, 4, 5, 6, 7, 8, 9, 10]\\n\\n#(lambda n : str(n) if n%3==0 else n )(3)\\nprint(list(map(lambda n : str(n) if n%3==0 else n, a)))', 'a': [1, 2, 3, 4, 5], '_i28': '#람다 표현식에 조건부 표현식 사용하기\\n#lambda 매개변수들: 식1 if 조건식 else 식2\\n\\na = [1, 2, 3, 4, 5, 6, 7, 8, 9, 10]\\n\\n#(lambda n : str(n) if n%3==0 else n )(3)\\nprint(list(map(lambda n : str(n) if n%3==0 else n, a)))\\n\\nscores = [99,23,55,95,87,65,44,76]\\n\\nprint(list(map(lambda n : \"Pass\" if n>60 else \"Fail\", score)))', 'scores': [99, 23, 55, 95, 87, 65, 44, 76], '_i29': '#람다 표현식에 조건부 표현식 사용하기\\n#lambda 매개변수들: 식1 if 조건식 else 식2\\n\\na = [1, 2, 3, 4, 5, 6, 7, 8, 9, 10]\\n\\n#(lambda n : str(n) if n%3==0 else n )(3)\\nprint(list(map(lambda n : str(n) if n%3==0 else n, a)))\\n\\nscores = [99,23,55,95,87,65,44,76]\\n\\nprint(list(map(lambda n : \"Pass\" if n>60 else \"Fail\", scores)))', '_i30': '#lambda 매개변수들: 식1 if 조건식1 else 식2 if 조건식2 else 식3\\n# 이렇게 가독성이 떨어질 때에는 그냥 def 함수로 만들고 if elif else 사용권장\\na = [1, 2, 3, 4, 5, 6, 7, 8, 9, 10]\\n\\ndef f(x):\\n    if x%2==0:\\n        return str(x)\\n    elif x%3==0:\\n        return float(x)\\n    else:\\n        return x+10\\n\\n\\niam = lambda x : str(x) if x %2 ==0 else float(x) if x% 3==0 else x +10\\nprint(list(map(iam,a)))\\n\\nprint(f(a))', 'f': <function f at 0x00000214411A3C10>, 'iam': <function <lambda> at 0x00000214411A3CA0>, '_i31': '#map에 객체를 여러 개 넣기\\n#map은 리스트 등의 반복 가능한 객체를 여러 개 넣을 수도 있습니다. \\n#다음은 두 리스트의 요소를 곱해서 새 리스트를 만듭니다.\\n\\na = [1, 2, 3, 4, 5]\\nb = [2, 4, 6, 8, 10]\\n\\nprint(list(map(lambda x,y:x*y, a, b)))', 'b': [2, 4, 6, 8, 10, 11], '_i32': '#map에 객체를 여러 개 넣기\\n#map은 리스트 등의 반복 가능한 객체를 여러 개 넣을 수도 있습니다. \\n#다음은 두 리스트의 요소를 곱해서 새 리스트를 만듭니다.\\n\\na = [1, 2, 3, 4, 5]\\nb = [2, 4, 6, 8, 10,11]\\n\\nprint(list(map(lambda x,y:x*y, a, b)))', '_i33': '# reduce 사용하기\\n#  from functools import reduce\\n#  reduce(함수, 반복가능한객체)\\n#  reduce는 내장객체가 아니기 때문에 from functools import reduce 임포트\\n\\nfrom functools import reduce\\n\\na = [1, 2, 3, 4, 5]\\n\\nreduce(add.a)', 'reduce': <built-in function reduce>, '_i34': '# reduce 사용하기\\n#  from functools import reduce\\n#  reduce(함수, 반복가능한객체)\\n#  reduce는 내장객체가 아니기 때문에 from functools import reduce 임포트\\n\\nfrom functools import reduce\\n\\na = [1, 2, 3, 4, 5]\\n\\nreduce(add,a)', '_34': 15, '_i35': 'print([n for n in range(1,101) if n%5==0])', '_i36': '# 1.\\n\\nb = [2, 4, 6, 8, 10,11]\\n\\ndef avg(nums):\\n    result = sum(nums)/len(nums)\\n    return result\\n\\nprint(avg(b))', 'avg': <function avg at 0x000002144037A3A0>, '_i37': '# 2.\\n\\ndef float_check(nums):\\n    if type(nums):\\n        print(\"소수점 입니다\")\\n    else:\\n        print(\"소수점이 아닙니다\")\\n\\nfloat_check(input(\"숫자를 입력하세요: \"))', 'float_check': <function float_check at 0x00000214408CCD30>, '_i38': '# 2.\\n\\ndef float_check(nums):\\n    if type(nums)==float:\\n        print(\"소수점 입니다\")\\n    else:\\n        print(\"소수점이 아닙니다\")\\n\\nfloat_check(input(\"숫자를 입력하세요: \"))', '_i39': '# 2.\\n\\ndef float_check(nums):\\n    if type(nums)==float:\\n        print(\"소수점 입니다\")\\n    else:\\n        print(\"소수점이 아닙니다\")\\n\\nfloat_check(input(\"숫자를 입력하세요: \"))', '_i40': '# 2.\\n\\ndef float_check(nums):\\n    if type(nums)==float:\\n        print(\"소수점 입니다\")\\n    else:\\n        print(\"소수점이 아닙니다\")\\n\\nfloat_check(input(\"숫자를 입력하세요: \"))', '_i41': '# 2.\\n\\ndef float_check(nums):\\n    try:\\n        nums = int(nums)\\n        if type(nums)==float:\\n            print(\"소수점 입니다\")\\n    except:\\n        print(\"소수점이 아닙니다\")\\n\\nfloat_check(input(\"숫자를 입력하세요: \"))', '_i42': '# 2.\\n\\ndef float_check(nums):\\n    try:\\n        nums = float(nums)\\n        if type(nums)==float:\\n            print(\"소수점 입니다\")\\n    except:\\n        print(\"소수점이 아닙니다\")\\n\\nfloat_check(input(\"숫자를 입력하세요: \"))', '_i43': '# 2.\\n\\ndef float_check(nums):\\n    try:\\n        nums = float(nums)\\n        if type(nums)==float:\\n            print(\"소수점 입니다\")\\n    except:\\n        print(\"소수점이 아닙니다\")\\n\\nfloat_check(input(\"숫자를 입력하세요: \"))', '_i44': '# 2.\\n\\ndef float_check(nums):\\n    try:\\n        nums = float(nums)\\n        if type(nums)==float:\\n            print(\"소수점 입니다\")\\n    except:\\n        print(\"소수점이 아닙니다\")\\n\\nfloat_check(input(\"숫자를 입력하세요: \"))', '_i45': '# 2.\\n\\ndef float_check(nums):\\n    try:\\n        if type(nums)==float:\\n            print(\"소수점 입니다\")\\n    except:\\n        print(\"소수점이 아닙니다\")\\n\\nfloat_check(input(\"숫자를 입력하세요: \"))', '_i46': '# 2.\\n\\ndef float_check(nums):\\n    try:\\n        if type(nums)==float:\\n            print(\"소수점 입니다\")\\n        else:\\n            print(\"1소수점이 아닙니다\")\\n    except:\\n        print(\"소수점이 아닙니다\")\\n\\nfloat_check(input(\"숫자를 입력하세요: \"))', '_i47': '# 2.\\n\\ndef float_check(nums):\\n    try:\\n        if type(nums)==float:\\n            print(\"소수점 입니다\")\\n        else:\\n            print(\"정수 입니다\")\\n    except:\\n        print(\"소수점이 아닙니다\")\\n\\nfloat_check(input(\"숫자를 입력하세요: \"))', '_i48': '# 2.\\n\\ndef float_check(nums):\\n    try:\\n        if type(nums)==float:\\n            print(\"소수점 입니다\")\\n        else:\\n            print(\"정수 입니다\")\\n    except:\\n        print(\"소수점이 아닙니다\")\\n\\nfloat_check(input(\"숫자를 입력하세요: \"))', '_i49': '# 2.\\n\\ndef float_check(nums):\\n        if type(nums)==float:\\n            print(\"소수점 입니다\")\\n        elif type(nums)==int:\\n            print(\"정수 입니다\")\\n        else:\\n            print(\"숫자가 아닙니다\")\\nfloat_check(input(\"숫자를 입력하세요: \"))', '_i50': '# 2.\\n\\ndef float_check(nums):\\n        if type(nums)==float:\\n            print(\"소수점 입니다\")\\n        else:\\n            try:\\n                nums=int(nums)\\n                if type(nums)==int:\\n                    print(\"정수 입니다\")\\n            except:\\n                print(\"숫자가 아닙니다\")\\nfloat_check(input(\"숫자를 입력하세요: \"))', '_i51': '# 2.\\n\\ndef float_check(nums):\\n        if type(nums)==float:\\n            print(\"소수점 입니다\")\\n        else:\\n            try:\\n                nums=int(nums)\\n                if type(nums)==int:\\n                    print(\"정수 입니다\")\\n            except:\\n                print(\"숫자가 아닙니다\")\\nfloat_check(input(\"숫자를 입력하세요: \"))', '_i52': 'name = \"kim\"\\ndef hello():\\n    name = \"kang\"', 'name': 'kim', 'hello': <function hello at 0x00000214408CCB80>, '_i53': 'name = \"kim\"\\ndef hello():\\n    name = \"kang\"\\n    print(\"hello\", name)\\n    print(locals())\\n    print(globals())\\nprint(name)\\nhello()'}\n"
     ]
    }
   ],
   "source": [
    "name = \"kim\"\n",
    "def hello():\n",
    "    name = \"kang\"\n",
    "    print(\"hello\", name)\n",
    "    print(locals())\n",
    "    print(globals())\n",
    "print(name)\n",
    "hello()"
   ]
  },
  {
   "cell_type": "code",
   "execution_count": 56,
   "metadata": {},
   "outputs": [
    {
     "name": "stdout",
     "output_type": "stream",
     "text": [
      "hello\n"
     ]
    }
   ],
   "source": [
    "def hello():\n",
    "    h = \"hello\"\n",
    "    def hello_sub():\n",
    "        print(h)\n",
    "    hello_sub()\n",
    "hello()\n"
   ]
  },
  {
   "cell_type": "markdown",
   "metadata": {},
   "source": [
    "# nonlocal을 선언하여 내부 함수에서 바깥 함수의 인자를 사용하여 변경할 수 있게 한다."
   ]
  },
  {
   "cell_type": "code",
   "execution_count": 57,
   "metadata": {},
   "outputs": [
    {
     "name": "stdout",
     "output_type": "stream",
     "text": [
      "20\n"
     ]
    }
   ],
   "source": [
    "def test():\n",
    "    x = 10\n",
    "    def test_sub():\n",
    "        nonlocal x\n",
    "        x = 20\n",
    "    test_sub()\n",
    "    print(x)\n",
    "test()"
   ]
  },
  {
   "cell_type": "code",
   "execution_count": 58,
   "metadata": {},
   "outputs": [
    {
     "name": "stdout",
     "output_type": "stream",
     "text": [
      "10\n"
     ]
    }
   ],
   "source": [
    "def test():\n",
    "    x = 10\n",
    "    def test_sub():\n",
    "        x = 20\n",
    "    test_sub()\n",
    "    print(x)\n",
    "test()"
   ]
  },
  {
   "cell_type": "code",
   "execution_count": 59,
   "metadata": {},
   "outputs": [
    {
     "name": "stdout",
     "output_type": "stream",
     "text": [
      "50\n",
      "300\n"
     ]
    }
   ],
   "source": [
    "def a():\n",
    "    x=10\n",
    "    y=100 # y는 여기다\n",
    "    def b():\n",
    "        x=20 #nonlocal은 가까운것을 기준으로 삼는다 고로 변수 x는 여기\n",
    "        def c():\n",
    "            nonlocal x\n",
    "            nonlocal y\n",
    "            x+=30\n",
    "            y+=200\n",
    "            print(x)\n",
    "            print(y)\n",
    "        c()\n",
    "    b()\n",
    "a()"
   ]
  },
  {
   "cell_type": "code",
   "execution_count": 60,
   "metadata": {
    "scrolled": true
   },
   "outputs": [
    {
     "name": "stdout",
     "output_type": "stream",
     "text": [
      "630\n",
      "300\n"
     ]
    }
   ],
   "source": [
    "x = 600\n",
    "y = 0\n",
    "\n",
    "def a():\n",
    "    x=10\n",
    "    y=100 \n",
    "    def b():\n",
    "        x=20 #global은 제일 바깥의 변수를 가져온다.\n",
    "        def c():\n",
    "            global x\n",
    "            nonlocal y\n",
    "            x+=30\n",
    "            y+=200\n",
    "            print(x)\n",
    "            print(y)\n",
    "        c()\n",
    "    b()\n",
    "a()"
   ]
  },
  {
   "cell_type": "code",
   "execution_count": 63,
   "metadata": {},
   "outputs": [
    {
     "name": "stdout",
     "output_type": "stream",
     "text": [
      "<function my_func.<locals>.hello at 0x00000214411A3DC0>\n",
      "hi~0 kang\n",
      "None\n"
     ]
    }
   ],
   "source": [
    "def my_func():\n",
    "    name = \"kang\"\n",
    "    def hello():\n",
    "        print(\"hi~0\", name)\n",
    "    return hello\n",
    "\n",
    "print(my_func())\n",
    "print(my_func()())"
   ]
  },
  {
   "cell_type": "code",
   "execution_count": 67,
   "metadata": {},
   "outputs": [
    {
     "name": "stdout",
     "output_type": "stream",
     "text": [
      "hi~0 kang\n",
      "hi~0 kim\n",
      "hi~0 lee\n"
     ]
    }
   ],
   "source": [
    "def my_func(name):\n",
    "    def hello():\n",
    "        print(\"hi~0\", name)\n",
    "    return hello\n",
    "\n",
    "f1 = my_func(\"kang\")\n",
    "f2 = my_func(\"kim\")\n",
    "f3 = my_func(\"lee\")\n",
    "\n",
    "\n",
    "\n",
    "f1()\n",
    "f2()\n",
    "f3()"
   ]
  },
  {
   "cell_type": "markdown",
   "metadata": {},
   "source": [
    "#### 연습문제 \n",
    "\n",
    "호출횟수를 세는 함수 만들기.  c를 호출 할 때마다 호출 횟수가 출력되도록 작성 \n",
    "\n",
    "```\n",
    "def counter():\n",
    "    i = 0\n",
    "    def count():\n",
    "                       \n",
    "        ...\n",
    "                       \n",
    " \n",
    "c = counter()\n",
    "for i in range(10):\n",
    "    print(c(), end=' ')\n",
    "\n",
    "```\n"
   ]
  },
  {
   "cell_type": "code",
   "execution_count": 1,
   "metadata": {},
   "outputs": [
    {
     "name": "stdout",
     "output_type": "stream",
     "text": [
      "1 2 3 4 5 6 7 8 9 10 "
     ]
    }
   ],
   "source": [
    "# 연습문제\n",
    "\n",
    "def counter():\n",
    "    i = 0\n",
    "    def count():\n",
    "        nonlocal i\n",
    "        i += 1\n",
    "        return i\n",
    "    return count\n",
    "\n",
    "c = counter()\n",
    "for i in range(10):\n",
    "    print(c(), end=' ')"
   ]
  },
  {
   "cell_type": "code",
   "execution_count": null,
   "metadata": {},
   "outputs": [],
   "source": []
  }
 ],
 "metadata": {
  "kernelspec": {
   "display_name": "Python 3",
   "language": "python",
   "name": "python3"
  },
  "language_info": {
   "codemirror_mode": {
    "name": "ipython",
    "version": 3
   },
   "file_extension": ".py",
   "mimetype": "text/x-python",
   "name": "python",
   "nbconvert_exporter": "python",
   "pygments_lexer": "ipython3",
   "version": "3.8.8"
  }
 },
 "nbformat": 4,
 "nbformat_minor": 1
}
