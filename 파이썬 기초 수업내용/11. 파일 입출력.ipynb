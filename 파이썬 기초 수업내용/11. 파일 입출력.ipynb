{
 "cells": [
  {
   "cell_type": "markdown",
   "metadata": {},
   "source": [
    "### 학습목표\n",
    "1. 파일 입출력에 대해 이해한다. \n",
    "1. 파일을 읽고 쓸 수 있다."
   ]
  },
  {
   "cell_type": "markdown",
   "metadata": {},
   "source": [
    "## **파일에 문자열 읽기, 쓰기**\n",
    "    + 파일에 문자열 쓰기 \n",
    "        1. 파일에 문자열을 쓸 때는 open 함수를 이용해서 파일객체를 얻어온다.\n",
    "        2. 얻어온 파일 객체에 wirte 메소드를 이용해서 문자열을 쓴다. \n",
    "        3. 모든 일이 끝나면 반드시 close 메소드를 이용해서 파일객체를 닫는다. "
   ]
  },
  {
   "cell_type": "code",
   "execution_count": 4,
   "metadata": {},
   "outputs": [
    {
     "name": "stdout",
     "output_type": "stream",
     "text": [
      "C:\\Users\\seo2\\Desktop\\한양대 파이썬\\PPL2201\\python\n"
     ]
    }
   ],
   "source": [
    "import os\n",
    "\n",
    "print(os.getcwd())"
   ]
  },
  {
   "cell_type": "code",
   "execution_count": null,
   "metadata": {},
   "outputs": [],
   "source": [
    "#경로이동 가능 \n",
    "cd c:\\temp"
   ]
  },
  {
   "cell_type": "code",
   "execution_count": 5,
   "metadata": {},
   "outputs": [
    {
     "name": "stdout",
     "output_type": "stream",
     "text": [
      "test\n"
     ]
    }
   ],
   "source": [
    "#주피터노트북에서 !명령어 로 운영체제 명령어 수행가능!!  \n",
    "#!type 파일명 텍스트파일내용 출력..  맥은 !cat 파일명 으로 가능 \n",
    "!type readme.txt"
   ]
  },
  {
   "cell_type": "markdown",
   "metadata": {},
   "source": [
    " + 파일 읽기\n",
    "      1. 파일에 문자열을 쓸 때는 open 함수를 이용해서 파일객체를 얻어온다.\n",
    "      2. 얻어온 파일 객체에 read 메소드를 이용해서 문자열을 쓴다. \n",
    "      3. 모든 일이 끝나면 반드시 close 메소드를 이용해서 파일객체를 닫는다. "
   ]
  },
  {
   "cell_type": "code",
   "execution_count": 8,
   "metadata": {},
   "outputs": [
    {
     "name": "stdout",
     "output_type": "stream",
     "text": [
      "test\n"
     ]
    }
   ],
   "source": [
    "t = open(\"readme.txt\", \"r\") # 읽기 모드로 열기\n",
    "\n",
    "text = t.read()\n",
    "t.close()\n",
    "\n",
    "print(text)\n"
   ]
  },
  {
   "cell_type": "code",
   "execution_count": 9,
   "metadata": {},
   "outputs": [],
   "source": [
    "f = open(\"myfile.txt\", \"w\")\n",
    "\n",
    "f.write(\"hi there~~~~~~~~ \\n welcome\")\n",
    "f.close()\n"
   ]
  },
  {
   "cell_type": "code",
   "execution_count": 15,
   "metadata": {},
   "outputs": [],
   "source": [
    "f = open(\"myfile.txt\", \"a+\") #뒤에 이어 붙이기\n",
    "\n",
    "f.write(\"\\n hi there~~~~~~~~ \\n welcome\")\n",
    "f.close()\n"
   ]
  },
  {
   "cell_type": "code",
   "execution_count": 16,
   "metadata": {},
   "outputs": [
    {
     "name": "stdout",
     "output_type": "stream",
     "text": [
      "hi there~~~~~~~~ \n",
      " welcomehi there~~~~~~~~ \n",
      " welcome\n",
      " hi there~~~~~~~~ \n",
      " welcome\n"
     ]
    }
   ],
   "source": [
    "!type myfile.txt"
   ]
  },
  {
   "cell_type": "markdown",
   "metadata": {},
   "source": [
    "파일 모드 종류\n",
    "\n",
    "r - 읽기모드 (디폴트)\n",
    "\n",
    "w - 쓰기모드, 파일이 있으면 모든 내용을 삭제\n",
    "\n",
    "x - 쓰기모드, 파일이 있으면 오류 발생\n",
    "\n",
    "a - 쓰기모드, 파일이 있으면 뒤에 내용을 추가\n",
    "\n",
    "+ - 읽기쓰기모드\n",
    "\n",
    "t - 텍스트 모드, 텍스트 문자 기록에 사용 (디폴트)\n",
    "\n",
    "b - 바이너리 모드, 바이트단위 데이터 기록에 사용\n",
    "<img src=\"027004.png\" width=\"400\" height=\"400\"/>\n",
    "<!-- ![파일모드](027004.png){: width=\"50%\" height=\"50%\"} -->"
   ]
  },
  {
   "cell_type": "markdown",
   "metadata": {},
   "source": [
    "#### **반복문을 이용해 파일 읽고 쓰기**\n",
    "    - 파일에 문자열 한 줄씩 쓰기\n"
   ]
  },
  {
   "cell_type": "code",
   "execution_count": 21,
   "metadata": {},
   "outputs": [],
   "source": [
    "f = open(\"text.txt\", \"w\")\n",
    "\n",
    "for num in range(1,10):\n",
    "    f.write(\"hello \\n\")\n",
    "f.close()"
   ]
  },
  {
   "cell_type": "code",
   "execution_count": 22,
   "metadata": {
    "scrolled": true
   },
   "outputs": [
    {
     "name": "stdout",
     "output_type": "stream",
     "text": [
      "hello \n",
      "hello \n",
      "hello \n",
      "hello \n",
      "hello \n",
      "hello \n",
      "hello \n",
      "hello \n",
      "hello \n"
     ]
    }
   ],
   "source": [
    "!type text.txt"
   ]
  },
  {
   "cell_type": "code",
   "execution_count": 1,
   "metadata": {},
   "outputs": [
    {
     "name": "stdout",
     "output_type": "stream",
     "text": [
      "2 x 1 = 2\n",
      "2 x 2 = 4\n",
      "2 x 3 = 6\n",
      "2 x 4 = 8\n",
      "2 x 5 = 10\n",
      "2 x 6 = 12\n",
      "2 x 7 = 14\n",
      "2 x 8 = 16\n",
      "2 x 9 = 18\n"
     ]
    }
   ],
   "source": [
    "for i in range(1, 10):  # 1부터 9까지\n",
    "    print(f'2 x {i} = {2*i}')"
   ]
  },
  {
   "cell_type": "code",
   "execution_count": 5,
   "metadata": {},
   "outputs": [
    {
     "name": "stdout",
     "output_type": "stream",
     "text": [
      "숫자를 입력하세요: 5\n",
      "1 X 5 = 5\n"
     ]
    }
   ],
   "source": [
    "def gugu(dan):\n",
    "    for i in range(1, 10):\n",
    "        result = print(\"{}\")\n",
    "\n",
    "              \n",
    "num = int(input(\"숫자를 입력하세요: \"))\n",
    "\n",
    "gugu(num)\n",
    "\n",
    "#f = open(\"gugudan.txt\", \"w\")\n",
    "\n",
    "#f.write(gugu(num))\n",
    "\n",
    "#f.close()\n",
    "\n"
   ]
  },
  {
   "cell_type": "markdown",
   "metadata": {},
   "source": [
    "- 리스트에 들어있는 문자열 파일에 쓰기 \n",
    "    - 파일객체.writelines(문자열리스트)"
   ]
  },
  {
   "cell_type": "code",
   "execution_count": 29,
   "metadata": {},
   "outputs": [
    {
     "name": "stdout",
     "output_type": "stream",
     "text": [
      "hellohipython\n"
     ]
    }
   ],
   "source": [
    "lines = [\"hello\", \"hi\", \"python\"]\n",
    "\n",
    "f = open(\"hello.txt\", \"w\")\n",
    "f.writelines(lines)\n",
    "f.close()\n",
    "\n",
    "!type hello.txt"
   ]
  },
  {
   "cell_type": "markdown",
   "metadata": {},
   "source": [
    "- 파일에서 문자열 한 줄씩 읽기\n",
    "    + **readline()**"
   ]
  },
  {
   "cell_type": "code",
   "execution_count": 30,
   "metadata": {},
   "outputs": [
    {
     "name": "stdout",
     "output_type": "stream",
     "text": [
      "(1, 'X', 5, '=', 5)\n"
     ]
    }
   ],
   "source": [
    "f = open(\"gugudan.txt\", \"r\")\n",
    "\n",
    "text = f.readline()\n",
    "f.close()\n",
    "print(text)"
   ]
  },
  {
   "cell_type": "markdown",
   "metadata": {},
   "source": [
    "- 파일의 내용을 한 줄씩 리스트로 가져오기.\n",
    "    + **readlines()**"
   ]
  },
  {
   "cell_type": "code",
   "execution_count": 35,
   "metadata": {},
   "outputs": [
    {
     "name": "stdout",
     "output_type": "stream",
     "text": [
      "['(1,', \"'X',\", '5,', \"'=',\", '5)']\n"
     ]
    }
   ],
   "source": [
    "f = open(\"gugudan.txt\", \"r\")\n",
    "\n",
    "while True:\n",
    "    txt = f.readline()\n",
    "    if not txt:\n",
    "        break\n",
    "    print(txt.split())\n",
    "f.close()\n"
   ]
  },
  {
   "cell_type": "code",
   "execution_count": 2,
   "metadata": {},
   "outputs": [],
   "source": [
    "##참고 \n",
    "#파일 객체는 이터레이터입니다. 따라서 변수 여러 개에 저장하는 언패킹(unpacking)도 가능합니다\n",
    "\n"
   ]
  },
  {
   "cell_type": "markdown",
   "metadata": {},
   "source": [
    "####  자동으로 file 객체를 닫아주는 with \n",
    "    - with 문의 구조\n",
    "    \n",
    "    ```\n",
    "    with open(파일이름, 파일모드) as 파일객체:\n",
    "        코드\n",
    "        \n",
    "    ``` "
   ]
  },
  {
   "cell_type": "code",
   "execution_count": null,
   "metadata": {},
   "outputs": [],
   "source": []
  },
  {
   "cell_type": "code",
   "execution_count": null,
   "metadata": {},
   "outputs": [],
   "source": []
  },
  {
   "cell_type": "markdown",
   "metadata": {},
   "source": [
    "#### 객체를 파일에 저장하는 pickle 모듈\n",
    "    - 파이썬 객체를 파일에 저장하는 과정을 피클링(pickling)이라고 한다.\n",
    "    - 파일에서 객체를 읽어오는 과정을 언피클링(unpickling)이라고 한다. "
   ]
  },
  {
   "cell_type": "markdown",
   "metadata": {},
   "source": [
    "- 파이썬 객체를 파일에 저장하기\n",
    "    +  pickle 모듈의 dump 메서드를 사용한다\n"
   ]
  },
  {
   "cell_type": "code",
   "execution_count": 44,
   "metadata": {
    "scrolled": true
   },
   "outputs": [
    {
     "name": "stdout",
     "output_type": "stream",
     "text": [
      "�\u0004�\u0015\u0000\u0000\u0000\u0000\u0000\u0000\u0000]�(�\u0001a뵆\u0001b뵆\u0001c뵆\u0001d봢.\n"
     ]
    }
   ],
   "source": [
    "import pickle\n",
    "\n",
    "my_list = [\"a\", \"b\", \"c\",\"d\"]\n",
    "\n",
    "with open(\"data.txt\", \"wb\") as f:\n",
    "    \n",
    "    pickle.dump(my_list,f)\n",
    "    \n",
    "!type data.txt"
   ]
  },
  {
   "cell_type": "code",
   "execution_count": 45,
   "metadata": {},
   "outputs": [
    {
     "name": "stdout",
     "output_type": "stream",
     "text": [
      "['a', 'b', 'c', 'd']\n"
     ]
    }
   ],
   "source": [
    "with open(\"data.txt\", \"rb\") as f:\n",
    "    data = pickle.load(f)\n",
    "    \n",
    "print(data)"
   ]
  },
  {
   "cell_type": "code",
   "execution_count": null,
   "metadata": {},
   "outputs": [],
   "source": [
    "with open('textfile.txt', 'r') as file:\n",
    "    contents = file.read()\n",
    "\n",
    "# 위 구문과 동일한 내용\n",
    "file = open('textfile.txt', 'r')\n",
    "contents = file.read()\n",
    "file.close()"
   ]
  },
  {
   "cell_type": "markdown",
   "metadata": {},
   "source": [
    "- 파일에서 파이썬객체 읽기\n",
    "    - pickle 모듈의 load를 사용한다. "
   ]
  },
  {
   "cell_type": "code",
   "execution_count": null,
   "metadata": {},
   "outputs": [],
   "source": []
  },
  {
   "cell_type": "markdown",
   "metadata": {},
   "source": [
    "파일 모드 종류\n",
    "\n",
    "r - 읽기모드 (디폴트)\n",
    "\n",
    "w - 쓰기모드, 파일이 있으면 모든 내용을 삭제\n",
    "\n",
    "x - 쓰기모드, 파일이 있으면 오류 발생\n",
    "\n",
    "a - 쓰기모드, 파일이 있으면 뒤에 내용을 추가\n",
    "\n",
    "+ - 읽기쓰기모드\n",
    "\n",
    "t - 텍스트 모드, 텍스트 문자 기록에 사용 (디폴트)\n",
    "\n",
    "b - 바이너리 모드, 바이트단위 데이터 기록에 사용\n",
    "\n",
    "![파일모드](027004.png)"
   ]
  },
  {
   "cell_type": "markdown",
   "metadata": {},
   "source": [
    "#### 연습문제 \n",
    "\n",
    "1. 단어를 10개 입력받아서 words.txt 파일에 저장하세요. \n",
    "\n",
    "2. 위에서 저장한 words.txt 파일에서 단어가 5자 이하인 단어의 개수를 출력하는 코드를 만들어 보세요. \n",
    "\n",
    "**가능하다면, 두 문제 모두 함수로 정의해 주세요**\n"
   ]
  },
  {
   "cell_type": "code",
   "execution_count": 46,
   "metadata": {},
   "outputs": [
    {
     "name": "stdout",
     "output_type": "stream",
     "text": [
      "하나\n",
      "둘\n",
      "셋\n"
     ]
    }
   ],
   "source": [
    "def get_words():\n",
    "    with open(\"words.txt\",\"w\") as file:\n",
    "        i = 0\n",
    "        while i < 3:\n",
    "            file.write(input()+\"\\n\")\n",
    "            i += 1\n",
    "            \n",
    "get_words()\n",
    "\n"
   ]
  },
  {
   "cell_type": "code",
   "execution_count": 47,
   "metadata": {},
   "outputs": [
    {
     "data": {
      "text/plain": [
       "3"
      ]
     },
     "execution_count": 47,
     "metadata": {},
     "output_type": "execute_result"
    }
   ],
   "source": [
    "def word_5():\n",
    "    with open(\"words.txt\", \"r\") as file:\n",
    "        lines = file.readline()\n",
    "    count = 0\n",
    "    \n",
    "    for txt in lines:\n",
    "        if len(txt) <= 5:\n",
    "            count += 1\n",
    "    return count\n",
    "                \n",
    "            "
   ]
  },
  {
   "cell_type": "code",
   "execution_count": 11,
   "metadata": {},
   "outputs": [
    {
     "name": "stdout",
     "output_type": "stream",
     "text": [
      "숫자를 입력하세요: 5\n",
      "['1', ' ', 'X', ' ', '5', ' ', '=', ' ', '5'] <class 'list'>\n"
     ]
    }
   ],
   "source": [
    "def gugu(dan):\n",
    "    \n",
    "    for i in range(1, 10):\n",
    "        result =\"{} X {} = {}\".format(i,dan,i*dan)\n",
    "        result_list = list(result)\n",
    "        \n",
    "        return result_list\n",
    "  \n",
    "\n",
    "num = int(input(\"숫자를 입력하세요: \"))\n",
    "\n",
    "print(gugu(num), type(gugu(num)))\n",
    "\n",
    "\n",
    "#f = open(\"gugudan.txt\", \"w\")\n",
    "\n",
    "#f.write(list(gugu(num)))\n",
    "\n",
    "#f.close()\n",
    "\n",
    "#!type gugudan.txt"
   ]
  }
 ],
 "metadata": {
  "anaconda-cloud": {},
  "kernelspec": {
   "display_name": "Python 3",
   "language": "python",
   "name": "python3"
  },
  "language_info": {
   "codemirror_mode": {
    "name": "ipython",
    "version": 3
   },
   "file_extension": ".py",
   "mimetype": "text/x-python",
   "name": "python",
   "nbconvert_exporter": "python",
   "pygments_lexer": "ipython3",
   "version": "3.8.8"
  },
  "latex_envs": {
   "LaTeX_envs_menu_present": false,
   "autoclose": false,
   "autocomplete": false,
   "bibliofile": "biblio.bib",
   "cite_by": "apalike",
   "current_citInitial": 1,
   "eqLabelWithNumbers": false,
   "eqNumInitial": 1,
   "hotkeys": {
    "equation": "Ctrl-E",
    "itemize": "Ctrl-I"
   },
   "labels_anchors": false,
   "latex_user_defs": false,
   "report_style_numbering": false,
   "user_envs_cfg": false
  },
  "nav_menu": {},
  "toc": {
   "nav_menu": {
    "height": "252px",
    "width": "252px"
   },
   "number_sections": false,
   "sideBar": true,
   "skip_h1_title": false,
   "toc_cell": false,
   "toc_position": {
    "height": "545px",
    "left": "0px",
    "right": "984px",
    "top": "111px",
    "width": "382px"
   },
   "toc_section_display": "block",
   "toc_window_display": false
  },
  "toc_position": {
   "height": "533px",
   "left": "0px",
   "right": "1045.17px",
   "top": "107px",
   "width": "207px"
  }
 },
 "nbformat": 4,
 "nbformat_minor": 1
}
