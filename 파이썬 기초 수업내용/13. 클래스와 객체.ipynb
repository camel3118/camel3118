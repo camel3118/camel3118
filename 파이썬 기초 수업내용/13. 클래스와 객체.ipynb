{
 "cells": [
  {
   "cell_type": "markdown",
   "metadata": {},
   "source": [
    "### 학습목표\n",
    " 1. 클래스와 오브젝트에 대해 이해한다. \n",
    " 2. 클래스를 정의하고 활용 할 수 있다."
   ]
  },
  {
   "cell_type": "markdown",
   "metadata": {},
   "source": [
    "#### **class란?**\n",
    " + 실세계의 것을 모델링하여 속성(attribute)와 행위(method)를 갖는 데이터 타입이다.\n",
    " + python에서의 string, int, list, dict.. 모두가 다 클래스로 존재한다.\n",
    " + 예를들어 학생이라는 클래스를 만든다면, 학생을 나타내는 속성과 학생이 행하는 행동을 함께 정의 할 수 있음\n",
    " + 사용하고자하는 데이터(변수)와 데이터를 다루는 연산(함수)를 하나로 캡슐화(encapsulation)하여 클래스로 표현한다.\n"
   ]
  },
  {
   "cell_type": "markdown",
   "metadata": {},
   "source": [
    "#### **object 란?**\n",
    " - 클래스로 생성되어 구체화된 객체(인스턴스)이다.\n",
    " - 파이썬의 모든 것(int, str, list..etc)은 객체(인스턴스)이다.\n",
    " - 실제로 class가 인스턴스화 되어 메모리에 상주하는 상태를 의미한다.\n",
    " - class가 설계도, object는 실제로 설계도를 기반으로 만든 것을 말한다.\n"
   ]
  },
  {
   "cell_type": "markdown",
   "metadata": {},
   "source": [
    "#### **class 선언하기**\n",
    "  - 객체를 생성하기 위해선 객체의 설계도가 되는 class를 미리 선언해야 한다."
   ]
  },
  {
   "cell_type": "code",
   "execution_count": null,
   "metadata": {},
   "outputs": [],
   "source": [
    "#클래스 이름은 첫글자가 대문자여야 하는게 관례이다. 다른 객체와의 구분을 위해.\n",
    "class Pen:\n",
    "    pass\n",
    "\n",
    "    "
   ]
  },
  {
   "cell_type": "code",
   "execution_count": 2,
   "metadata": {},
   "outputs": [
    {
     "data": {
      "text/plain": [
       "'이것은 펜 입니다.'"
      ]
     },
     "execution_count": 2,
     "metadata": {},
     "output_type": "execute_result"
    }
   ],
   "source": [
    "class Pen:\n",
    "    \"이것은 펜 입니다.\"\n",
    "    pass\n",
    "\n",
    "Pen.__doc__"
   ]
  },
  {
   "cell_type": "markdown",
   "metadata": {},
   "source": [
    "#### \\_\\_init__(self)\n",
    " + 생성자, 클래스 인스턴스가 생성될 때 호출된다. \n",
    " + self인자는 항상 첫번째에 오며 자기 자신을 가리키다.\n",
    " + 이름이 꼭 self일 필요는 없지만, 관례적으로 self로 사용한다.\n",
    " + 생성자 는 초기화와 같다. 객체들이 애초에 만들어 질때 어떠한 속성에 내가 원하는 값을 지정하여 자동으로 값을 출력되게 한다.\n",
    " + 생성자에서는 해당 클래스가 다루는 데이터를 정의한다.\n",
    "   - 이 데이터를 멤버 변수(member variable) 또는 속성(attribute)라고 함"
   ]
  },
  {
   "cell_type": "code",
   "execution_count": 4,
   "metadata": {},
   "outputs": [
    {
     "name": "stdout",
     "output_type": "stream",
     "text": [
      "검정 으로 씁니다.\n"
     ]
    }
   ],
   "source": [
    "class Pen:\n",
    "    color = \"검정\"\n",
    "    def write(self):\n",
    "        print(self.color,\"으로 씁니다.\")\n",
    "        \n",
    "\n",
    "black_pen = Pen()\n",
    "\n",
    "black_pen.color\n",
    "black_pen.write()"
   ]
  },
  {
   "cell_type": "code",
   "execution_count": 20,
   "metadata": {},
   "outputs": [
    {
     "name": "stdout",
     "output_type": "stream",
     "text": [
      "Pen 생성자 호출\n",
      "Pen 생성자 호출\n",
      "검정 으로 씁니다.\n",
      "빨강 으로 씁니다.\n"
     ]
    }
   ],
   "source": [
    "class Pen:\n",
    "    def __init__(self,color):\n",
    "        print(\"Pen 생성자 호출\")\n",
    "        self.color = color\n",
    "    def write(self):\n",
    "        print(self.color,\"으로 씁니다.\")    \n",
    "        \n",
    "        \n",
    "p = Pen(\"검정\")\n",
    "p2 = Pen(\"빨강\")\n",
    "\n",
    "p.write()\n",
    "p2.write()\n"
   ]
  },
  {
   "cell_type": "code",
   "execution_count": 25,
   "metadata": {},
   "outputs": [
    {
     "name": "stdout",
     "output_type": "stream",
     "text": [
      "이름을 입력하세요: 55\n",
      "나이를 입력하세요: 55\n",
      "내 이름은 55 입니다.\n"
     ]
    },
    {
     "data": {
      "text/plain": [
       "'55'"
      ]
     },
     "execution_count": 25,
     "metadata": {},
     "output_type": "execute_result"
    }
   ],
   "source": [
    "class Person:\n",
    "    def __init__(self,name,age=0): #생성자\n",
    "        self.name = name\n",
    "        self.age = age\n",
    "    def write(self):\n",
    "        print(\"내 이름은\", self.name, \"입니다.\")\n",
    "    \n",
    "        \n",
    "nam = Person(input(\"이름을 입력하세요: \"), input(\"나이를 입력하세요: \"))\n",
    "nam.write()\n",
    "nam.name\n",
    "nam.age"
   ]
  },
  {
   "cell_type": "markdown",
   "metadata": {},
   "source": [
    "#### **self**\n",
    " - 파이썬의 method는 항상 첫번째 인자로 self를 전달한다.\n",
    " - self는 현재 해당 메쏘드가 호출되는 객체 자신을 가리킨다.\n",
    " - 반드시 이름이 self일 필요는 없으나 관례적으로 self를 사용한다.\n",
    " - 위치는 항상 맨 첫번째 parameter이다.  "
   ]
  },
  {
   "cell_type": "code",
   "execution_count": 1,
   "metadata": {},
   "outputs": [],
   "source": [
    "#차의 이름과 속도 정보를 알려주는 info 라는 메소드를 정의해 보세요. \n",
    "#차가 인스턴스화 될때 이름과, 속도를 정할 수 있도록 생성자도 수정해 보세요. \n"
   ]
  },
  {
   "cell_type": "code",
   "execution_count": 27,
   "metadata": {},
   "outputs": [
    {
     "name": "stdout",
     "output_type": "stream",
     "text": [
      "차종을 입력하세요: aaa\n",
      "최대속도를 입력하세요: s22\n",
      "이 차의 이름은 aaa 이고, 현재 속도는 s22 입니다\n"
     ]
    }
   ],
   "source": [
    "class Car:\n",
    "    def __init__(self, name=\"None\", speed=\"0\"):\n",
    "        self.name = name\n",
    "        self.speed = speed\n",
    "    \n",
    "    def info(self):\n",
    "        print(\"이 차의 이름은 {} 이고, 현재 속도는 {} 입니다\".format(self.name,self.speed))             \n",
    "car_info = Car(input(\"차종을 입력하세요: \"), input(\"최대속도를 입력하세요: \"))\n",
    "car_info.info()"
   ]
  },
  {
   "cell_type": "markdown",
   "metadata": {},
   "source": [
    "#### **mehtod 정의**\n",
    " + 파이썬에서는 메서드의 첫번째 매개변수 이름은 관례적으로 self를 사용한다. \n",
    " + obj.method() 형태로 호출된다."
   ]
  },
  {
   "cell_type": "code",
   "execution_count": 42,
   "metadata": {},
   "outputs": [
    {
     "name": "stdout",
     "output_type": "stream",
     "text": [
      "숫자를 입력하세요: 5\n"
     ]
    },
    {
     "ename": "NameError",
     "evalue": "name 'num' is not defined",
     "output_type": "error",
     "traceback": [
      "\u001b[1;31m---------------------------------------------------------------------------\u001b[0m",
      "\u001b[1;31mNameError\u001b[0m                                 Traceback (most recent call last)",
      "\u001b[1;32m<ipython-input-42-6a14998002eb>\u001b[0m in \u001b[0;36m<module>\u001b[1;34m\u001b[0m\n\u001b[0;32m     26\u001b[0m \u001b[0mnu_ber\u001b[0m \u001b[1;33m=\u001b[0m \u001b[0mCounter\u001b[0m\u001b[1;33m(\u001b[0m\u001b[0minput\u001b[0m\u001b[1;33m(\u001b[0m\u001b[1;34m\"숫자를 입력하세요: \"\u001b[0m\u001b[1;33m)\u001b[0m\u001b[1;33m)\u001b[0m\u001b[1;33m\u001b[0m\u001b[1;33m\u001b[0m\u001b[0m\n\u001b[0;32m     27\u001b[0m \u001b[1;33m\u001b[0m\u001b[0m\n\u001b[1;32m---> 28\u001b[1;33m \u001b[0mnu_ber\u001b[0m\u001b[1;33m.\u001b[0m\u001b[0mupside\u001b[0m\u001b[1;33m(\u001b[0m\u001b[1;33m)\u001b[0m\u001b[1;33m\u001b[0m\u001b[1;33m\u001b[0m\u001b[0m\n\u001b[0m\u001b[0;32m     29\u001b[0m \u001b[0mnu_ber\u001b[0m\u001b[1;33m.\u001b[0m\u001b[0mdownside\u001b[0m\u001b[1;33m(\u001b[0m\u001b[1;33m)\u001b[0m\u001b[1;33m\u001b[0m\u001b[1;33m\u001b[0m\u001b[0m\n\u001b[0;32m     30\u001b[0m \u001b[0mnu_ber\u001b[0m\u001b[1;33m.\u001b[0m\u001b[0mzeroing\u001b[0m\u001b[1;33m(\u001b[0m\u001b[1;33m)\u001b[0m\u001b[1;33m\u001b[0m\u001b[1;33m\u001b[0m\u001b[0m\n",
      "\u001b[1;32m<ipython-input-42-6a14998002eb>\u001b[0m in \u001b[0;36mupside\u001b[1;34m(self)\u001b[0m\n\u001b[0;32m     12\u001b[0m \u001b[1;33m\u001b[0m\u001b[0m\n\u001b[0;32m     13\u001b[0m     \u001b[1;32mdef\u001b[0m \u001b[0mupside\u001b[0m\u001b[1;33m(\u001b[0m\u001b[0mself\u001b[0m\u001b[1;33m)\u001b[0m\u001b[1;33m:\u001b[0m\u001b[1;33m\u001b[0m\u001b[1;33m\u001b[0m\u001b[0m\n\u001b[1;32m---> 14\u001b[1;33m         \u001b[0mself\u001b[0m\u001b[1;33m.\u001b[0m\u001b[0mnum\u001b[0m \u001b[1;33m=\u001b[0m \u001b[0mnum\u001b[0m\u001b[1;33m+\u001b[0m\u001b[1;36m1\u001b[0m\u001b[1;33m\u001b[0m\u001b[1;33m\u001b[0m\u001b[0m\n\u001b[0m\u001b[0;32m     15\u001b[0m \u001b[1;33m\u001b[0m\u001b[0m\n\u001b[0;32m     16\u001b[0m     \u001b[1;32mdef\u001b[0m \u001b[0mdownside\u001b[0m\u001b[1;33m(\u001b[0m\u001b[0mself\u001b[0m\u001b[1;33m)\u001b[0m\u001b[1;33m:\u001b[0m\u001b[1;33m\u001b[0m\u001b[1;33m\u001b[0m\u001b[0m\n",
      "\u001b[1;31mNameError\u001b[0m: name 'num' is not defined"
     ]
    }
   ],
   "source": [
    "#Counter 라는 클래스를 정의하세요.  \n",
    "#멤버변수로 num 을 갖고 있고.   \n",
    "#num을 1씩 증가시키는 메소드, \n",
    "#num을 1씩 감소시키는 메소드, \n",
    "#num을 초기화(0)하는 메소드 \n",
    "#num의 현재 값을 알려주는 메소드를 정의하세요. \n",
    "\n",
    "\n",
    "class Counter:\n",
    "    def __init__(self,num=\"0\"):\n",
    "        self.num = num\n",
    "        \n",
    "    def upside(self):\n",
    "        self.num = num+1\n",
    "    \n",
    "    def downside(self):\n",
    "        self.num = num-1\n",
    "    \n",
    "    def zeroing(self):\n",
    "        self.num = num*0\n",
    "        \n",
    "    def present(self):\n",
    "        self.num = num\n",
    "\n",
    "        \n",
    "nu_ber = Counter(input(\"숫자를 입력하세요: \"))\n",
    "\n",
    "nu_ber.upside()\n",
    "nu_ber.downside()\n",
    "nu_ber.zeroing()\n",
    "nu_ber.present()"
   ]
  },
  {
   "cell_type": "code",
   "execution_count": 33,
   "metadata": {},
   "outputs": [
    {
     "ename": "AttributeError",
     "evalue": "'Book' object has no attribute 'name'",
     "output_type": "error",
     "traceback": [
      "\u001b[1;31m---------------------------------------------------------------------------\u001b[0m",
      "\u001b[1;31mAttributeError\u001b[0m                            Traceback (most recent call last)",
      "\u001b[1;32m<ipython-input-33-4dfcb5a4ac84>\u001b[0m in \u001b[0;36m<module>\u001b[1;34m\u001b[0m\n\u001b[0;32m      7\u001b[0m \u001b[1;33m\u001b[0m\u001b[0m\n\u001b[0;32m      8\u001b[0m \u001b[0mjava\u001b[0m \u001b[1;33m=\u001b[0m \u001b[0mBook\u001b[0m\u001b[1;33m(\u001b[0m\u001b[1;33m)\u001b[0m\u001b[1;33m\u001b[0m\u001b[1;33m\u001b[0m\u001b[0m\n\u001b[1;32m----> 9\u001b[1;33m \u001b[0mprint\u001b[0m\u001b[1;33m(\u001b[0m\u001b[0mjava\u001b[0m\u001b[1;33m.\u001b[0m\u001b[0mname\u001b[0m\u001b[1;33m)\u001b[0m\u001b[1;33m\u001b[0m\u001b[1;33m\u001b[0m\u001b[0m\n\u001b[0m",
      "\u001b[1;31mAttributeError\u001b[0m: 'Book' object has no attribute 'name'"
     ]
    }
   ],
   "source": [
    "class Book:\n",
    "    pass\n",
    "\n",
    "python = Book()\n",
    "python.name = \"코딩도장\"\n",
    "python.name\n",
    "\n",
    "java = Book()\n",
    "print(java.name)"
   ]
  },
  {
   "cell_type": "markdown",
   "metadata": {},
   "source": [
    "#### **비공개속성**\n"
   ]
  },
  {
   "cell_type": "code",
   "execution_count": 41,
   "metadata": {},
   "outputs": [
    {
     "name": "stdout",
     "output_type": "stream",
     "text": [
      "0\n",
      "seo\n",
      "변경불가\n"
     ]
    }
   ],
   "source": [
    "class Person:\n",
    "    def __init__(self,name,age=0):\n",
    "        self.__name = name # 비공개 속성\n",
    "        self.age = age\n",
    "    def getName(self): #비공개 속성을 보여주는 별도의 함수를 지정하여야 비공개 속성 조회 가능하다.\n",
    "        return self.__name\n",
    "\n",
    "    def setName(self,name):\n",
    "        if name == \"진달래\" :\n",
    "            print(\"변경불가\")\n",
    "        else:\n",
    "            self.__name = name\n",
    "oh = Person(\"seo\")\n",
    "\n",
    "#print(oh.__name) #비공개라 접근 불가\n",
    "print(oh.age)\n",
    "print(oh.getName())\n",
    "oh.setName(\"진달래\")"
   ]
  },
  {
   "cell_type": "code",
   "execution_count": null,
   "metadata": {},
   "outputs": [],
   "source": []
  },
  {
   "cell_type": "markdown",
   "metadata": {},
   "source": [
    "#### **클래스 속성 VS 인스턴스 속성**\n",
    "\n",
    "# 클래스 변수는 클래스 마다 하나만 만든다\n",
    "# 인스턴스 변수는 인스턴스가 나올 때 마다 공간이 만들어 진다"
   ]
  },
  {
   "cell_type": "code",
   "execution_count": 54,
   "metadata": {},
   "outputs": [
    {
     "name": "stdout",
     "output_type": "stream",
     "text": [
      "현대\n",
      "기아자동차\n",
      "현대\n"
     ]
    }
   ],
   "source": [
    "class Car:\n",
    "    제조사 = \"현대\"\n",
    "    def __init__(self):\n",
    "        self.name = \"None\"\n",
    "        self.speed = 0\n",
    "        \n",
    "# 파이썬은 클래스를 불러와서 선언하면 공간 하나를 따로 만들어 두기 때문에 그 변수를 이용하여\n",
    "# 클래스 값을 변경하면 임시로만 변경됨\n",
    "# 클래스 이름 자체를 불러와서 값을 변경하면 클래스 값이 변경된다.\n",
    "\n",
    "c = Car()\n",
    "c1 = Car()\n",
    "c2 = Car()\n",
    "c.제조사\n",
    "print(c.제조사)\n",
    "Car.제조사 = \"기아자동차\"\n",
    "\n",
    "print(c.제조사)\n",
    "print(Car.제조사)\n",
    "\n",
    "    "
   ]
  },
  {
   "cell_type": "code",
   "execution_count": 57,
   "metadata": {},
   "outputs": [
    {
     "name": "stdout",
     "output_type": "stream",
     "text": [
      "['candy']\n",
      "['book', 'pen']\n"
     ]
    }
   ],
   "source": [
    "class Person:\n",
    "    def __init__(self):\n",
    "        self.bag = []\n",
    "    def putBag(self,item):\n",
    "        self.bag.append(item)\n",
    "        \n",
    "kang = Person()\n",
    "kim = Person()\n",
    "\n",
    "kim.putBag(\"candy\")\n",
    "\n",
    "kang.putBag(\"book\")\n",
    "kang.putBag(\"pen\")\n",
    "\n",
    "print(kim.bag)\n",
    "print(kang.bag)"
   ]
  },
  {
   "cell_type": "markdown",
   "metadata": {},
   "source": [
    "#### **method type**\n",
    " - instance method - 객체로 호출된다. \n",
    "   - 메서드는 객체가 생성될때 만들어진다.  \n",
    " - class method(static method) - class로 호출\n",
    "   - 클래스 메서드의 경우 객체가 생성되기 전에 미리 생성됨으로 객체를 통해 호출하지 않는다.\n"
   ]
  },
  {
   "cell_type": "code",
   "execution_count": 58,
   "metadata": {},
   "outputs": [],
   "source": [
    "class Cal:\n",
    "    def add(self,a,b):\n",
    "        return a+b\n",
    "    def minus(self,a,b):\n",
    "        return a-b"
   ]
  },
  {
   "cell_type": "code",
   "execution_count": 59,
   "metadata": {},
   "outputs": [
    {
     "data": {
      "text/plain": [
       "3"
      ]
     },
     "execution_count": 59,
     "metadata": {},
     "output_type": "execute_result"
    }
   ],
   "source": [
    "c = Cal()\n",
    "c.add(1,2)"
   ]
  },
  {
   "cell_type": "code",
   "execution_count": 75,
   "metadata": {},
   "outputs": [],
   "source": [
    "class Cal:\n",
    "    def __init__(self,name):\n",
    "        self.name = name\n",
    "    @staticmethod\n",
    "    def add(a,b):\n",
    "        return a+b\n",
    "    @classmethod\n",
    "    def mul(cls,a,b):\n",
    "        print(\"mul\",cls.name)\n",
    "        return a*b\n",
    "    def minus(self,a,b):\n",
    "        print(self.name)\n",
    "        return a-b"
   ]
  },
  {
   "cell_type": "code",
   "execution_count": 76,
   "metadata": {},
   "outputs": [
    {
     "name": "stdout",
     "output_type": "stream",
     "text": [
      "kang\n"
     ]
    },
    {
     "data": {
      "text/plain": [
       "-1"
      ]
     },
     "execution_count": 76,
     "metadata": {},
     "output_type": "execute_result"
    }
   ],
   "source": [
    "Cal.add(1,2)\n",
    "c = Cal(\"kang\")\n",
    "\n",
    "c.minus(1,2)"
   ]
  },
  {
   "cell_type": "markdown",
   "metadata": {},
   "source": [
    " #### **Class Inheritance (상속)**\n",
    "  - 다른 클래스의 기능을 그대로 물려받을 수 있다.\n",
    "  - 기존 클래스에 기능 일부를 추가하거나, 변경하여 새로운 클래스를 정의한다.\n",
    "  - 코드를 재사용할 수 있게된다.\n",
    "  - 상속 받고자 하는 대상인 기존 클래스는 (Parent, Super, Base class 라고 부른다.)\n",
    "  - 상속 받는 새로운 클래스는(Child, Sub, Derived class 라고 부른다.)\n",
    "  - 의미적으로 is-a관계를 갖는다"
   ]
  },
  {
   "cell_type": "code",
   "execution_count": 3,
   "metadata": {},
   "outputs": [],
   "source": [
    "class Person:\n",
    "    def __init__(self):\n",
    "        self.__bag = []\n",
    "        self.name = \"None\"\n",
    "    def putBag(self,item):\n",
    "        self.__bag.append(item)\n",
    "        \n",
    "    def getBag(self):\n",
    "        return self.__bag\n",
    "    \n",
    "class Student(Person):\n",
    "    pass"
   ]
  },
  {
   "cell_type": "code",
   "execution_count": 7,
   "metadata": {
    "scrolled": true
   },
   "outputs": [
    {
     "name": "stdout",
     "output_type": "stream",
     "text": [
      "Kang\n"
     ]
    },
    {
     "data": {
      "text/plain": [
       "['candy']"
      ]
     },
     "execution_count": 7,
     "metadata": {},
     "output_type": "execute_result"
    }
   ],
   "source": [
    "s = Student()\n",
    "\n",
    "s.name = \"Kang\"\n",
    "\n",
    "s.putBag(\"candy\")\n",
    "\n",
    "print(s.name)\n",
    "\n",
    "s.getBag()"
   ]
  },
  {
   "cell_type": "code",
   "execution_count": 8,
   "metadata": {},
   "outputs": [
    {
     "name": "stdout",
     "output_type": "stream",
     "text": [
      "공부하다\n"
     ]
    }
   ],
   "source": [
    "class Student(Person):\n",
    "    def study(self):\n",
    "        print(\"공부하다\")\n",
    "        \n",
    "        \n",
    "kang = Student()\n",
    "kang.study()"
   ]
  },
  {
   "cell_type": "code",
   "execution_count": 17,
   "metadata": {},
   "outputs": [
    {
     "name": "stdout",
     "output_type": "stream",
     "text": [
      "Parent 생성자\n",
      "Child 생성자\n",
      "kang hyu 27\n"
     ]
    }
   ],
   "source": [
    "class Parent:\n",
    "    def __init__(self, name, age):\n",
    "        self.name = name\n",
    "        self.age = age\n",
    "        print(\"Parent 생성자\")\n",
    "    \n",
    "    def hello(self):\n",
    "        print(\"hello\")\n",
    "        \n",
    "class Child(Parent):\n",
    "    def __init__(self, name, age, schoolName):\n",
    "        super().__init__(name, age)\n",
    "        self.schoolName =  schoolName\n",
    "        print('Child 생성자')\n",
    "        \n",
    "\n",
    "        \n",
    "kang = Child(\"kang\", \"hyu\", 27)\n",
    "\n",
    "print(kang.name, kang.age, kang.schoolName)\n",
    "        \n",
    "\n"
   ]
  },
  {
   "cell_type": "markdown",
   "metadata": {},
   "source": [
    "#### **method override**\n",
    " - 부모 클래스의 method를 재정의(override)한다.\n",
    " - 하위 클래스(자식 클래스) 의 인스턴스로 호출시, 재정의된 메소드가 호출된다."
   ]
  },
  {
   "cell_type": "code",
   "execution_count": 20,
   "metadata": {},
   "outputs": [
    {
     "name": "stdout",
     "output_type": "stream",
     "text": [
      "Parent 생성자\n",
      "Child 생성자\n",
      "hello\n",
      "hi\n"
     ]
    }
   ],
   "source": [
    "class Child(Parent):\n",
    "    def __init__(self, name, age, schoolName):\n",
    "        super().__init__(name, age)\n",
    "        self.schoolName =  schoolName\n",
    "        print('Child 생성자')\n",
    "        \n",
    "    def hello(self):\n",
    "        super().hello()\n",
    "        print(\"hi\")\n",
    "\n",
    "        \n",
    "esther = Child(\"esther\", \"sss\", 20) \n",
    "esther.hello()"
   ]
  },
  {
   "cell_type": "markdown",
   "metadata": {},
   "source": [
    "#### super \n",
    " - 하위클래스(자식 클래스)에서 부모클래스의 method를 호출할 때 사용한다."
   ]
  },
  {
   "cell_type": "code",
   "execution_count": null,
   "metadata": {},
   "outputs": [],
   "source": []
  },
  {
   "cell_type": "markdown",
   "metadata": {},
   "source": [
    "### 다중상속"
   ]
  },
  {
   "cell_type": "code",
   "execution_count": 27,
   "metadata": {},
   "outputs": [
    {
     "name": "stdout",
     "output_type": "stream",
     "text": [
      "hello aaaa\n",
      "hello bbb\n",
      "[<class '__main__.D'>, <class '__main__.B'>, <class '__main__.C'>, <class '__main__.A'>, <class 'object'>]\n"
     ]
    }
   ],
   "source": [
    "class A:\n",
    "    def hello(self):\n",
    "        print(\"hello aaaa\")\n",
    "        \n",
    "\n",
    "    \n",
    "class B:\n",
    "    def hello(self):\n",
    "        print(\"hello bbb\") \n",
    "        \n",
    "\n",
    "class C(A):\n",
    "   # def hello(self):\n",
    "       # print(\"hello ccc\")\n",
    "        pass\n",
    "        \n",
    "test=C()\n",
    "test.hello()\n",
    "\n",
    "\n",
    "class D(B,C):\n",
    "    pass\n",
    "\n",
    "\n",
    "test2 = D()\n",
    "test2.hello()\n",
    "print(D.mro())\n",
    "\n",
    "# 다중상속시 (a,b) 와 같이 함수 속성을 정해주는 순서에 따라 중복값이 출력된다.\n",
    "# mro 실행문 맨 끝의 오브젝트는 제일 부모 클래스를 찾는 부분이다. 여기에도 해당되지 않으면 오류발생"
   ]
  },
  {
   "cell_type": "code",
   "execution_count": null,
   "metadata": {},
   "outputs": [],
   "source": []
  },
  {
   "cell_type": "markdown",
   "metadata": {},
   "source": [
    "#### **special method**\n",
    " - __로 시작 __로 끝나는 특수 함수다.\n",
    " - 해당 메쏘드들을 구현하면, 커스텀 객체에 여러가지 파이썬 내장 함수나 연산자를 적용 가능하다.\n",
    " - 오버라이딩 가능한 함수 목록은 아래 링크에서 참조 \n",
    "   - https://docs.python.org/3/reference/datamodel.html\n",
    "   - https://docs.python.org/3/reference/datamodel.html#object.__add__"
   ]
  },
  {
   "cell_type": "code",
   "execution_count": 31,
   "metadata": {},
   "outputs": [
    {
     "name": "stdout",
     "output_type": "stream",
     "text": [
      "__add__구현\n",
      "13\n"
     ]
    }
   ],
   "source": [
    "class Point:\n",
    "    def __init__(self,x,y):\n",
    "        self.x = x\n",
    "        self.y = y\n",
    "        \n",
    "    def __add__(self,p):\n",
    "        print(\"__add__구현\")\n",
    "        new_x = self.x+p.x\n",
    "        new_y = self.y +p.y\n",
    "        return Point(new_x,new_y)\n",
    "    \n",
    "    \n",
    "p1 = Point(2,3)\n",
    "p2 = Point(3,5)\n",
    "\n",
    "p3 = p1+ p2\n",
    "print(p3.x+p3.y)"
   ]
  },
  {
   "cell_type": "code",
   "execution_count": null,
   "metadata": {},
   "outputs": [],
   "source": []
  }
 ],
 "metadata": {
  "kernelspec": {
   "display_name": "Python 3",
   "language": "python",
   "name": "python3"
  },
  "language_info": {
   "codemirror_mode": {
    "name": "ipython",
    "version": 3
   },
   "file_extension": ".py",
   "mimetype": "text/x-python",
   "name": "python",
   "nbconvert_exporter": "python",
   "pygments_lexer": "ipython3",
   "version": "3.8.8"
  }
 },
 "nbformat": 4,
 "nbformat_minor": 1
}
