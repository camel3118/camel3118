{
 "cells": [
  {
   "cell_type": "code",
   "execution_count": 1,
   "id": "106eb3ab",
   "metadata": {},
   "outputs": [
    {
     "name": "stdout",
     "output_type": "stream",
     "text": [
      "[8.8, 8.9, 8.7, 9.2, 9.3, 9.7, 9.9, 9.5]\n"
     ]
    }
   ],
   "source": [
    "# 081\n",
    "\n",
    "scores = [8.8, 8.9, 8.7, 9.2, 9.3, 9.7, 9.9, 9.5, 7.8, 9.4]\n",
    "\n",
    "*valid_score, _,_ = scores\n",
    "\n",
    "print(valid_score)"
   ]
  },
  {
   "cell_type": "code",
   "execution_count": 2,
   "id": "32fb0f52",
   "metadata": {},
   "outputs": [
    {
     "name": "stdout",
     "output_type": "stream",
     "text": [
      "[8.7, 9.2, 9.3, 9.7, 9.9, 9.5, 7.8, 9.4]\n"
     ]
    }
   ],
   "source": [
    "# 082\n",
    "\n",
    "scores = [8.8, 8.9, 8.7, 9.2, 9.3, 9.7, 9.9, 9.5, 7.8, 9.4]\n",
    "\n",
    "a,b,*valid_score = scores\n",
    "\n",
    "print(valid_score)"
   ]
  },
  {
   "cell_type": "code",
   "execution_count": 3,
   "id": "004e9ed7",
   "metadata": {},
   "outputs": [
    {
     "name": "stdout",
     "output_type": "stream",
     "text": [
      "[8.9, 8.7, 9.2, 9.3, 9.7, 9.9, 9.5, 7.8]\n"
     ]
    }
   ],
   "source": [
    "# 083\n",
    "\n",
    "scores = [8.8, 8.9, 8.7, 9.2, 9.3, 9.7, 9.9, 9.5, 7.8, 9.4]\n",
    "\n",
    "a,*valid_score,b = scores\n",
    "\n",
    "print(valid_score)"
   ]
  },
  {
   "cell_type": "code",
   "execution_count": 4,
   "id": "bb6affe3",
   "metadata": {},
   "outputs": [
    {
     "name": "stdout",
     "output_type": "stream",
     "text": [
      "<class 'dict'>\n"
     ]
    }
   ],
   "source": [
    "#084\n",
    "temp = dict()\n",
    "\n",
    "print(type(temp))"
   ]
  },
  {
   "cell_type": "code",
   "execution_count": 5,
   "id": "0af91003",
   "metadata": {},
   "outputs": [
    {
     "name": "stdout",
     "output_type": "stream",
     "text": [
      "{'메로나': 1000, '폴라포': 1200, '빵빠레': 1800} <class 'dict'>\n"
     ]
    }
   ],
   "source": [
    "#085\n",
    "ice = {\"메로나\":1000, \"폴라포\":1200, \"빵빠레\":1800}\n",
    "\n",
    "print(ice, type(ice))"
   ]
  },
  {
   "cell_type": "code",
   "execution_count": 6,
   "id": "79851acc",
   "metadata": {},
   "outputs": [
    {
     "name": "stdout",
     "output_type": "stream",
     "text": [
      "{'메로나': 1000, '폴라포': 1200, '빵빠레': 1800, '죠스바': 1200, '월드콘': 1500} <class 'dict'>\n"
     ]
    }
   ],
   "source": [
    "#086\n",
    "ice[\"죠스바\"] = 1200\n",
    "ice[\"월드콘\"] = 1500\n",
    "\n",
    "print(ice, type(ice))"
   ]
  },
  {
   "cell_type": "code",
   "execution_count": 7,
   "id": "5d14b7b1",
   "metadata": {},
   "outputs": [
    {
     "name": "stdout",
     "output_type": "stream",
     "text": [
      "메로나 가격:  1000\n"
     ]
    }
   ],
   "source": [
    "#087\n",
    "\n",
    "print(\"메로나 가격: \", ice[\"메로나\"])\n",
    "#print(\"{} 가격: {}\".format(ice[key,0],ice[value,0]))"
   ]
  },
  {
   "cell_type": "code",
   "execution_count": 8,
   "id": "25e6807c",
   "metadata": {},
   "outputs": [
    {
     "name": "stdout",
     "output_type": "stream",
     "text": [
      "{'메로나': 1300, '폴라포': 1200, '빵빠레': 1800, '죠스바': 1200, '월드콘': 1500} <class 'dict'>\n"
     ]
    }
   ],
   "source": [
    "ice[\"메로나\"] = 1300\n",
    "\n",
    "print(ice, type(ice))"
   ]
  },
  {
   "cell_type": "code",
   "execution_count": 9,
   "id": "a19c80c8",
   "metadata": {},
   "outputs": [
    {
     "name": "stdout",
     "output_type": "stream",
     "text": [
      "{'폴라포': 1200, '빵빠레': 1800, '죠스바': 1200, '월드콘': 1500} <class 'dict'>\n"
     ]
    }
   ],
   "source": [
    "del ice[\"메로나\"]\n",
    "\n",
    "print(ice, type(ice))"
   ]
  },
  {
   "cell_type": "code",
   "execution_count": 10,
   "id": "04bdd803",
   "metadata": {},
   "outputs": [
    {
     "name": "stdout",
     "output_type": "stream",
     "text": [
      "{'메로나': [300, 20], '비비빅': [400, 3], '죠스바': [250, 100]} <class 'dict'>\n"
     ]
    }
   ],
   "source": [
    "# 091\n",
    "\n",
    "inventory = {\"메로나\":[300,20],\"비비빅\":[400,3], \"죠스바\":[250,100]}\n",
    "\n",
    "print(inventory, type(inventory))"
   ]
  },
  {
   "cell_type": "code",
   "execution_count": 11,
   "id": "bff47971",
   "metadata": {},
   "outputs": [
    {
     "name": "stdout",
     "output_type": "stream",
     "text": [
      "300 원\n"
     ]
    }
   ],
   "source": [
    "# 092\n",
    "\n",
    "print(inventory[\"메로나\"][0], \"원\")"
   ]
  },
  {
   "cell_type": "code",
   "execution_count": null,
   "id": "6a8b8331",
   "metadata": {},
   "outputs": [],
   "source": []
  },
  {
   "cell_type": "code",
   "execution_count": 12,
   "id": "7c27f72c",
   "metadata": {},
   "outputs": [
    {
     "name": "stdout",
     "output_type": "stream",
     "text": [
      "20 개\n"
     ]
    }
   ],
   "source": [
    "# 093\n",
    "\n",
    "print(inventory[\"메로나\"][1], \"개\")"
   ]
  },
  {
   "cell_type": "code",
   "execution_count": 13,
   "id": "0fa8c524",
   "metadata": {},
   "outputs": [
    {
     "name": "stdout",
     "output_type": "stream",
     "text": [
      "{'메로나': [300, 20], '비비빅': [400, 3], '죠스바': [250, 100], '월드콘': [500, 7]} <class 'dict'>\n"
     ]
    }
   ],
   "source": [
    "# 094\n",
    "\n",
    "inventory[\"월드콘\"] = [500, 7]\n",
    "\n",
    "print(inventory, type(inventory))"
   ]
  },
  {
   "cell_type": "code",
   "execution_count": 14,
   "id": "08ebc7b6",
   "metadata": {},
   "outputs": [
    {
     "name": "stdout",
     "output_type": "stream",
     "text": [
      "['메로나', '비비빅', '죠스바', '월드콘'] <class 'list'>\n"
     ]
    }
   ],
   "source": [
    "# 095\n",
    "\n",
    "a = list(inventory.keys())\n",
    "\n",
    "print(a,type(a))"
   ]
  },
  {
   "cell_type": "code",
   "execution_count": 15,
   "id": "34b3b639",
   "metadata": {},
   "outputs": [
    {
     "name": "stdout",
     "output_type": "stream",
     "text": [
      "[[300, 20], [400, 3], [250, 100], [500, 7]] <class 'list'>\n"
     ]
    }
   ],
   "source": [
    "# 096\n",
    "\n",
    "a = list(inventory.values())\n",
    "\n",
    "print(a,type(a))"
   ]
  },
  {
   "cell_type": "code",
   "execution_count": 16,
   "id": "305f8b1e",
   "metadata": {},
   "outputs": [],
   "source": [
    "# 097\n",
    "\n",
    "icecream = {'탱크보이': 1200, '폴라포': 1200, '빵빠레': 1800, '월드콘': 1500, '메로나': 1000}\n",
    "\n",
    "\n"
   ]
  },
  {
   "cell_type": "code",
   "execution_count": 17,
   "id": "208ffb60",
   "metadata": {},
   "outputs": [
    {
     "name": "stdout",
     "output_type": "stream",
     "text": [
      "{'탱크보이': 1200, '폴라포': 1200, '빵빠레': 1800, '월드콘': 1500, '메로나': 1000, '팥빙수': 2700, '아맛나': 1000} <class 'dict'>\n"
     ]
    }
   ],
   "source": [
    "# 098\n",
    "\n",
    "icecream = {'탱크보이': 1200, '폴라포': 1200, '빵빠레': 1800, '월드콘': 1500, '메로나': 1000}\n",
    "new_product = {'팥빙수':2700, '아맛나':1000}\n",
    "\n",
    "icecream.update(new_product)\n",
    "\n",
    "print(icecream, type(icecream))"
   ]
  },
  {
   "cell_type": "code",
   "execution_count": 18,
   "id": "f6d9b5c5",
   "metadata": {},
   "outputs": [
    {
     "name": "stdout",
     "output_type": "stream",
     "text": [
      "{'apple': 300, 'pear': 250, 'peach': 400}\n"
     ]
    }
   ],
   "source": [
    "# 099\n",
    "\n",
    "keys = (\"apple\", \"pear\", \"peach\")\n",
    "vals = (300, 250, 400)\n",
    "result = dict(zip(keys, vals))\n",
    "print(result)"
   ]
  },
  {
   "cell_type": "code",
   "execution_count": 19,
   "id": "4a6e2f51",
   "metadata": {},
   "outputs": [
    {
     "name": "stdout",
     "output_type": "stream",
     "text": [
      "숫자를 입력하세요: \n"
     ]
    },
    {
     "ename": "ValueError",
     "evalue": "invalid literal for int() with base 10: ''",
     "output_type": "error",
     "traceback": [
      "\u001b[1;31m---------------------------------------------------------------------------\u001b[0m",
      "\u001b[1;31mValueError\u001b[0m                                Traceback (most recent call last)",
      "\u001b[1;32m<ipython-input-19-e0bad550cd37>\u001b[0m in \u001b[0;36m<module>\u001b[1;34m\u001b[0m\n\u001b[0;32m      1\u001b[0m \u001b[1;31m# 112\u001b[0m\u001b[1;33m\u001b[0m\u001b[1;33m\u001b[0m\u001b[1;33m\u001b[0m\u001b[0m\n\u001b[0;32m      2\u001b[0m \u001b[1;33m\u001b[0m\u001b[0m\n\u001b[1;32m----> 3\u001b[1;33m \u001b[0ma\u001b[0m \u001b[1;33m=\u001b[0m \u001b[0mint\u001b[0m\u001b[1;33m(\u001b[0m\u001b[0minput\u001b[0m\u001b[1;33m(\u001b[0m\u001b[1;34m\"숫자를 입력하세요: \"\u001b[0m\u001b[1;33m)\u001b[0m\u001b[1;33m)\u001b[0m\u001b[1;33m\u001b[0m\u001b[1;33m\u001b[0m\u001b[0m\n\u001b[0m\u001b[0;32m      4\u001b[0m \u001b[1;33m\u001b[0m\u001b[0m\n\u001b[0;32m      5\u001b[0m \u001b[0mprint\u001b[0m\u001b[1;33m(\u001b[0m\u001b[0ma\u001b[0m\u001b[1;33m+\u001b[0m\u001b[1;36m10\u001b[0m\u001b[1;33m)\u001b[0m\u001b[1;33m\u001b[0m\u001b[1;33m\u001b[0m\u001b[0m\n",
      "\u001b[1;31mValueError\u001b[0m: invalid literal for int() with base 10: ''"
     ]
    }
   ],
   "source": [
    "# 112\n",
    "\n",
    "a = int(input(\"숫자를 입력하세요: \"))\n",
    "\n",
    "print(a+10)"
   ]
  },
  {
   "cell_type": "code",
   "execution_count": null,
   "id": "b82ae3e5",
   "metadata": {},
   "outputs": [],
   "source": [
    "# 113\n",
    "\n",
    "a = int(input(\"숫자를 입력하세요: \"))\n",
    "\n",
    "if a%2==1:\n",
    "    print(a, \"홀수 입니다\")\n",
    "    \n",
    "else:\n",
    "    print(a, \"짝수 입니다\")\n",
    "    \n",
    "    "
   ]
  },
  {
   "cell_type": "code",
   "execution_count": null,
   "id": "d5af4c5f",
   "metadata": {},
   "outputs": [],
   "source": [
    "# 114\n",
    "\n",
    "a = int(input(\"숫자를 입력하세요: \"))\n",
    "\n",
    "if a+20 > 255 :\n",
    "    print(255)\n",
    "else:\n",
    "    print(a+20)\n"
   ]
  },
  {
   "cell_type": "code",
   "execution_count": null,
   "id": "074ba9dd",
   "metadata": {},
   "outputs": [],
   "source": [
    "# 115\n",
    "\n",
    "a = int(input(\"숫자를 입력하세요: \"))\n",
    "\n",
    "\n",
    "    \n",
    "if 0<a<=255:\n",
    "    print(\"입력값: {}, 출력값: {}\".format(a, a-20))\n",
    "elif a<=0:\n",
    "    print(\"입력값: {}, 출력값: {}\".format(a,0))\n",
    "else:\n",
    "    print(\"입력값: {}, 출력값: {}\".format(a,255))\n",
    "    \n",
    "    \n",
    "\n"
   ]
  },
  {
   "cell_type": "code",
   "execution_count": null,
   "id": "c675f021",
   "metadata": {},
   "outputs": [],
   "source": [
    "# 117\n",
    "\n",
    "a = str(input(\"좋아하는 과일은?: \"))\n",
    "\n",
    "fruit = [\"사과\", \"포도\", \"홍시\"]\n",
    "\n",
    "if a in fruit:\n",
    "    print(\"정답입니다\")\n",
    "    \n",
    "else:\n",
    "    print(\"틀렸습니다\")\n",
    "    \n"
   ]
  },
  {
   "cell_type": "code",
   "execution_count": null,
   "id": "cdd4d559",
   "metadata": {},
   "outputs": [],
   "source": [
    "# 118\n",
    "\n",
    "warn_investment_list = [\"Microsoft\", \"Google\", \"Naver\", \"Kakao\", \"SAMSUNG\", \"LG\"]\n",
    "\n",
    "a = str(input(\"투자하실 종목명을 입력하세요: \"))\n",
    "\n",
    "if a in warn_investment_list:\n",
    "    print(\"투자 경고 종목입니다\")\n",
    "    \n",
    "else:\n",
    "    print(\"투자 경고 종목이 아닙니다\")"
   ]
  },
  {
   "cell_type": "code",
   "execution_count": null,
   "id": "fe4a089b",
   "metadata": {},
   "outputs": [],
   "source": [
    "# 119\n",
    "# in으로 딕셔너리 안의 키값과 대조할 수 있다.\n",
    "\n",
    "fruit = {\"봄\" : \"딸기\", \"여름\" : \"토마토\", \"가을\" : \"사과\"}\n",
    "\n",
    "a = str(input(\"좋아하는 계절을 입력하세요: \"))\n",
    "\n",
    "if a in fruit:\n",
    "    print(\"정답입니다\")\n",
    "    \n",
    "else:\n",
    "    print(\"틀렸습니다\")\n"
   ]
  },
  {
   "cell_type": "code",
   "execution_count": null,
   "id": "d33b7cfb",
   "metadata": {},
   "outputs": [],
   "source": [
    "# 120\n",
    "\n",
    "fruit = {\"봄\" : \"딸기\", \"여름\" : \"토마토\", \"가을\" : \"사과\"}\n",
    "\n",
    "a = str(input(\"좋아하는 과일을 입력하세요: \"))\n",
    "\n",
    "if a in fruit.values():\n",
    "    print(\"정답입니다\")\n",
    "    \n",
    "else:\n",
    "    print(\"틀렸습니다\")\n"
   ]
  },
  {
   "cell_type": "code",
   "execution_count": null,
   "id": "1d14bfcb",
   "metadata": {},
   "outputs": [],
   "source": [
    "# 122\n",
    "\n",
    "score = int(input(\"점수를 입력하세요: \"))\n",
    "\n",
    "if  80<score<101:\n",
    "    print(\"score: \",score)\n",
    "    print(\"grade is a\")\n",
    "elif 60<score<81:\n",
    "    \n",
    "    print(\"score: \",score)\n",
    "    print(\"grade is b\")\n",
    "elif 40<score<61:\n",
    "    print(\"score: \",score)\n",
    "    print(\"grade is c\")\n",
    "elif 21<score<41:\n",
    "    print(\"score: \",score)\n",
    "    print(\"grade is d\")  \n",
    "else:\n",
    "    print(\"fail\")\n",
    "\n"
   ]
  },
  {
   "cell_type": "code",
   "execution_count": null,
   "id": "bcab33f3",
   "metadata": {},
   "outputs": [],
   "source": [
    "# 126\n",
    "\n",
    "code_1 = input(\"우편번호 다섯자리를 입력하세요: \")\n",
    "\n",
    "zip_code = code_1[:3]\n",
    "\n",
    "if len(code_1)!=5:\n",
    "    print(\"잘못된 값을 입력하였습니다\")\n",
    "\n",
    "elif zip_code in [\"010\",\"011\",\"012\"]:\n",
    "    print(\"강북구\")\n",
    "elif zip_code in [\"013\",\"014\",\"015\"]:\n",
    "    print(\"도봉구\")\n",
    "elif zip_code in [\"016\",\"017\",\"018\",\"019\"]:\n",
    "    print(\"노원구\")\n",
    "else:\n",
    "    print(\"등록된 우편번호가 없습니다\")\n",
    "    \n",
    "\n"
   ]
  },
  {
   "cell_type": "code",
   "execution_count": 31,
   "id": "21d9fcad",
   "metadata": {},
   "outputs": [
    {
     "name": "stdout",
     "output_type": "stream",
     "text": [
      "주민등록번호(하이픈 포함)를 입력하세요: aaaaaa-aaaaaaa\n",
      "2잘못된 값을 입력하였습니다. 다시 입력하세요.: 111111-1111111\n",
      "\n",
      "정상 입력되었습니다\n",
      "111111-1111111 유효하지 않은 주민등록번호 입니다\n"
     ]
    }
   ],
   "source": [
    "# 129\n",
    "\n",
    "#주민등록번호 유효성 검사기\n",
    "\n",
    "first_regi = input(\"주민등록번호(하이픈 포함)를 입력하세요: \")\n",
    "\n",
    "\n",
    "\n",
    "while len(first_regi) != 14:\n",
    "    first_regi = input(\"1잘못된 값을 입력하였습니다. 다시 입력하세요: \")\n",
    "    \n",
    "\n",
    "\n",
    "while len(first_regi) == 14:\n",
    "    regi = first_regi.replace(\"-\",\"\")\n",
    "    #print(regi,type(regi))\n",
    "    try:\n",
    "        int(regi)\n",
    "        break\n",
    "    except:\n",
    "        if type(regi) == str:\n",
    "            first_regi = input(\"2잘못된 값을 입력하였습니다. 다시 입력하세요.: \")\n",
    "        else:\n",
    "            break\n",
    "    \n",
    "print()\n",
    "print(\"정상 입력되었습니다\")\n",
    "\n",
    "\n",
    "regi1 = list(map(int,regi))\n",
    "\n",
    "\n",
    "\n",
    "num1 = [2,3,4,5,6,7,8,9,2,3,4,5]\n",
    "\n",
    "\n",
    "\n",
    "i_result = []\n",
    "\n",
    "for i in regi1:\n",
    "    for j in num1:\n",
    "        i_result.append(i*j)\n",
    "\n",
    "        \n",
    "sum1 = sum(i_result)\n",
    "\n",
    "div1 = sum1/11\n",
    "\n",
    "n_result = div1-11\n",
    "\n",
    "if n_result == regi1[11:]:\n",
    "    print(first_regi, \"유효한 주민등록번호 입니다\",end=\"\\n\")\n",
    "else:\n",
    "    print(first_regi, \"유효하지 않은 주민등록번호 입니다\",end=\"\\n\")\n",
    "\n",
    "\n"
   ]
  }
 ],
 "metadata": {
  "kernelspec": {
   "display_name": "Python 3",
   "language": "python",
   "name": "python3"
  },
  "language_info": {
   "codemirror_mode": {
    "name": "ipython",
    "version": 3
   },
   "file_extension": ".py",
   "mimetype": "text/x-python",
   "name": "python",
   "nbconvert_exporter": "python",
   "pygments_lexer": "ipython3",
   "version": "3.8.8"
  }
 },
 "nbformat": 4,
 "nbformat_minor": 5
}
